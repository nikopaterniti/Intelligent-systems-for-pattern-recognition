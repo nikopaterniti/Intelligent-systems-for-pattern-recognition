{
  "nbformat": 4,
  "nbformat_minor": 0,
  "metadata": {
    "colab": {
      "provenance": [],
      "gpuType": "V100",
      "machine_shape": "hm"
    },
    "kernelspec": {
      "name": "python3",
      "display_name": "Python 3"
    },
    "language_info": {
      "name": "python"
    },
    "accelerator": "GPU"
  },
  "cells": [
    {
      "cell_type": "markdown",
      "source": [
        "# EXAM: INTELLIGENT SYSTEMS FOR PATTERN RECOGNITION\n",
        "PATERNITI BARBINO NIKO - MAT:(638257)\n",
        "\n",
        "**Coding Project N°7-Music generation**:\n",
        "Implement a music generation deep neural network integrating a variational auto-encoder approach with transformers.\n",
        "\n",
        "\n",
        "I used the paper https://towardsdatascience.com/how-to-generate-music-using-a-lstm-neural-network-in-keras-68786834d4c5 as inspiration and the relative code demonstration to better understand the task of music generation\n",
        "https://colab.research.google.com/drive/19TQqekOlnOSW36VCL8CPVEQKBBukmaEQ#scrollTo=DDOBVWULXfpz\n",
        "\n",
        "The following paper has been very useful and allowed me to understand some concepts used in this project\n",
        "https://colinraffel.com/publications/thesis.pdf"
      ],
      "metadata": {
        "id": "1o6zgxjD6rrc"
      }
    },
    {
      "cell_type": "markdown",
      "source": [
        "Importing the files from Drive\n"
      ],
      "metadata": {
        "id": "4bZRmGhB5an9"
      }
    },
    {
      "cell_type": "code",
      "source": [
        "from google.colab import drive\n",
        "drive.mount('/content/drive')"
      ],
      "metadata": {
        "id": "EbDMi2V333xG",
        "colab": {
          "base_uri": "https://localhost:8080/"
        },
        "outputId": "ede5cc2d-b6de-4b32-b99c-576cc1a07213"
      },
      "execution_count": 1,
      "outputs": [
        {
          "output_type": "stream",
          "name": "stdout",
          "text": [
            "Mounted at /content/drive\n"
          ]
        }
      ]
    },
    {
      "cell_type": "markdown",
      "source": [
        "Download the Clean Lakh MIDI Dataset\n",
        "https://colinraffel.com/projects/lmd/\n"
      ],
      "metadata": {
        "id": "j8tKRvXN5e_S"
      }
    },
    {
      "cell_type": "code",
      "source": [
        "!wget http://hog.ee.columbia.edu/craffel/lmd/clean_midi.tar.gz\n",
        "!tar -xzvf \"/content/clean_midi.tar.gz\" -C \"/content/drive/MyDrive/ISPR_PRJ/midi_songs/dataset\""
      ],
      "metadata": {
        "id": "yKRPQGngt4nb",
        "colab": {
          "base_uri": "https://localhost:8080/"
        },
        "outputId": "785c092d-e8de-4666-9122-4eea010184bb"
      },
      "execution_count": null,
      "outputs": [
        {
          "output_type": "stream",
          "name": "stdout",
          "text": [
            "--2023-09-04 10:28:21--  http://hog.ee.columbia.edu/craffel/lmd/clean_midi.tar.gz\n",
            "Resolving hog.ee.columbia.edu (hog.ee.columbia.edu)... 128.59.66.5\n",
            "Connecting to hog.ee.columbia.edu (hog.ee.columbia.edu)|128.59.66.5|:80... connected.\n",
            "HTTP request sent, awaiting response... 200 OK\n",
            "Length: 234283029 (223M) [application/x-gzip]\n",
            "Saving to: ‘clean_midi.tar.gz’\n",
            "\n",
            "clean_midi.tar.gz     8%[>                   ]  18.67M  9.33MB/s               ^C\n",
            "clean_midi/\n",
            "clean_midi/Hugues Aufray/\n",
            "tar: clean_midi/Hugues Aufray: Cannot mkdir: Read-only file system\n",
            "clean_midi/Hugues Aufray/Celine.mid\n",
            "tar: clean_midi/Hugues Aufray: Cannot mkdir: Read-only file system\n",
            "tar: clean_midi/Hugues Aufray/Celine.mid: Cannot open: No such file or directory\n",
            "clean_midi/Linda Ronstadt/\n",
            "tar: clean_midi/Linda Ronstadt: Cannot mkdir: Read-only file system\n",
            "clean_midi/Linda Ronstadt/When Will I Be Loved.mid\n",
            "tar: clean_midi/Linda Ronstadt: Cannot mkdir: Read-only file system\n",
            "tar: clean_midi/Linda Ronstadt/When Will I Be Loved.mid: Cannot open: No such file or directory\n",
            "clean_midi/Linda Ronstadt/You're No Good.mid\n",
            "tar: clean_midi/Linda Ronstadt: Cannot mkdir: Read-only file system\n",
            "tar: clean_midi/Linda Ronstadt/You're No Good.mid: Cannot open: No such file or directory\n",
            "clean_midi/Linda Ronstadt/Different Drum.mid\n",
            "tar: clean_midi/Linda Ronstadt: Cannot mkdir: Read-only file system\n",
            "tar: clean_midi/Linda Ronstadt/Different Drum.mid: Cannot open: No such file or directory\n",
            "clean_midi/Linda Ronstadt/Just One Look.mid\n",
            "tar: clean_midi/Linda Ronstadt: Cannot mkdir: Read-only file system\n",
            "tar: clean_midi/Linda Ronstadt/Just One Look.mid: Cannot open: No such file or directory\n",
            "clean_midi/Linda Ronstadt/Blue Bayou.mid\n",
            "tar: clean_midi/Linda Ronstadt: Cannot mkdir: Read-only file system\n",
            "tar: clean_midi/Linda Ronstadt/Blue Bayou.mid: Cannot open: No such file or directory\n",
            "clean_midi/Cabrel Francis/\n",
            "clean_midi/Cabrel Francis/Repondez-moi.mid\n",
            "tar: clean_midi/Cabrel Francis/Repondez-moi.mid: Cannot open: File exists\n",
            "clean_midi/Cabrel Francis/Encore et encore.mid\n",
            "tar: clean_midi/Cabrel Francis/Encore et encore.mid: Cannot open: File exists\n",
            "clean_midi/Cabrel Francis/Question d'equilibre.mid\n",
            "tar: clean_midi/Cabrel Francis/Question d'equilibre.mid: Cannot open: File exists\n",
            "clean_midi/Cabrel Francis/Si tu la croises un jour.mid\n",
            "tar: clean_midi/Cabrel Francis/Si tu la croises un jour.mid: Cannot open: File exists\n",
            "clean_midi/Cabrel Francis/L'encre de tes yeux.mid\n",
            "tar: clean_midi/Cabrel Francis/L'encre de tes yeux.mid: Cannot open: File exists\n",
            "clean_midi/Cabrel Francis/Quelqu'un de l'Interieur.mid\n",
            "tar: clean_midi/Cabrel Francis/Quelqu'un de l'Interieur.mid: Cannot open: File exists\n",
            "clean_midi/Salvatore Adamo/\n",
            "tar: clean_midi/Cabrel Francis: Cannot change mode to rwxr-xr-x: Operation not permitted\n",
            "tar: clean_midi/Salvatore Adamo: Cannot mkdir: Read-only file system\n",
            "clean_midi/Salvatore Adamo/Les Filles du bord de mer.1.mid\n",
            "tar: clean_midi/Salvatore Adamo: Cannot mkdir: Read-only file system\n",
            "tar: clean_midi/Salvatore Adamo/Les Filles du bord de mer.1.mid: Cannot open: No such file or directory\n",
            "clean_midi/Salvatore Adamo/Une larme aux nuages.mid\n",
            "tar: clean_midi/Salvatore Adamo: Cannot mkdir: Read-only file system\n",
            "tar: clean_midi/Salvatore Adamo/Une larme aux nuages.mid: Cannot open: No such file or directory\n",
            "clean_midi/Salvatore Adamo/Vous permettez Monsieur ?.mid\n",
            "tar: clean_midi/Salvatore Adamo: Cannot mkdir: Read-only file system\n",
            "tar: clean_midi/Salvatore Adamo/Vous permettez Monsieur ?.mid: Cannot open: No such file or directory\n",
            "clean_midi/Salvatore Adamo/Sans toi, ma mie.mid\n",
            "tar: clean_midi/Salvatore Adamo: Cannot mkdir: Read-only file system\n",
            "tar: clean_midi/Salvatore Adamo/Sans toi, ma mie.mid: Cannot open: No such file or directory\n",
            "clean_midi/Salvatore Adamo/C'est ma vie.1.mid\n",
            "tar: clean_midi/Salvatore Adamo: Cannot mkdir: Read-only file system\n",
            "tar: clean_midi/Salvatore Adamo/C'est ma vie.1.mid: Cannot open: No such file or directory\n",
            "clean_midi/Salvatore Adamo/Une meche de cheveux.mid\n",
            "tar: clean_midi/Salvatore Adamo: Cannot mkdir: Read-only file system\n",
            "tar: clean_midi/Salvatore Adamo/Une meche de cheveux.mid: Cannot open: No such file or directory\n",
            "clean_midi/Salvatore Adamo/Les Filles du bord de mer.mid\n",
            "tar: clean_midi/Salvatore Adamo: Cannot mkdir: Read-only file system\n",
            "tar: clean_midi/Salvatore Adamo/Les Filles du bord de mer.mid: Cannot open: No such file or directory\n",
            "clean_midi/Salvatore Adamo/C'est ma vie.mid\n",
            "tar: clean_midi/Salvatore Adamo: Cannot mkdir: Read-only file system\n",
            "tar: clean_midi/Salvatore Adamo/C'est ma vie.mid: Cannot open: No such file or directory\n",
            "clean_midi/Salvatore Adamo/Une meche de cheveux.1.mid\n",
            "tar: clean_midi/Salvatore Adamo: Cannot mkdir: Read-only file system\n",
            "tar: clean_midi/Salvatore Adamo/Une meche de cheveux.1.mid: Cannot open: No such file or directory\n",
            "clean_midi/Salvatore Adamo/A Votre Bon Coeur.mid\n",
            "tar: clean_midi/Salvatore Adamo: Cannot mkdir: Read-only file system\n",
            "tar: clean_midi/Salvatore Adamo/A Votre Bon Coeur.mid: Cannot open: No such file or directory\n",
            "clean_midi/Donna Hightower/\n",
            "clean_midi/Donna Hightower/This World Today is a Mess.mid\n",
            "tar: clean_midi/Donna Hightower/This World Today is a Mess.mid: Cannot open: File exists\n",
            "clean_midi/Peter de Koning/\n",
            "tar: clean_midi/Donna Hightower: Cannot change mode to rwxr-xr-x: Operation not permitted\n",
            "tar: clean_midi/Peter de Koning: Cannot mkdir: Read-only file system\n",
            "clean_midi/Peter de Koning/Het Is Altijd Lente in de Ogen Van de Tandartsassistente.mid\n",
            "tar: clean_midi/Peter de Koning: Cannot mkdir: Read-only file system\n",
            "tar: clean_midi/Peter de Koning/Het Is Altijd Lente in de Ogen Van de Tandartsassistente.mid: Cannot open: No such file or directory\n",
            "clean_midi/Love Unlimited Orchestra/\n",
            "tar: clean_midi/Love Unlimited Orchestra: Cannot mkdir: Read-only file system\n",
            "clean_midi/Love Unlimited Orchestra/I'm So Glad That I'm a Woman.mid\n",
            "tar: clean_midi/Love Unlimited Orchestra: Cannot mkdir: Read-only file system\n",
            "tar: clean_midi/Love Unlimited Orchestra/I'm So Glad That I'm a Woman.mid: Cannot open: No such file or directory\n",
            "clean_midi/Love Unlimited Orchestra/Love Theme.mid\n",
            "tar: clean_midi/Love Unlimited Orchestra: Cannot mkdir: Read-only file system\n",
            "tar: clean_midi/Love Unlimited Orchestra/Love Theme.mid: Cannot open: No such file or directory\n",
            "clean_midi/Glenn Medeiros/\n",
            "clean_midi/Glenn Medeiros/Long and Lasting Love (Once in a Lifetime).mid\n",
            "tar: clean_midi/Glenn Medeiros/Long and Lasting Love (Once in a Lifetime).mid: Cannot open: File exists\n",
            "clean_midi/ARMSTRONG LOUIS/\n",
            "tar: clean_midi/Glenn Medeiros: Cannot change mode to rwxr-xr-x: Operation not permitted\n",
            "tar: clean_midi/ARMSTRONG LOUIS: Cannot mkdir: Read-only file system\n",
            "clean_midi/ARMSTRONG LOUIS/(What a) Wonderful World.mid\n",
            "tar: clean_midi/ARMSTRONG LOUIS: Cannot mkdir: Read-only file system\n",
            "tar: clean_midi/ARMSTRONG LOUIS/(What a) Wonderful World.mid: Cannot open: No such file or directory\n",
            "clean_midi/ARMSTRONG LOUIS/La Vie en rose.mid\n",
            "tar: clean_midi/ARMSTRONG LOUIS: Cannot mkdir: Read-only file system\n",
            "tar: clean_midi/ARMSTRONG LOUIS/La Vie en rose.mid: Cannot open: No such file or directory\n",
            "clean_midi/ARMSTRONG LOUIS/Hello, Dolly!.mid\n",
            "tar: clean_midi/ARMSTRONG LOUIS: Cannot mkdir: Read-only file system\n",
            "tar: clean_midi/ARMSTRONG LOUIS/Hello, Dolly!.mid: Cannot open: No such file or directory\n",
            "clean_midi/ARMSTRONG LOUIS/C'est si bon.mid\n",
            "tar: clean_midi/ARMSTRONG LOUIS: Cannot mkdir: Read-only file system\n",
            "tar: clean_midi/ARMSTRONG LOUIS/C'est si bon.mid: Cannot open: No such file or directory\n",
            "clean_midi/ARMSTRONG LOUIS/(What a) Wonderful World.1.mid\n",
            "tar: clean_midi/ARMSTRONG LOUIS: Cannot mkdir: Read-only file system\n",
            "tar: clean_midi/ARMSTRONG LOUIS/(What a) Wonderful World.1.mid: Cannot open: No such file or directory\n",
            "clean_midi/The Beach Boys/\n",
            "tar: clean_midi/The Beach Boys: Cannot mkdir: Read-only file system\n",
            "clean_midi/The Beach Boys/Little Deuce Coupe.mid\n",
            "tar: clean_midi/The Beach Boys: Cannot mkdir: Read-only file system\n",
            "tar: clean_midi/The Beach Boys/Little Deuce Coupe.mid: Cannot open: No such file or directory\n",
            "clean_midi/The Beach Boys/Fun, Fun, Fun.2.mid\n",
            "tar: clean_midi/The Beach Boys: Cannot mkdir: Read-only file system\n",
            "tar: clean_midi/The Beach Boys/Fun, Fun, Fun.2.mid: Cannot open: No such file or directory\n",
            "clean_midi/The Beach Boys/I Know There's an Answer.mid\n",
            "tar: clean_midi/The Beach Boys: Cannot mkdir: Read-only file system\n",
            "tar: clean_midi/The Beach Boys/I Know There's an Answer.mid: Cannot open: No such file or directory\n",
            "clean_midi/The Beach Boys/Wipe Out.mid\n",
            "tar: clean_midi/The Beach Boys: Cannot mkdir: Read-only file system\n",
            "tar: clean_midi/The Beach Boys/Wipe Out.mid: Cannot open: No such file or directory\n",
            "clean_midi/The Beach Boys/Wonderful.mid\n",
            "tar: clean_midi/The Beach Boys: Cannot mkdir: Read-only file system\n",
            "tar: clean_midi/The Beach Boys/Wonderful.mid: Cannot open: No such file or directory\n",
            "clean_midi/The Beach Boys/Good Vibrations.1.mid\n",
            "tar: clean_midi/The Beach Boys: Cannot mkdir: Read-only file system\n",
            "tar: clean_midi/The Beach Boys/Good Vibrations.1.mid: Cannot open: No such file or directory\n",
            "clean_midi/The Beach Boys/Sloop John 'B'.mid\n",
            "tar: clean_midi/The Beach Boys: Cannot mkdir: Read-only file system\n",
            "tar: clean_midi/The Beach Boys/Sloop John 'B'.mid: Cannot open: No such file or directory\n",
            "clean_midi/The Beach Boys/Help Me Rhonda.2.mid\n",
            "tar: clean_midi/The Beach Boys: Cannot mkdir: Read-only file system\n",
            "tar: clean_midi/The Beach Boys/Help Me Rhonda.2.mid: Cannot open: No such file or directory\n",
            "clean_midi/The Beach Boys/California Girls.1.mid\n",
            "tar: clean_midi/The Beach Boys: Cannot mkdir: Read-only file system\n",
            "tar: clean_midi/The Beach Boys/California Girls.1.mid: Cannot open: No such file or directory\n",
            "clean_midi/The Beach Boys/Wouldn't It Be Nice.4.mid\n",
            "tar: clean_midi/The Beach Boys: Cannot mkdir: Read-only file system\n",
            "tar: clean_midi/The Beach Boys/Wouldn't It Be Nice.4.mid: Cannot open: No such file or directory\n",
            "clean_midi/The Beach Boys/Wouldn't It Be Nice.1.mid\n",
            "tar: clean_midi/The Beach Boys: Cannot mkdir: Read-only file system\n",
            "tar: clean_midi/The Beach Boys/Wouldn't It Be Nice.1.mid: Cannot open: No such file or directory\n",
            "clean_midi/The Beach Boys/California Girls.2.mid\n",
            "tar: clean_midi/The Beach Boys: Cannot mkdir: Read-only file system\n",
            "tar: clean_midi/The Beach Boys/California Girls.2.mid: Cannot open: No such file or directory\n",
            "clean_midi/The Beach Boys/I Get Around.mid\n",
            "tar: clean_midi/The Beach Boys: Cannot mkdir: Read-only file system\n",
            "tar: clean_midi/The Beach Boys/I Get Around.mid: Cannot open: No such file or directory\n",
            "clean_midi/The Beach Boys/Help Me Rhonda.1.mid\n",
            "tar: clean_midi/The Beach Boys: Cannot mkdir: Read-only file system\n",
            "tar: clean_midi/The Beach Boys/Help Me Rhonda.1.mid: Cannot open: No such file or directory\n",
            "clean_midi/The Beach Boys/The Beach Boys Medley.mid\n",
            "tar: clean_midi/The Beach Boys: Cannot mkdir: Read-only file system\n",
            "tar: clean_midi/The Beach Boys/The Beach Boys Medley.mid: Cannot open: No such file or directory\n",
            "clean_midi/The Beach Boys/I Get Around.2.mid\n",
            "tar: clean_midi/The Beach Boys: Cannot mkdir: Read-only file system\n",
            "tar: clean_midi/The Beach Boys/I Get Around.2.mid: Cannot open: No such file or directory\n",
            "clean_midi/The Beach Boys/Surf's Up.mid\n",
            "tar: clean_midi/The Beach Boys: Cannot mkdir: Read-only file system\n",
            "tar: clean_midi/The Beach Boys/Surf's Up.mid: Cannot open: No such file or directory\n",
            "clean_midi/The Beach Boys/Surfin' Safari.1.mid\n",
            "tar: clean_midi/The Beach Boys: Cannot mkdir: Read-only file system\n",
            "tar: clean_midi/The Beach Boys/Surfin' Safari.1.mid: Cannot open: No such file or directory\n",
            "clean_midi/The Beach Boys/Wipe Out.1.mid\n",
            "tar: clean_midi/The Beach Boys: Cannot mkdir: Read-only file system\n",
            "tar: clean_midi/The Beach Boys/Wipe Out.1.mid: Cannot open: No such file or directory\n",
            "clean_midi/The Beach Boys/Kokomo.3.mid\n",
            "tar: clean_midi/The Beach Boys: Cannot mkdir: Read-only file system\n",
            "tar: clean_midi/The Beach Boys/Kokomo.3.mid: Cannot open: No such file or directory\n",
            "clean_midi/The Beach Boys/Barbara Ann.2.mid\n",
            "tar: clean_midi/The Beach Boys: Cannot mkdir: Read-only file system\n",
            "tar: clean_midi/The Beach Boys/Barbara Ann.2.mid: Cannot open: No such file or directory\n",
            "clean_midi/The Beach Boys/Surfin' Safari.mid\n",
            "tar: clean_midi/The Beach Boys: Cannot mkdir: Read-only file system\n",
            "tar: clean_midi/The Beach Boys/Surfin' Safari.mid: Cannot open: No such file or directory\n",
            "clean_midi/The Beach Boys/Anna Lee, the Healer.mid\n",
            "tar: clean_midi/The Beach Boys: Cannot mkdir: Read-only file system\n",
            "tar: clean_midi/The Beach Boys/Anna Lee, the Healer.mid: Cannot open: No such file or directory\n",
            "clean_midi/The Beach Boys/Don't Worry Baby.mid\n",
            "tar: clean_midi/The Beach Boys: Cannot mkdir: Read-only file system\n",
            "tar: clean_midi/The Beach Boys/Don't Worry Baby.mid: Cannot open: No such file or directory\n",
            "clean_midi/The Beach Boys/Good Vibrations.4.mid\n",
            "tar: clean_midi/The Beach Boys: Cannot mkdir: Read-only file system\n",
            "tar: clean_midi/The Beach Boys/Good Vibrations.4.mid: Cannot open: No such file or directory\n",
            "clean_midi/The Beach Boys/Surfer Girl.3.mid\n",
            "tar: clean_midi/The Beach Boys: Cannot mkdir: Read-only file system\n",
            "tar: clean_midi/The Beach Boys/Surfer Girl.3.mid: Cannot open: No such file or directory\n",
            "clean_midi/The Beach Boys/Surfer Girl.1.mid\n",
            "tar: clean_midi/The Beach Boys: Cannot mkdir: Read-only file system\n",
            "tar: clean_midi/The Beach Boys/Surfer Girl.1.mid: Cannot open: No such file or directory\n",
            "clean_midi/The Beach Boys/Wipeout.1.mid\n",
            "tar: clean_midi/The Beach Boys: Cannot mkdir: Read-only file system\n",
            "tar: clean_midi/The Beach Boys/Wipeout.1.mid: Cannot open: No such file or directory\n",
            "clean_midi/The Beach Boys/God Only Knows.1.mid\n",
            "tar: clean_midi/The Beach Boys: Cannot mkdir: Read-only file system\n",
            "tar: clean_midi/The Beach Boys/God Only Knows.1.mid: Cannot open: No such file or directory\n",
            "clean_midi/The Beach Boys/Here Today.mid\n",
            "tar: clean_midi/The Beach Boys: Cannot mkdir: Read-only file system\n",
            "tar: clean_midi/The Beach Boys/Here Today.mid: Cannot open: No such file or directory\n",
            "clean_midi/The Beach Boys/I Get Around.3.mid\n",
            "tar: clean_midi/The Beach Boys: Cannot mkdir: Read-only file system\n",
            "tar: clean_midi/The Beach Boys/I Get Around.3.mid: Cannot open: No such file or directory\n",
            "clean_midi/The Beach Boys/Kokomo.2.mid\n",
            "tar: clean_midi/The Beach Boys: Cannot mkdir: Read-only file system\n",
            "tar: clean_midi/The Beach Boys/Kokomo.2.mid: Cannot open: No such file or directory\n",
            "clean_midi/The Beach Boys/In My Room.mid\n",
            "tar: clean_midi/The Beach Boys: Cannot mkdir: Read-only file system\n",
            "tar: clean_midi/The Beach Boys/In My Room.mid: Cannot open: No such file or directory\n",
            "clean_midi/The Beach Boys/Fun, Fun, Fun.5.mid\n",
            "tar: clean_midi/The Beach Boys: Cannot mkdir: Read-only file system\n",
            "tar: clean_midi/The Beach Boys/Fun, Fun, Fun.5.mid: Cannot open: No such file or directory\n",
            "clean_midi/The Beach Boys/Help Me, Ronda.mid\n",
            "tar: clean_midi/The Beach Boys: Cannot mkdir: Read-only file system\n",
            "tar: clean_midi/The Beach Boys/Help Me, Ronda.mid: Cannot open: No such file or directory\n",
            "clean_midi/The Beach Boys/Surfin USA.2.mid\n",
            "tar: clean_midi/The Beach Boys: Cannot mkdir: Read-only file system\n",
            "tar: clean_midi/The Beach Boys/Surfin USA.2.mid: Cannot open: No such file or directory\n",
            "clean_midi/The Beach Boys/Good Vibrations.8.mid\n",
            "tar: clean_midi/The Beach Boys: Cannot mkdir: Read-only file system\n",
            "tar: clean_midi/The Beach Boys/Good Vibrations.8.mid: Cannot open: No such file or directory\n",
            "clean_midi/The Beach Boys/Sloop John 'B'.1.mid\n",
            "tar: clean_midi/The Beach Boys: Cannot mkdir: Read-only file system\n",
            "tar: clean_midi/The Beach Boys/Sloop John 'B'.1.mid: Cannot open: No such file or directory\n",
            "clean_midi/The Beach Boys/Surfin USA.mid\n",
            "tar: clean_midi/The Beach Boys: Cannot mkdir: Read-only file system\n",
            "tar: clean_midi/The Beach Boys/Surfin USA.mid: Cannot open: No such file or directory\n",
            "clean_midi/The Beach Boys/Surfer Girl.2.mid\n",
            "tar: clean_midi/The Beach Boys: Cannot mkdir: Read-only file system\n",
            "tar: clean_midi/The Beach Boys/Surfer Girl.2.mid: Cannot open: No such file or directory\n",
            "clean_midi/The Beach Boys/Caroline No.mid\n",
            "tar: clean_midi/The Beach Boys: Cannot mkdir: Read-only file system\n",
            "tar: clean_midi/The Beach Boys/Caroline No.mid: Cannot open: No such file or directory\n",
            "clean_midi/The Beach Boys/Good Vibrations.mid\n",
            "tar: clean_midi/The Beach Boys: Cannot mkdir: Read-only file system\n",
            "tar: clean_midi/The Beach Boys/Good Vibrations.mid: Cannot open: No such file or directory\n",
            "clean_midi/The Beach Boys/Sail On Sailor.mid\n",
            "tar: clean_midi/The Beach Boys: Cannot mkdir: Read-only file system\n",
            "tar: clean_midi/The Beach Boys/Sail On Sailor.mid: Cannot open: No such file or directory\n",
            "clean_midi/The Beach Boys/Fun, Fun, Fun.1.mid\n",
            "tar: clean_midi/The Beach Boys: Cannot mkdir: Read-only file system\n",
            "tar: clean_midi/The Beach Boys/Fun, Fun, Fun.1.mid: Cannot open: No such file or directory\n",
            "clean_midi/The Beach Boys/Please Let Me Wonder.mid\n",
            "tar: clean_midi/The Beach Boys: Cannot mkdir: Read-only file system\n",
            "tar: clean_midi/The Beach Boys/Please Let Me Wonder.mid: Cannot open: No such file or directory\n",
            "clean_midi/The Beach Boys/Barbara Ann.mid\n",
            "tar: clean_midi/The Beach Boys: Cannot mkdir: Read-only file system\n",
            "tar: clean_midi/The Beach Boys/Barbara Ann.mid: Cannot open: No such file or directory\n",
            "clean_midi/The Beach Boys/California Girls.mid\n",
            "tar: clean_midi/The Beach Boys: Cannot mkdir: Read-only file system\n",
            "tar: clean_midi/The Beach Boys/California Girls.mid: Cannot open: No such file or directory\n",
            "clean_midi/The Beach Boys/Good Vibrations.6.mid\n",
            "tar: clean_midi/The Beach Boys: Cannot mkdir: Read-only file system\n",
            "tar: clean_midi/The Beach Boys/Good Vibrations.6.mid: Cannot open: No such file or directory\n",
            "clean_midi/The Beach Boys/Dance Dance Dance.mid\n",
            "tar: clean_midi/The Beach Boys: Cannot mkdir: Read-only file system\n",
            "tar: clean_midi/The Beach Boys/Dance Dance Dance.mid: Cannot open: No such file or directory\n",
            "clean_midi/The Beach Boys/Good Vibrations.3.mid\n",
            "tar: clean_midi/The Beach Boys: Cannot mkdir: Read-only file system\n",
            "tar: clean_midi/The Beach Boys/Good Vibrations.3.mid: Cannot open: No such file or directory\n",
            "clean_midi/The Beach Boys/Surfin USA.4.mid\n",
            "tar: clean_midi/The Beach Boys: Cannot mkdir: Read-only file system\n",
            "tar: clean_midi/The Beach Boys/Surfin USA.4.mid: Cannot open: No such file or directory\n",
            "clean_midi/The Beach Boys/Heroes and Villains.mid\n",
            "tar: clean_midi/The Beach Boys: Cannot mkdir: Read-only file system\n",
            "tar: clean_midi/The Beach Boys/Heroes and Villains.mid: Cannot open: No such file or directory\n",
            "clean_midi/The Beach Boys/God Only Knows.mid\n",
            "tar: clean_midi/The Beach Boys: Cannot mkdir: Read-only file system\n",
            "tar: clean_midi/The Beach Boys/God Only Knows.mid: Cannot open: No such file or directory\n",
            "clean_midi/The Beach Boys/Sloop John 'B'.2.mid\n",
            "tar: clean_midi/The Beach Boys: Cannot mkdir: Read-only file system\n",
            "tar: clean_midi/The Beach Boys/Sloop John 'B'.2.mid: Cannot open: No such file or directory\n",
            "clean_midi/The Beach Boys/Surfin USA.3.mid\n",
            "tar: clean_midi/The Beach Boys: Cannot mkdir: Read-only file system\n",
            "tar: clean_midi/The Beach Boys/Surfin USA.3.mid: Cannot open: No such file or directory\n",
            "clean_midi/The Beach Boys/Wouldn't It Be Nice.3.mid\n",
            "tar: clean_midi/The Beach Boys: Cannot mkdir: Read-only file system\n",
            "tar: clean_midi/The Beach Boys/Wouldn't It Be Nice.3.mid: Cannot open: No such file or directory\n",
            "clean_midi/The Beach Boys/Surfin USA.1.mid\n",
            "tar: clean_midi/The Beach Boys: Cannot mkdir: Read-only file system\n",
            "tar: clean_midi/The Beach Boys/Surfin USA.1.mid: Cannot open: No such file or directory\n",
            "clean_midi/The Beach Boys/Do It Again.mid\n",
            "tar: clean_midi/The Beach Boys: Cannot mkdir: Read-only file system\n",
            "tar: clean_midi/The Beach Boys/Do It Again.mid: Cannot open: No such file or directory\n",
            "clean_midi/The Beach Boys/Good Vibrations.7.mid\n",
            "tar: clean_midi/The Beach Boys: Cannot mkdir: Read-only file system\n",
            "tar: clean_midi/The Beach Boys/Good Vibrations.7.mid: Cannot open: No such file or directory\n",
            "clean_midi/The Beach Boys/Heroes and Villains.1.mid\n",
            "tar: clean_midi/The Beach Boys: Cannot mkdir: Read-only file system\n",
            "tar: clean_midi/The Beach Boys/Heroes and Villains.1.mid: Cannot open: No such file or directory\n",
            "clean_midi/The Beach Boys/Help Me Rhonda.mid\n",
            "tar: clean_midi/The Beach Boys: Cannot mkdir: Read-only file system\n",
            "tar: clean_midi/The Beach Boys/Help Me Rhonda.mid: Cannot open: No such file or directory\n",
            "clean_midi/The Beach Boys/Barbara Ann.3.mid\n",
            "tar: clean_midi/The Beach Boys: Cannot mkdir: Read-only file system\n",
            "tar: clean_midi/The Beach Boys/Barbara Ann.3.mid: Cannot open: No such file or directory\n",
            "clean_midi/The Beach Boys/Don't Talk (Put Your Head on My Shoulder).mid\n",
            "tar: clean_midi/The Beach Boys: Cannot mkdir: Read-only file system\n",
            "tar: clean_midi/The Beach Boys/Don't Talk (Put Your Head on My Shoulder).mid: Cannot open: No such file or directory\n",
            "clean_midi/The Beach Boys/Fun, Fun, Fun.4.mid\n",
            "tar: clean_midi/The Beach Boys: Cannot mkdir: Read-only file system\n",
            "tar: clean_midi/The Beach Boys/Fun, Fun, Fun.4.mid: Cannot open: No such file or directory\n",
            "clean_midi/The Beach Boys/Wipe Out.2.mid\n",
            "tar: clean_midi/The Beach Boys: Cannot mkdir: Read-only file system\n",
            "tar: clean_midi/The Beach Boys/Wipe Out.2.mid: Cannot open: No such file or directory\n",
            "clean_midi/The Beach Boys/I Get Around.1.mid\n",
            "tar: clean_midi/The Beach Boys: Cannot mkdir: Read-only file system\n",
            "tar: clean_midi/The Beach Boys/I Get Around.1.mid: Cannot open: No such file or directory\n",
            "clean_midi/The Beach Boys/Wouldn't It Be Nice.mid\n",
            "tar: clean_midi/The Beach Boys: Cannot mkdir: Read-only file system\n",
            "tar: clean_midi/The Beach Boys/Wouldn't It Be Nice.mid: Cannot open: No such file or directory\n",
            "clean_midi/The Beach Boys/God Only Knows.2.mid\n",
            "tar: clean_midi/The Beach Boys: Cannot mkdir: Read-only file system\n",
            "tar: clean_midi/The Beach Boys/God Only Knows.2.mid: Cannot open: No such file or directory\n",
            "clean_midi/The Beach Boys/Surfer Girl.mid\n",
            "tar: clean_midi/The Beach Boys: Cannot mkdir: Read-only file system\n",
            "tar: clean_midi/The Beach Boys/Surfer Girl.mid: Cannot open: No such file or directory\n",
            "clean_midi/The Beach Boys/Sloop John 'B'.3.mid\n",
            "tar: clean_midi/The Beach Boys: Cannot mkdir: Read-only file system\n",
            "tar: clean_midi/The Beach Boys/Sloop John 'B'.3.mid: Cannot open: No such file or directory\n",
            "clean_midi/The Beach Boys/Good Vibrations.5.mid\n",
            "tar: clean_midi/The Beach Boys: Cannot mkdir: Read-only file system\n",
            "tar: clean_midi/The Beach Boys/Good Vibrations.5.mid: Cannot open: No such file or directory\n",
            "clean_midi/The Beach Boys/Kokomo.mid\n",
            "tar: clean_midi/The Beach Boys: Cannot mkdir: Read-only file system\n",
            "tar: clean_midi/The Beach Boys/Kokomo.mid: Cannot open: No such file or directory\n",
            "clean_midi/The Beach Boys/Good Vibrations.2.mid\n",
            "tar: clean_midi/The Beach Boys: Cannot mkdir: Read-only file system\n",
            "tar: clean_midi/The Beach Boys/Good Vibrations.2.mid: Cannot open: No such file or directory\n",
            "clean_midi/The Beach Boys/Little Deuce Coupe.1.mid\n",
            "tar: clean_midi/The Beach Boys: Cannot mkdir: Read-only file system\n",
            "tar: clean_midi/The Beach Boys/Little Deuce Coupe.1.mid: Cannot open: No such file or directory\n",
            "clean_midi/The Beach Boys/Wipeout.mid\n",
            "tar: clean_midi/The Beach Boys: Cannot mkdir: Read-only file system\n",
            "tar: clean_midi/The Beach Boys/Wipeout.mid: Cannot open: No such file or directory\n",
            "clean_midi/The Beach Boys/Barbara Ann.1.mid\n",
            "tar: clean_midi/The Beach Boys: Cannot mkdir: Read-only file system\n",
            "tar: clean_midi/The Beach Boys/Barbara Ann.1.mid: Cannot open: No such file or directory\n",
            "clean_midi/The Beach Boys/Help Me Rhonda.3.mid\n",
            "tar: clean_midi/The Beach Boys: Cannot mkdir: Read-only file system\n",
            "tar: clean_midi/The Beach Boys/Help Me Rhonda.3.mid: Cannot open: No such file or directory\n",
            "clean_midi/The Beach Boys/Good Vibrations.9.mid\n",
            "tar: clean_midi/The Beach Boys: Cannot mkdir: Read-only file system\n",
            "tar: clean_midi/The Beach Boys/Good Vibrations.9.mid: Cannot open: No such file or directory\n",
            "clean_midi/The Beach Boys/You Still Believe in Me.mid\n",
            "tar: clean_midi/The Beach Boys: Cannot mkdir: Read-only file system\n",
            "tar: clean_midi/The Beach Boys/You Still Believe in Me.mid: Cannot open: No such file or directory\n",
            "clean_midi/The Beach Boys/Don't Worry Baby.1.mid\n",
            "tar: clean_midi/The Beach Boys: Cannot mkdir: Read-only file system\n",
            "tar: clean_midi/The Beach Boys/Don't Worry Baby.1.mid: Cannot open: No such file or directory\n",
            "clean_midi/The Beach Boys/I'm Waiting for the Day.mid\n",
            "tar: clean_midi/The Beach Boys: Cannot mkdir: Read-only file system\n",
            "tar: clean_midi/The Beach Boys/I'm Waiting for the Day.mid: Cannot open: No such file or directory\n",
            "clean_midi/The Beach Boys/Cool, Cool Water.mid\n",
            "tar: clean_midi/The Beach Boys: Cannot mkdir: Read-only file system\n",
            "tar: clean_midi/The Beach Boys/Cool, Cool Water.mid: Cannot open: No such file or directory\n",
            "clean_midi/The Beach Boys/Wouldn't It Be Nice.2.mid\n",
            "tar: clean_midi/The Beach Boys: Cannot mkdir: Read-only file system\n",
            "tar: clean_midi/The Beach Boys/Wouldn't It Be Nice.2.mid: Cannot open: No such file or directory\n",
            "clean_midi/The Beach Boys/Fun, Fun, Fun.3.mid\n",
            "tar: clean_midi/The Beach Boys: Cannot mkdir: Read-only file system\n",
            "tar: clean_midi/The Beach Boys/Fun, Fun, Fun.3.mid: Cannot open: No such file or directory\n",
            "clean_midi/The Beach Boys/I Just Wasn't Made for These Times.mid\n",
            "tar: clean_midi/The Beach Boys: Cannot mkdir: Read-only file system\n",
            "tar: clean_midi/The Beach Boys/I Just Wasn't Made for These Times.mid: Cannot open: No such file or directory\n",
            "clean_midi/The Beach Boys/Please Let Me Wonder.1.mid\n",
            "tar: clean_midi/The Beach Boys: Cannot mkdir: Read-only file system\n",
            "tar: clean_midi/The Beach Boys/Please Let Me Wonder.1.mid: Cannot open: No such file or directory\n",
            "clean_midi/The Beach Boys/Kokomo.1.mid\n",
            "tar: clean_midi/The Beach Boys: Cannot mkdir: Read-only file system\n",
            "tar: clean_midi/The Beach Boys/Kokomo.1.mid: Cannot open: No such file or directory\n",
            "clean_midi/The Beach Boys/Fun, Fun, Fun.mid\n",
            "tar: clean_midi/The Beach Boys: Cannot mkdir: Read-only file system\n",
            "tar: clean_midi/The Beach Boys/Fun, Fun, Fun.mid: Cannot open: No such file or directory\n",
            "clean_midi/The Beach Boys/Little Saint Nick.mid\n",
            "tar: clean_midi/The Beach Boys: Cannot mkdir: Read-only file system\n",
            "tar: clean_midi/The Beach Boys/Little Saint Nick.mid: Cannot open: No such file or directory\n",
            "clean_midi/McCoys/\n",
            "tar: clean_midi/McCoys: Cannot mkdir: Read-only file system\n",
            "clean_midi/McCoys/Hang on Sloopy.mid\n",
            "tar: clean_midi/McCoys: Cannot mkdir: Read-only file system\n",
            "tar: clean_midi/McCoys/Hang on Sloopy.mid: Cannot open: No such file or directory\n",
            "clean_midi/Gianni Bella/\n",
            "tar: clean_midi/Gianni Bella: Cannot mkdir: Read-only file system\n",
            "clean_midi/Gianni Bella/Mi domando.mid\n",
            "tar: clean_midi/Gianni Bella: Cannot mkdir: Read-only file system\n",
            "tar: clean_midi/Gianni Bella/Mi domando.mid: Cannot open: No such file or directory\n",
            "clean_midi/Gianni Bella/Dolce uragano.mid\n",
            "tar: clean_midi/Gianni Bella: Cannot mkdir: Read-only file system\n",
            "tar: clean_midi/Gianni Bella/Dolce uragano.mid: Cannot open: No such file or directory\n",
            "clean_midi/Gianni Bella/Non si puo morire dentro.mid\n",
            "tar: clean_midi/Gianni Bella: Cannot mkdir: Read-only file system\n",
            "tar: clean_midi/Gianni Bella/Non si puo morire dentro.mid: Cannot open: No such file or directory\n",
            "clean_midi/Gianni Bella/Questo amore non si tocca.mid\n",
            "tar: clean_midi/Gianni Bella: Cannot mkdir: Read-only file system\n",
            "tar: clean_midi/Gianni Bella/Questo amore non si tocca.mid: Cannot open: No such file or directory\n",
            "clean_midi/Skylark/\n",
            "tar: clean_midi/Skylark: Cannot mkdir: Read-only file system\n",
            "clean_midi/Skylark/Wildflower.mid\n",
            "tar: clean_midi/Skylark: Cannot mkdir: Read-only file system\n",
            "tar: clean_midi/Skylark/Wildflower.mid: Cannot open: No such file or directory\n",
            "clean_midi/Carnes Kim/\n",
            "tar: clean_midi/Carnes Kim: Cannot mkdir: Read-only file system\n",
            "clean_midi/Carnes Kim/Bette Davis Eyes.mid\n",
            "tar: clean_midi/Carnes Kim: Cannot mkdir: Read-only file system\n",
            "tar: clean_midi/Carnes Kim/Bette Davis Eyes.mid: Cannot open: No such file or directory\n",
            "clean_midi/Jay & The Americans/\n",
            "tar: clean_midi/Jay & The Americans: Cannot mkdir: Read-only file system\n",
            "clean_midi/Jay & The Americans/Come a Little Bit Closer.mid\n",
            "tar: clean_midi/Jay & The Americans: Cannot mkdir: Read-only file system\n",
            "tar: clean_midi/Jay & The Americans/Come a Little Bit Closer.mid: Cannot open: No such file or directory\n",
            "clean_midi/Jay & The Americans/Let's Lock the Door.mid\n",
            "tar: clean_midi/Jay & The Americans: Cannot mkdir: Read-only file system\n",
            "tar: clean_midi/Jay & The Americans/Let's Lock the Door.mid: Cannot open: No such file or directory\n",
            "clean_midi/Jay & The Americans/Cara Mia.mid\n",
            "tar: clean_midi/Jay & The Americans: Cannot mkdir: Read-only file system\n",
            "tar: clean_midi/Jay & The Americans/Cara Mia.mid: Cannot open: No such file or directory\n",
            "clean_midi/Jay & The Americans/This Magic Moment.mid\n",
            "tar: clean_midi/Jay & The Americans: Cannot mkdir: Read-only file system\n",
            "tar: clean_midi/Jay & The Americans/This Magic Moment.mid: Cannot open: No such file or directory\n",
            "clean_midi/Jay & The Americans/This Magic Moment.1.mid\n",
            "tar: clean_midi/Jay & The Americans: Cannot mkdir: Read-only file system\n",
            "tar: clean_midi/Jay & The Americans/This Magic Moment.1.mid: Cannot open: No such file or directory\n",
            "clean_midi/The Grass Roots/\n",
            "tar: clean_midi/The Grass Roots: Cannot mkdir: Read-only file system\n",
            "clean_midi/The Grass Roots/Midnight Confession.mid\n",
            "tar: clean_midi/The Grass Roots: Cannot mkdir: Read-only file system\n",
            "tar: clean_midi/The Grass Roots/Midnight Confession.mid: Cannot open: No such file or directory\n",
            "clean_midi/The Grass Roots/Temptation Eyes.mid\n",
            "tar: clean_midi/The Grass Roots: Cannot mkdir: Read-only file system\n",
            "tar: clean_midi/The Grass Roots/Temptation Eyes.mid: Cannot open: No such file or directory\n",
            "clean_midi/The Grass Roots/Let's Live for Today.mid\n",
            "tar: clean_midi/The Grass Roots: Cannot mkdir: Read-only file system\n",
            "tar: clean_midi/The Grass Roots/Let's Live for Today.mid: Cannot open: No such file or directory\n",
            "clean_midi/The Grass Roots/Sooner or Later.1.mid\n",
            "tar: clean_midi/The Grass Roots: Cannot mkdir: Read-only file system\n",
            "tar: clean_midi/The Grass Roots/Sooner or Later.1.mid: Cannot open: No such file or directory\n",
            "clean_midi/The Grass Roots/Sooner or Later.mid\n",
            "tar: clean_midi/The Grass Roots: Cannot mkdir: Read-only file system\n",
            "tar: clean_midi/The Grass Roots/Sooner or Later.mid: Cannot open: No such file or directory\n",
            "clean_midi/The Grass Roots/Temptation Eyes.1.mid\n",
            "tar: clean_midi/The Grass Roots: Cannot mkdir: Read-only file system\n",
            "tar: clean_midi/The Grass Roots/Temptation Eyes.1.mid: Cannot open: No such file or directory\n",
            "clean_midi/The Grass Roots/Two Divided by Love.mid\n",
            "tar: clean_midi/The Grass Roots: Cannot mkdir: Read-only file system\n",
            "tar: clean_midi/The Grass Roots/Two Divided by Love.mid: Cannot open: No such file or directory\n",
            "clean_midi/Blur/\n",
            "tar: clean_midi/Blur: Cannot mkdir: Read-only file system\n",
            "clean_midi/Blur/Girls & Boys.mid\n",
            "tar: clean_midi/Blur: Cannot mkdir: Read-only file system\n",
            "tar: clean_midi/Blur/Girls & Boys.mid: Cannot open: No such file or directory\n",
            "clean_midi/Blur/Tender.mid\n",
            "tar: clean_midi/Blur: Cannot mkdir: Read-only file system\n",
            "tar: clean_midi/Blur/Tender.mid: Cannot open: No such file or directory\n",
            "clean_midi/Blur/Country House.mid\n",
            "tar: clean_midi/Blur: Cannot mkdir: Read-only file system\n",
            "tar: clean_midi/Blur/Country House.mid: Cannot open: No such file or directory\n",
            "clean_midi/Blur/Charmless Man.mid\n",
            "tar: clean_midi/Blur: Cannot mkdir: Read-only file system\n",
            "tar: clean_midi/Blur/Charmless Man.mid: Cannot open: No such file or directory\n",
            "clean_midi/Blur/Country House.1.mid\n",
            "tar: clean_midi/Blur: Cannot mkdir: Read-only file system\n",
            "tar: clean_midi/Blur/Country House.1.mid: Cannot open: No such file or directory\n",
            "clean_midi/Blur/Song 2.mid\n",
            "tar: clean_midi/Blur: Cannot mkdir: Read-only file system\n",
            "tar: clean_midi/Blur/Song 2.mid: Cannot open: No such file or directory\n",
            "clean_midi/Blur/Charmless Man.1.mid\n",
            "tar: clean_midi/Blur: Cannot mkdir: Read-only file system\n",
            "tar: clean_midi/Blur/Charmless Man.1.mid: Cannot open: No such file or directory\n",
            "clean_midi/Blur/Charmless Man.2.mid\n",
            "tar: clean_midi/Blur: Cannot mkdir: Read-only file system\n",
            "tar: clean_midi/Blur/Charmless Man.2.mid: Cannot open: No such file or directory\n",
            "clean_midi/Blur/Stereotypes.mid\n",
            "tar: clean_midi/Blur: Cannot mkdir: Read-only file system\n",
            "tar: clean_midi/Blur/Stereotypes.mid: Cannot open: No such file or directory\n",
            "clean_midi/Blur/Girls & Boys.1.mid\n",
            "tar: clean_midi/Blur: Cannot mkdir: Read-only file system\n",
            "tar: clean_midi/Blur/Girls & Boys.1.mid: Cannot open: No such file or directory\n",
            "clean_midi/Blur/Song 2.2.mid\n",
            "tar: clean_midi/Blur: Cannot mkdir: Read-only file system\n",
            "tar: clean_midi/Blur/Song 2.2.mid: Cannot open: No such file or directory\n",
            "clean_midi/Blur/Song 2.1.mid\n",
            "tar: clean_midi/Blur: Cannot mkdir: Read-only file system\n",
            "tar: clean_midi/Blur/Song 2.1.mid: Cannot open: No such file or directory\n",
            "clean_midi/Tom Astor/\n",
            "clean_midi/Tom Astor/Hallo, guten Morgen Deutschland.mid\n",
            "tar: clean_midi/Tom Astor/Hallo, guten Morgen Deutschland.mid: Cannot open: Read-only file system\n",
            "clean_midi/Tom Astor/Junger Adler.mid\n",
            "tar: clean_midi/Tom Astor/Junger Adler.mid: Cannot open: Read-only file system\n",
            "clean_midi/Tom Astor/Hungrige Herzen.mid\n",
            "tar: clean_midi/Tom Astor/Hungrige Herzen.mid: Cannot open: Read-only file system\n",
            "clean_midi/Tom Astor/Wer Liebe sucht.mid\n",
            "tar: clean_midi/Tom Astor/Wer Liebe sucht.mid: Cannot open: Read-only file system\n",
            "clean_midi/Fifth Dimension/\n",
            "tar: clean_midi/Tom Astor: Cannot change mode to rwxr-xr-x: Operation not permitted\n",
            "tar: clean_midi/Fifth Dimension: Cannot mkdir: Read-only file system\n",
            "clean_midi/Fifth Dimension/Wedding Bell Blues.mid\n",
            "tar: clean_midi/Fifth Dimension: Cannot mkdir: Read-only file system\n",
            "tar: clean_midi/Fifth Dimension/Wedding Bell Blues.mid: Cannot open: No such file or directory\n",
            "clean_midi/Fifth Dimension/Up Up and Away.mid\n",
            "tar: clean_midi/Fifth Dimension: Cannot mkdir: Read-only file system\n",
            "tar: clean_midi/Fifth Dimension/Up Up and Away.mid: Cannot open: No such file or directory\n",
            "clean_midi/Fifth Dimension/Aquarius.mid\n",
            "tar: clean_midi/Fifth Dimension: Cannot mkdir: Read-only file system\n",
            "tar: clean_midi/Fifth Dimension/Aquarius.mid: Cannot open: No such file or directory\n",
            "clean_midi/Fifth Dimension/Stoned Soul Picknic.mid\n",
            "tar: clean_midi/Fifth Dimension: Cannot mkdir: Read-only file system\n",
            "tar: clean_midi/Fifth Dimension/Stoned Soul Picknic.mid: Cannot open: No such file or directory\n",
            "clean_midi/Frank Sinatra/\n",
            "tar: clean_midi/Frank Sinatra: Cannot mkdir: Read-only file system\n",
            "clean_midi/Frank Sinatra/That's Life.mid\n",
            "tar: clean_midi/Frank Sinatra: Cannot mkdir: Read-only file system\n",
            "tar: clean_midi/Frank Sinatra/That's Life.mid: Cannot open: No such file or directory\n",
            "clean_midi/Frank Sinatra/New York, New York (theme du film).3.mid\n",
            "tar: clean_midi/Frank Sinatra: Cannot mkdir: Read-only file system\n",
            "tar: clean_midi/Frank Sinatra/New York, New York (theme du film).3.mid: Cannot open: No such file or directory\n",
            "clean_midi/Frank Sinatra/Young At Heart.mid\n",
            "tar: clean_midi/Frank Sinatra: Cannot mkdir: Read-only file system\n",
            "tar: clean_midi/Frank Sinatra/Young At Heart.mid: Cannot open: No such file or directory\n",
            "clean_midi/Frank Sinatra/Ebb Tide.mid\n",
            "tar: clean_midi/Frank Sinatra: Cannot mkdir: Read-only file system\n",
            "tar: clean_midi/Frank Sinatra/Ebb Tide.mid: Cannot open: No such file or directory\n",
            "clean_midi/Frank Sinatra/Nice 'N Easy.mid\n",
            "tar: clean_midi/Frank Sinatra: Cannot mkdir: Read-only file system\n",
            "tar: clean_midi/Frank Sinatra/Nice 'N Easy.mid: Cannot open: No such file or directory\n",
            "clean_midi/Frank Sinatra/New York, New York (theme du film).1.mid\n",
            "tar: clean_midi/Frank Sinatra: Cannot mkdir: Read-only file system\n",
            "tar: clean_midi/Frank Sinatra/New York, New York (theme du film).1.mid: Cannot open: No such file or directory\n",
            "clean_midi/Frank Sinatra/Luck Be a Lady.mid\n",
            "tar: clean_midi/Frank Sinatra: Cannot mkdir: Read-only file system\n",
            "tar: clean_midi/Frank Sinatra/Luck Be a Lady.mid: Cannot open: No such file or directory\n",
            "clean_midi/Frank Sinatra/Come Rain or Come Shine.mid\n",
            "tar: clean_midi/Frank Sinatra: Cannot mkdir: Read-only file system\n",
            "tar: clean_midi/Frank Sinatra/Come Rain or Come Shine.mid: Cannot open: No such file or directory\n",
            "clean_midi/Frank Sinatra/These Foolish Things.mid\n",
            "tar: clean_midi/Frank Sinatra: Cannot mkdir: Read-only file system\n",
            "tar: clean_midi/Frank Sinatra/These Foolish Things.mid: Cannot open: No such file or directory\n",
            "clean_midi/Frank Sinatra/Begin the Beguine.mid\n",
            "tar: clean_midi/Frank Sinatra: Cannot mkdir: Read-only file system\n",
            "tar: clean_midi/Frank Sinatra/Begin the Beguine.mid: Cannot open: No such file or directory\n",
            "clean_midi/Frank Sinatra/Five Minutes More.mid\n",
            "tar: clean_midi/Frank Sinatra: Cannot mkdir: Read-only file system\n",
            "tar: clean_midi/Frank Sinatra/Five Minutes More.mid: Cannot open: No such file or directory\n",
            "clean_midi/Frank Sinatra/A Nightingale Sang in Berkeley Square.mid\n",
            "tar: clean_midi/Frank Sinatra: Cannot mkdir: Read-only file system\n",
            "tar: clean_midi/Frank Sinatra/A Nightingale Sang in Berkeley Square.mid: Cannot open: No such file or directory\n",
            "clean_midi/Frank Sinatra/My Way (live).2.mid\n",
            "tar: clean_midi/Frank Sinatra: Cannot mkdir: Read-only file system\n",
            "tar: clean_midi/Frank Sinatra/My Way (live).2.mid: Cannot open: No such file or directory\n",
            "clean_midi/Frank Sinatra/What Is This Thing Called Love?.mid\n",
            "tar: clean_midi/Frank Sinatra: Cannot mkdir: Read-only file system\n",
            "tar: clean_midi/Frank Sinatra/What Is This Thing Called Love?.mid: Cannot open: No such file or directory\n",
            "clean_midi/Frank Sinatra/All Of Me.mid\n",
            "tar: clean_midi/Frank Sinatra: Cannot mkdir: Read-only file system\n",
            "tar: clean_midi/Frank Sinatra/All Of Me.mid: Cannot open: No such file or directory\n",
            "clean_midi/Frank Sinatra/New York, New York (theme du film).mid\n",
            "tar: clean_midi/Frank Sinatra: Cannot mkdir: Read-only file system\n",
            "tar: clean_midi/Frank Sinatra/New York, New York (theme du film).mid: Cannot open: No such file or directory\n",
            "clean_midi/Frank Sinatra/Witchcraft.1.mid\n",
            "tar: clean_midi/Frank Sinatra: Cannot mkdir: Read-only file system\n",
            "tar: clean_midi/Frank Sinatra/Witchcraft.1.mid: Cannot open: No such file or directory\n",
            "clean_midi/Frank Sinatra/All or Nothing at All.mid\n",
            "tar: clean_midi/Frank Sinatra: Cannot mkdir: Read-only file system\n",
            "tar: clean_midi/Frank Sinatra/All or Nothing at All.mid: Cannot open: No such file or directory\n",
            "clean_midi/Frank Sinatra/My Way (live).3.mid\n",
            "tar: clean_midi/Frank Sinatra: Cannot mkdir: Read-only file system\n",
            "tar: clean_midi/Frank Sinatra/My Way (live).3.mid: Cannot open: No such file or directory\n",
            "clean_midi/Frank Sinatra/Strangers in the Night.mid\n",
            "tar: clean_midi/Frank Sinatra: Cannot mkdir: Read-only file system\n",
            "tar: clean_midi/Frank Sinatra/Strangers in the Night.mid: Cannot open: No such file or directory\n",
            "clean_midi/Frank Sinatra/Polka Dots And Moonbeams.mid\n",
            "tar: clean_midi/Frank Sinatra: Cannot mkdir: Read-only file system\n",
            "tar: clean_midi/Frank Sinatra/Polka Dots And Moonbeams.mid: Cannot open: No such file or directory\n",
            "clean_midi/Frank Sinatra/It's Only a Paper Moon.mid\n",
            "tar: clean_midi/Frank Sinatra: Cannot mkdir: Read-only file system\n",
            "tar: clean_midi/Frank Sinatra/It's Only a Paper Moon.mid: Cannot open: No such file or directory\n",
            "clean_midi/Frank Sinatra/Young At Heart.1.mid\n",
            "tar: clean_midi/Frank Sinatra: Cannot mkdir: Read-only file system\n",
            "tar: clean_midi/Frank Sinatra/Young At Heart.1.mid: Cannot open: No such file or directory\n",
            "clean_midi/Frank Sinatra/All The Way   One For My Baby (And One More For The Road) - Duet with Frank Sinatra.mid\n",
            "tar: clean_midi/Frank Sinatra: Cannot mkdir: Read-only file system\n",
            "tar: clean_midi/Frank Sinatra/All The Way   One For My Baby (And One More For The Road) - Duet with Frank Sinatra.mid: Cannot open: No such file or directory\n",
            "clean_midi/Frank Sinatra/Summer Wind.mid\n",
            "tar: clean_midi/Frank Sinatra: Cannot mkdir: Read-only file system\n",
            "tar: clean_midi/Frank Sinatra/Summer Wind.mid: Cannot open: No such file or directory\n",
            "clean_midi/Frank Sinatra/My Way (live).mid\n",
            "tar: clean_midi/Frank Sinatra: Cannot mkdir: Read-only file system\n",
            "tar: clean_midi/Frank Sinatra/My Way (live).mid: Cannot open: No such file or directory\n",
            "clean_midi/Frank Sinatra/Three Coins in a Fountain.mid\n",
            "tar: clean_midi/Frank Sinatra: Cannot mkdir: Read-only file system\n",
            "tar: clean_midi/Frank Sinatra/Three Coins in a Fountain.mid: Cannot open: No such file or directory\n",
            "clean_midi/Frank Sinatra/Something Stupid.mid\n",
            "tar: clean_midi/Frank Sinatra: Cannot mkdir: Read-only file system\n",
            "tar: clean_midi/Frank Sinatra/Something Stupid.mid: Cannot open: No such file or directory\n",
            "clean_midi/Frank Sinatra/Bewitched.mid\n",
            "tar: clean_midi/Frank Sinatra: Cannot mkdir: Read-only file system\n",
            "tar: clean_midi/Frank Sinatra/Bewitched.mid: Cannot open: No such file or directory\n",
            "clean_midi/Frank Sinatra/All The Way.mid\n",
            "tar: clean_midi/Frank Sinatra: Cannot mkdir: Read-only file system\n",
            "tar: clean_midi/Frank Sinatra/All The Way.mid: Cannot open: No such file or directory\n",
            "clean_midi/Frank Sinatra/What Is This Thing Called Love?.1.mid\n",
            "tar: clean_midi/Frank Sinatra: Cannot mkdir: Read-only file system\n",
            "tar: clean_midi/Frank Sinatra/What Is This Thing Called Love?.1.mid: Cannot open: No such file or directory\n",
            "clean_midi/Frank Sinatra/Witchcraft.mid\n",
            "tar: clean_midi/Frank Sinatra: Cannot mkdir: Read-only file system\n",
            "tar: clean_midi/Frank Sinatra/Witchcraft.mid: Cannot open: No such file or directory\n",
            "clean_midi/Frank Sinatra/Strangers in the Night.1.mid\n",
            "tar: clean_midi/Frank Sinatra: Cannot mkdir: Read-only file system\n",
            "tar: clean_midi/Frank Sinatra/Strangers in the Night.1.mid: Cannot open: No such file or directory\n",
            "clean_midi/Frank Sinatra/Love and Marriage.mid\n",
            "tar: clean_midi/Frank Sinatra: Cannot mkdir: Read-only file system\n",
            "tar: clean_midi/Frank Sinatra/Love and Marriage.mid: Cannot open: No such file or directory\n",
            "clean_midi/Frank Sinatra/It Was a Very Good Year.mid\n",
            "tar: clean_midi/Frank Sinatra: Cannot mkdir: Read-only file system\n",
            "tar: clean_midi/Frank Sinatra/It Was a Very Good Year.mid: Cannot open: No such file or directory\n",
            "clean_midi/Frank Sinatra/Makin' Whoopie.mid\n",
            "tar: clean_midi/Frank Sinatra: Cannot mkdir: Read-only file system\n",
            "tar: clean_midi/Frank Sinatra/Makin' Whoopie.mid: Cannot open: No such file or directory\n",
            "clean_midi/Frank Sinatra/My Way (live).1.mid\n",
            "tar: clean_midi/Frank Sinatra: Cannot mkdir: Read-only file system\n",
            "tar: clean_midi/Frank Sinatra/My Way (live).1.mid: Cannot open: No such file or directory\n",
            "clean_midi/Frank Sinatra/Time After Time.mid\n",
            "tar: clean_midi/Frank Sinatra: Cannot mkdir: Read-only file system\n",
            "tar: clean_midi/Frank Sinatra/Time After Time.mid: Cannot open: No such file or directory\n",
            "clean_midi/Frank Sinatra/Luck Be a Lady.1.mid\n",
            "tar: clean_midi/Frank Sinatra: Cannot mkdir: Read-only file system\n",
            "tar: clean_midi/Frank Sinatra/Luck Be a Lady.1.mid: Cannot open: No such file or directory\n",
            "clean_midi/Frank Sinatra/Angel Eyes.mid\n",
            "tar: clean_midi/Frank Sinatra: Cannot mkdir: Read-only file system\n",
            "tar: clean_midi/Frank Sinatra/Angel Eyes.mid: Cannot open: No such file or directory\n",
            "clean_midi/Frank Sinatra/New York, New York (theme du film).2.mid\n",
            "tar: clean_midi/Frank Sinatra: Cannot mkdir: Read-only file system\n",
            "tar: clean_midi/Frank Sinatra/New York, New York (theme du film).2.mid: Cannot open: No such file or directory\n",
            "clean_midi/Frank Sinatra/Strangers in the Night.2.mid\n",
            "tar: clean_midi/Frank Sinatra: Cannot mkdir: Read-only file system\n",
            "tar: clean_midi/Frank Sinatra/Strangers in the Night.2.mid: Cannot open: No such file or directory\n",
            "clean_midi/Frank Sinatra/Not as a Stranger.mid\n",
            "tar: clean_midi/Frank Sinatra: Cannot mkdir: Read-only file system\n",
            "tar: clean_midi/Frank Sinatra/Not as a Stranger.mid: Cannot open: No such file or directory\n",
            "clean_midi/Frank Sinatra/I've Got the World on a String.mid\n",
            "tar: clean_midi/Frank Sinatra: Cannot mkdir: Read-only file system\n",
            "tar: clean_midi/Frank Sinatra/I've Got the World on a String.mid: Cannot open: No such file or directory\n",
            "clean_midi/Frank Sinatra/Ebb Tide.1.mid\n",
            "tar: clean_midi/Frank Sinatra: Cannot mkdir: Read-only file system\n",
            "tar: clean_midi/Frank Sinatra/Ebb Tide.1.mid: Cannot open: No such file or directory\n",
            "clean_midi/Ana Caram/\n",
            "tar: clean_midi/Ana Caram: Cannot mkdir: Read-only file system\n",
            "clean_midi/Ana Caram/La Cumbia.mid\n",
            "tar: clean_midi/Ana Caram: Cannot mkdir: Read-only file system\n",
            "tar: clean_midi/Ana Caram/La Cumbia.mid: Cannot open: No such file or directory\n",
            "clean_midi/Toni Basil/\n",
            "clean_midi/Toni Basil/Mickey.mid\n",
            "tar: clean_midi/Toni Basil/Mickey.mid: Cannot open: File exists\n",
            "clean_midi/Lisa Stansfield/\n",
            "tar: clean_midi/Toni Basil: Cannot change mode to rwxr-xr-x: Operation not permitted\n",
            "tar: clean_midi/Lisa Stansfield: Cannot mkdir: Read-only file system\n",
            "clean_midi/Lisa Stansfield/All Around the World.mid\n",
            "tar: clean_midi/Lisa Stansfield: Cannot mkdir: Read-only file system\n",
            "tar: clean_midi/Lisa Stansfield/All Around the World.mid: Cannot open: No such file or directory\n",
            "clean_midi/Lisa Stansfield/All Woman.mid\n",
            "tar: clean_midi/Lisa Stansfield: Cannot mkdir: Read-only file system\n",
            "tar: clean_midi/Lisa Stansfield/All Woman.mid: Cannot open: No such file or directory\n",
            "clean_midi/Harpo/\n",
            "tar: clean_midi/Harpo: Cannot mkdir: Read-only file system\n",
            "clean_midi/Harpo/Moviestar.mid\n",
            "tar: clean_midi/Harpo: Cannot mkdir: Read-only file system\n",
            "tar: clean_midi/Harpo/Moviestar.mid: Cannot open: No such file or directory\n",
            "clean_midi/Harpo/Moviestar.1.mid\n",
            "tar: clean_midi/Harpo: Cannot mkdir: Read-only file system\n",
            "tar: clean_midi/Harpo/Moviestar.1.mid: Cannot open: No such file or directory\n",
            "clean_midi/Harpo/Movie Star.mid\n",
            "tar: clean_midi/Harpo: Cannot mkdir: Read-only file system\n",
            "tar: clean_midi/Harpo/Movie Star.mid: Cannot open: No such file or directory\n",
            "clean_midi/Joe Cocker/\n",
            "tar: clean_midi/Joe Cocker: Cannot mkdir: Read-only file system\n",
            "clean_midi/Joe Cocker/Cry Me a River (live).1.mid\n",
            "tar: clean_midi/Joe Cocker: Cannot mkdir: Read-only file system\n",
            "tar: clean_midi/Joe Cocker/Cry Me a River (live).1.mid: Cannot open: No such file or directory\n",
            "clean_midi/Joe Cocker/Unchain My Heart.mid\n",
            "tar: clean_midi/Joe Cocker: Cannot mkdir: Read-only file system\n",
            "tar: clean_midi/Joe Cocker/Unchain My Heart.mid: Cannot open: No such file or directory\n",
            "clean_midi/Joe Cocker/You Can Leave Your Hat On.mid\n",
            "tar: clean_midi/Joe Cocker: Cannot mkdir: Read-only file system\n",
            "tar: clean_midi/Joe Cocker/You Can Leave Your Hat On.mid: Cannot open: No such file or directory\n",
            "clean_midi/Joe Cocker/You Are So Beautiful.mid\n",
            "tar: clean_midi/Joe Cocker: Cannot mkdir: Read-only file system\n",
            "tar: clean_midi/Joe Cocker/You Are So Beautiful.mid: Cannot open: No such file or directory\n",
            "clean_midi/Joe Cocker/Don't You Love Me Any More.mid\n",
            "tar: clean_midi/Joe Cocker: Cannot mkdir: Read-only file system\n",
            "tar: clean_midi/Joe Cocker/Don't You Love Me Any More.mid: Cannot open: No such file or directory\n",
            "clean_midi/Joe Cocker/Unchain My Heart.1.mid\n",
            "tar: clean_midi/Joe Cocker: Cannot mkdir: Read-only file system\n",
            "tar: clean_midi/Joe Cocker/Unchain My Heart.1.mid: Cannot open: No such file or directory\n",
            "clean_midi/Joe Cocker/Don't You Love Me Anymore.mid\n",
            "tar: clean_midi/Joe Cocker: Cannot mkdir: Read-only file system\n",
            "tar: clean_midi/Joe Cocker/Don't You Love Me Anymore.mid: Cannot open: No such file or directory\n",
            "clean_midi/Joe Cocker/Summer in the City.1.mid\n",
            "tar: clean_midi/Joe Cocker: Cannot mkdir: Read-only file system\n",
            "tar: clean_midi/Joe Cocker/Summer in the City.1.mid: Cannot open: No such file or directory\n",
            "clean_midi/Joe Cocker/That's All I Need to Know.mid\n",
            "tar: clean_midi/Joe Cocker: Cannot mkdir: Read-only file system\n",
            "tar: clean_midi/Joe Cocker/That's All I Need to Know.mid: Cannot open: No such file or directory\n",
            "clean_midi/Joe Cocker/With a Little Help From My Friends.2.mid\n",
            "tar: clean_midi/Joe Cocker: Cannot mkdir: Read-only file system\n",
            "tar: clean_midi/Joe Cocker/With a Little Help From My Friends.2.mid: Cannot open: No such file or directory\n",
            "clean_midi/Joe Cocker/Unchain My Heart.2.mid\n",
            "tar: clean_midi/Joe Cocker: Cannot mkdir: Read-only file system\n",
            "tar: clean_midi/Joe Cocker/Unchain My Heart.2.mid: Cannot open: No such file or directory\n",
            "clean_midi/Joe Cocker/Feelin' Alright.mid\n",
            "tar: clean_midi/Joe Cocker: Cannot mkdir: Read-only file system\n",
            "tar: clean_midi/Joe Cocker/Feelin' Alright.mid: Cannot open: No such file or directory\n",
            "clean_midi/Joe Cocker/You Can Leave Your Hat On.1.mid\n",
            "tar: clean_midi/Joe Cocker: Cannot mkdir: Read-only file system\n",
            "tar: clean_midi/Joe Cocker/You Can Leave Your Hat On.1.mid: Cannot open: No such file or directory\n",
            "clean_midi/Joe Cocker/The Letter.mid\n",
            "tar: clean_midi/Joe Cocker: Cannot mkdir: Read-only file system\n",
            "tar: clean_midi/Joe Cocker/The Letter.mid: Cannot open: No such file or directory\n",
            "clean_midi/Joe Cocker/Up Where We Belong.1.mid\n",
            "tar: clean_midi/Joe Cocker: Cannot mkdir: Read-only file system\n",
            "tar: clean_midi/Joe Cocker/Up Where We Belong.1.mid: Cannot open: No such file or directory\n",
            "clean_midi/Joe Cocker/Let the Healing Begin.mid\n",
            "tar: clean_midi/Joe Cocker: Cannot mkdir: Read-only file system\n",
            "tar: clean_midi/Joe Cocker/Let the Healing Begin.mid: Cannot open: No such file or directory\n",
            "clean_midi/Joe Cocker/Summer in the City.mid\n",
            "tar: clean_midi/Joe Cocker: Cannot mkdir: Read-only file system\n",
            "tar: clean_midi/Joe Cocker/Summer in the City.mid: Cannot open: No such file or directory\n",
            "clean_midi/Joe Cocker/Up Where We Belong.mid\n",
            "tar: clean_midi/Joe Cocker: Cannot mkdir: Read-only file system\n",
            "tar: clean_midi/Joe Cocker/Up Where We Belong.mid: Cannot open: No such file or directory\n",
            "clean_midi/Joe Cocker/Unchain My Heart.3.mid\n",
            "tar: clean_midi/Joe Cocker: Cannot mkdir: Read-only file system\n",
            "tar: clean_midi/Joe Cocker/Unchain My Heart.3.mid: Cannot open: No such file or directory\n",
            "clean_midi/Joe Cocker/With a Little Help From My Friends.1.mid\n",
            "tar: clean_midi/Joe Cocker: Cannot mkdir: Read-only file system\n",
            "tar: clean_midi/Joe Cocker/With a Little Help From My Friends.1.mid: Cannot open: No such file or directory\n",
            "clean_midi/Joe Cocker/You Can Leave Your Hat On.3.mid\n",
            "tar: clean_midi/Joe Cocker: Cannot mkdir: Read-only file system\n",
            "tar: clean_midi/Joe Cocker/You Can Leave Your Hat On.3.mid: Cannot open: No such file or directory\n",
            "clean_midi/Joe Cocker/You Can Leave Your Hat On.2.mid\n",
            "tar: clean_midi/Joe Cocker: Cannot mkdir: Read-only file system\n",
            "tar: clean_midi/Joe Cocker/You Can Leave Your Hat On.2.mid: Cannot open: No such file or directory\n",
            "clean_midi/Joe Cocker/Summer in the City.2.mid\n",
            "tar: clean_midi/Joe Cocker: Cannot mkdir: Read-only file system\n",
            "tar: clean_midi/Joe Cocker/Summer in the City.2.mid: Cannot open: No such file or directory\n",
            "clean_midi/Joe Cocker/Have a Little Faith in Me.mid\n",
            "tar: clean_midi/Joe Cocker: Cannot mkdir: Read-only file system\n",
            "tar: clean_midi/Joe Cocker/Have a Little Faith in Me.mid: Cannot open: No such file or directory\n",
            "clean_midi/Joe Cocker/With a Little Help From My Friends.3.mid\n",
            "tar: clean_midi/Joe Cocker: Cannot mkdir: Read-only file system\n",
            "tar: clean_midi/Joe Cocker/With a Little Help From My Friends.3.mid: Cannot open: No such file or directory\n",
            "clean_midi/Joe Cocker/With a Little Help From My Friends.mid\n",
            "tar: clean_midi/Joe Cocker: Cannot mkdir: Read-only file system\n",
            "tar: clean_midi/Joe Cocker/With a Little Help From My Friends.mid: Cannot open: No such file or directory\n",
            "clean_midi/Joe Cocker/Cry Me a River (live).mid\n",
            "tar: clean_midi/Joe Cocker: Cannot mkdir: Read-only file system\n",
            "tar: clean_midi/Joe Cocker/Cry Me a River (live).mid: Cannot open: No such file or directory\n",
            "clean_midi/Lulu/\n",
            "tar: clean_midi/Lulu: Cannot mkdir: Read-only file system\n",
            "clean_midi/Lulu/To Sir With Love.mid\n",
            "tar: clean_midi/Lulu: Cannot mkdir: Read-only file system\n",
            "tar: clean_midi/Lulu/To Sir With Love.mid: Cannot open: No such file or directory\n",
            "clean_midi/Lynn Anderson/\n",
            "tar: clean_midi/Lynn Anderson: Cannot mkdir: Read-only file system\n",
            "clean_midi/Lynn Anderson/Top of the World.mid\n",
            "tar: clean_midi/Lynn Anderson: Cannot mkdir: Read-only file system\n",
            "tar: clean_midi/Lynn Anderson/Top of the World.mid: Cannot open: No such file or directory\n",
            "clean_midi/Lynn Anderson/Blue Bayou.mid\n",
            "tar: clean_midi/Lynn Anderson: Cannot mkdir: Read-only file system\n",
            "tar: clean_midi/Lynn Anderson/Blue Bayou.mid: Cannot open: No such file or directory\n",
            "clean_midi/The Go-Go's/\n",
            "tar: clean_midi/The Go-Go's: Cannot mkdir: Read-only file system\n",
            "clean_midi/The Go-Go's/Vacation.mid\n",
            "tar: clean_midi/The Go-Go's: Cannot mkdir: Read-only file system\n",
            "tar: clean_midi/The Go-Go's/Vacation.mid: Cannot open: No such file or directory\n",
            "clean_midi/The Go-Go's/Our Lips Are Sealed.mid\n",
            "tar: clean_midi/The Go-Go's: Cannot mkdir: Read-only file system\n",
            "tar: clean_midi/The Go-Go's/Our Lips Are Sealed.mid: Cannot open: No such file or directory\n",
            "clean_midi/The Go-Go's/We Got The Beat.mid\n",
            "tar: clean_midi/The Go-Go's: Cannot mkdir: Read-only file system\n",
            "tar: clean_midi/The Go-Go's/We Got The Beat.mid: Cannot open: No such file or directory\n",
            "clean_midi/The Go-Go's/Cool Jerk.mid\n",
            "tar: clean_midi/The Go-Go's: Cannot mkdir: Read-only file system\n",
            "tar: clean_midi/The Go-Go's/Cool Jerk.mid: Cannot open: No such file or directory\n",
            "clean_midi/Black Fooss/\n",
            "clean_midi/Black Fooss/Bye Bye My Love.1.mid\n",
            "tar: clean_midi/Black Fooss/Bye Bye My Love.1.mid: Cannot open: File exists\n",
            "clean_midi/Black Fooss/Mer losse d'r Dom en Kolle.mid\n",
            "tar: clean_midi/Black Fooss/Mer losse d'r Dom en Kolle.mid: Cannot open: File exists\n",
            "clean_midi/Black Fooss/Bye Bye My Love.mid\n",
            "tar: clean_midi/Black Fooss/Bye Bye My Love.mid: Cannot open: File exists\n",
            "clean_midi/Black Fooss/Baby I Love You.mid\n",
            "tar: clean_midi/Black Fooss/Baby I Love You.mid: Cannot open: File exists\n",
            "clean_midi/Roberts/\n",
            "tar: clean_midi/Black Fooss: Cannot change mode to rwxr-xr-x: Operation not permitted\n",
            "clean_midi/Roberts/Stasera mi butto.mid\n",
            "tar: clean_midi/Roberts/Stasera mi butto.mid: Cannot open: File exists\n",
            "clean_midi/Loft/\n",
            "tar: clean_midi/Roberts: Cannot change mode to rwxr-xr-x: Operation not permitted\n",
            "tar: clean_midi/Loft: Cannot mkdir: Read-only file system\n",
            "clean_midi/Loft/Love Is Magic.mid\n",
            "tar: clean_midi/Loft: Cannot mkdir: Read-only file system\n",
            "tar: clean_midi/Loft/Love Is Magic.mid: Cannot open: No such file or directory\n",
            "clean_midi/Undercover/\n",
            "tar: clean_midi/Undercover: Cannot mkdir: Read-only file system\n",
            "clean_midi/Undercover/Baker Street.mid\n",
            "tar: clean_midi/Undercover: Cannot mkdir: Read-only file system\n",
            "tar: clean_midi/Undercover/Baker Street.mid: Cannot open: No such file or directory\n",
            "clean_midi/Michael Zager/\n",
            "tar: clean_midi/Michael Zager: Cannot mkdir: Read-only file system\n",
            "clean_midi/Michael Zager/Let's All Chant.mid\n",
            "tar: clean_midi/Michael Zager: Cannot mkdir: Read-only file system\n",
            "tar: clean_midi/Michael Zager/Let's All Chant.mid: Cannot open: No such file or directory\n",
            "clean_midi/Robyn/\n",
            "tar: clean_midi/Robyn: Cannot mkdir: Read-only file system\n",
            "clean_midi/Robyn/Show Me Love.mid\n",
            "tar: clean_midi/Robyn: Cannot mkdir: Read-only file system\n",
            "tar: clean_midi/Robyn/Show Me Love.mid: Cannot open: No such file or directory\n",
            "clean_midi/Small Faces/\n",
            "tar: clean_midi/Small Faces: Cannot mkdir: Read-only file system\n",
            "clean_midi/Small Faces/Itchycoo Park.mid\n",
            "tar: clean_midi/Small Faces: Cannot mkdir: Read-only file system\n",
            "tar: clean_midi/Small Faces/Itchycoo Park.mid: Cannot open: No such file or directory\n",
            "clean_midi/Small Faces/Sha-La-La-La-Lee.mid\n",
            "tar: clean_midi/Small Faces: Cannot mkdir: Read-only file system\n",
            "tar: clean_midi/Small Faces/Sha-La-La-La-Lee.mid: Cannot open: No such file or directory\n",
            "clean_midi/Anita Ward/\n",
            "clean_midi/Anita Ward/Ring My Bell.mid\n",
            "tar: clean_midi/Anita Ward/Ring My Bell.mid: Cannot open: File exists\n",
            "clean_midi/Orchestral Manoeuvres in the Dark/\n",
            "tar: clean_midi/Anita Ward: Cannot change mode to rwxr-xr-x: Operation not permitted\n",
            "tar: clean_midi/Orchestral Manoeuvres in the Dark: Cannot mkdir: Read-only file system\n",
            "clean_midi/Orchestral Manoeuvres in the Dark/Joan of Arc (Maid of Orleans).mid\n",
            "tar: clean_midi/Orchestral Manoeuvres in the Dark: Cannot mkdir: Read-only file system\n",
            "tar: clean_midi/Orchestral Manoeuvres in the Dark/Joan of Arc (Maid of Orleans).mid: Cannot open: No such file or directory\n",
            "clean_midi/Orchestral Manoeuvres in the Dark/Dream of Me.mid\n",
            "tar: clean_midi/Orchestral Manoeuvres in the Dark: Cannot mkdir: Read-only file system\n",
            "tar: clean_midi/Orchestral Manoeuvres in the Dark/Dream of Me.mid: Cannot open: No such file or directory\n",
            "clean_midi/Orchestral Manoeuvres in the Dark/Enola Gay.mid\n",
            "tar: clean_midi/Orchestral Manoeuvres in the Dark: Cannot mkdir: Read-only file system\n",
            "tar: clean_midi/Orchestral Manoeuvres in the Dark/Enola Gay.mid: Cannot open: No such file or directory\n",
            "clean_midi/Orchestral Manoeuvres in the Dark/Call My Name.mid\n",
            "tar: clean_midi/Orchestral Manoeuvres in the Dark: Cannot mkdir: Read-only file system\n",
            "tar: clean_midi/Orchestral Manoeuvres in the Dark/Call My Name.mid: Cannot open: No such file or directory\n",
            "clean_midi/Orchestral Manoeuvres in the Dark/Enola Gay.1.mid\n",
            "tar: clean_midi/Orchestral Manoeuvres in the Dark: Cannot mkdir: Read-only file system\n",
            "tar: clean_midi/Orchestral Manoeuvres in the Dark/Enola Gay.1.mid: Cannot open: No such file or directory\n",
            "clean_midi/Orchestral Manoeuvres in the Dark/Sailing on Seven Seas.mid\n",
            "tar: clean_midi/Orchestral Manoeuvres in the Dark: Cannot mkdir: Read-only file system\n",
            "tar: clean_midi/Orchestral Manoeuvres in the Dark/Sailing on Seven Seas.mid: Cannot open: No such file or directory\n",
            "clean_midi/Westlife/\n",
            "clean_midi/Westlife/Fool Again.mid\n",
            "tar: clean_midi/Westlife/Fool Again.mid: Cannot open: File exists\n",
            "clean_midi/Westlife/Swear It Again.mid\n",
            "tar: clean_midi/Westlife/Swear It Again.mid: Cannot open: File exists\n",
            "clean_midi/Rudi Carrell/\n",
            "tar: clean_midi/Westlife: Cannot change mode to rwxr-xr-x: Operation not permitted\n",
            "clean_midi/Rudi Carrell/Wann wird's mal wieder richtig Sommer.mid\n",
            "tar: clean_midi/Rudi Carrell/Wann wird's mal wieder richtig Sommer.mid: Cannot open: Read-only file system\n",
            "clean_midi/Stevie B/\n",
            "tar: clean_midi/Rudi Carrell: Cannot change mode to rwxr-xr-x: Operation not permitted\n",
            "tar: clean_midi/Stevie B: Cannot mkdir: Read-only file system\n",
            "clean_midi/Stevie B/Because I Love You (The Postman Song).mid\n",
            "tar: clean_midi/Stevie B: Cannot mkdir: Read-only file system\n",
            "tar: clean_midi/Stevie B/Because I Love You (The Postman Song).mid: Cannot open: No such file or directory\n",
            "clean_midi/Stevie B/I'll Be on Your Side.mid\n",
            "tar: clean_midi/Stevie B: Cannot mkdir: Read-only file system\n",
            "tar: clean_midi/Stevie B/I'll Be on Your Side.mid: Cannot open: No such file or directory\n",
            "clean_midi/Us3/\n",
            "tar: clean_midi/Us3: Cannot mkdir: Read-only file system\n",
            "clean_midi/Us3/Cantaloop.mid\n",
            "tar: clean_midi/Us3: Cannot mkdir: Read-only file system\n",
            "tar: clean_midi/Us3/Cantaloop.mid: Cannot open: No such file or directory\n",
            "clean_midi/Us3/Cantaloop.1.mid\n",
            "tar: clean_midi/Us3: Cannot mkdir: Read-only file system\n",
            "tar: clean_midi/Us3/Cantaloop.1.mid: Cannot open: No such file or directory\n",
            "clean_midi/Womack/\n",
            "tar: clean_midi/Womack: Cannot mkdir: Read-only file system\n",
            "clean_midi/Womack/I'm In Love.mid\n",
            "tar: clean_midi/Womack: Cannot mkdir: Read-only file system\n",
            "tar: clean_midi/Womack/I'm In Love.mid: Cannot open: No such file or directory\n",
            "clean_midi/Bob Seger/\n",
            "tar: clean_midi/Bob Seger: Cannot mkdir: Read-only file system\n",
            "clean_midi/Bob Seger/We've Got Tonight.mid\n",
            "tar: clean_midi/Bob Seger: Cannot mkdir: Read-only file system\n",
            "tar: clean_midi/Bob Seger/We've Got Tonight.mid: Cannot open: No such file or directory\n",
            "clean_midi/Bob Seger/Turn the Page.mid\n",
            "tar: clean_midi/Bob Seger: Cannot mkdir: Read-only file system\n",
            "tar: clean_midi/Bob Seger/Turn the Page.mid: Cannot open: No such file or directory\n",
            "clean_midi/Bob Seger/Against the Wind.1.mid\n",
            "tar: clean_midi/Bob Seger: Cannot mkdir: Read-only file system\n",
            "tar: clean_midi/Bob Seger/Against the Wind.1.mid: Cannot open: No such file or directory\n",
            "clean_midi/Bob Seger/Against the Wind.mid\n",
            "tar: clean_midi/Bob Seger: Cannot mkdir: Read-only file system\n",
            "tar: clean_midi/Bob Seger/Against the Wind.mid: Cannot open: No such file or directory\n",
            "clean_midi/Bob Seger/Fire Lake.mid\n",
            "tar: clean_midi/Bob Seger: Cannot mkdir: Read-only file system\n",
            "tar: clean_midi/Bob Seger/Fire Lake.mid: Cannot open: No such file or directory\n",
            "clean_midi/Bob Seger/Mainstreet.mid\n",
            "tar: clean_midi/Bob Seger: Cannot mkdir: Read-only file system\n",
            "tar: clean_midi/Bob Seger/Mainstreet.mid: Cannot open: No such file or directory\n",
            "clean_midi/Bob Seger/Hollywood Nights.mid\n",
            "tar: clean_midi/Bob Seger: Cannot mkdir: Read-only file system\n",
            "tar: clean_midi/Bob Seger/Hollywood Nights.mid: Cannot open: No such file or directory\n",
            "clean_midi/Bob Seger/Old Time Rock & Roll.mid\n",
            "tar: clean_midi/Bob Seger: Cannot mkdir: Read-only file system\n",
            "tar: clean_midi/Bob Seger/Old Time Rock & Roll.mid: Cannot open: No such file or directory\n",
            "clean_midi/Bob Seger/Still The Same.1.mid\n",
            "tar: clean_midi/Bob Seger: Cannot mkdir: Read-only file system\n",
            "tar: clean_midi/Bob Seger/Still The Same.1.mid: Cannot open: No such file or directory\n",
            "clean_midi/Bob Seger/Against the Wind.2.mid\n",
            "tar: clean_midi/Bob Seger: Cannot mkdir: Read-only file system\n",
            "tar: clean_midi/Bob Seger/Against the Wind.2.mid: Cannot open: No such file or directory\n",
            "clean_midi/Bob Seger/Turn the Page.1.mid\n",
            "tar: clean_midi/Bob Seger: Cannot mkdir: Read-only file system\n",
            "tar: clean_midi/Bob Seger/Turn the Page.1.mid: Cannot open: No such file or directory\n",
            "clean_midi/Bob Seger/Blind Love.mid\n",
            "tar: clean_midi/Bob Seger: Cannot mkdir: Read-only file system\n",
            "tar: clean_midi/Bob Seger/Blind Love.mid: Cannot open: No such file or directory\n",
            "clean_midi/Bob Seger/Night Moves.mid\n",
            "tar: clean_midi/Bob Seger: Cannot mkdir: Read-only file system\n",
            "tar: clean_midi/Bob Seger/Night Moves.mid: Cannot open: No such file or directory\n",
            "clean_midi/Bob Seger/Against the Wind.3.mid\n",
            "tar: clean_midi/Bob Seger: Cannot mkdir: Read-only file system\n",
            "tar: clean_midi/Bob Seger/Against the Wind.3.mid: Cannot open: No such file or directory\n",
            "clean_midi/Bob Seger/Till It Shines.mid\n",
            "tar: clean_midi/Bob Seger: Cannot mkdir: Read-only file system\n",
            "tar: clean_midi/Bob Seger/Till It Shines.mid: Cannot open: No such file or directory\n",
            "clean_midi/Bob Seger/Still The Same.mid\n",
            "tar: clean_midi/Bob Seger: Cannot mkdir: Read-only file system\n",
            "tar: clean_midi/Bob Seger/Still The Same.mid: Cannot open: No such file or directory\n",
            "clean_midi/OMD/\n",
            "tar: clean_midi/OMD: Cannot mkdir: Read-only file system\n",
            "clean_midi/OMD/Enola Gay (OMD vs. Sash radio edit).mid\n",
            "tar: clean_midi/OMD: Cannot mkdir: Read-only file system\n",
            "tar: clean_midi/OMD/Enola Gay (OMD vs. Sash radio edit).mid: Cannot open: No such file or directory\n",
            "clean_midi/OMD/Enola Gay (OMD vs. Sash radio edit).1.mid\n",
            "tar: clean_midi/OMD: Cannot mkdir: Read-only file system\n",
            "tar: clean_midi/OMD/Enola Gay (OMD vs. Sash radio edit).1.mid: Cannot open: No such file or directory\n",
            "clean_midi/Sublime/\n",
            "tar: clean_midi/Sublime: Cannot mkdir: Read-only file system\n",
            "clean_midi/Sublime/Wrong Way.mid\n",
            "tar: clean_midi/Sublime: Cannot mkdir: Read-only file system\n",
            "tar: clean_midi/Sublime/Wrong Way.mid: Cannot open: No such file or directory\n",
            "clean_midi/Sublime/Poolshark.mid\n",
            "tar: clean_midi/Sublime: Cannot mkdir: Read-only file system\n",
            "tar: clean_midi/Sublime/Poolshark.mid: Cannot open: No such file or directory\n",
            "clean_midi/Sublime/What I Got.mid\n",
            "tar: clean_midi/Sublime: Cannot mkdir: Read-only file system\n",
            "tar: clean_midi/Sublime/What I Got.mid: Cannot open: No such file or directory\n",
            "clean_midi/Sublime/Santeria.2.mid\n",
            "tar: clean_midi/Sublime: Cannot mkdir: Read-only file system\n",
            "tar: clean_midi/Sublime/Santeria.2.mid: Cannot open: No such file or directory\n",
            "clean_midi/Sublime/Hope Work That We Do DJs.mid\n",
            "tar: clean_midi/Sublime: Cannot mkdir: Read-only file system\n",
            "tar: clean_midi/Sublime/Hope Work That We Do DJs.mid: Cannot open: No such file or directory\n",
            "clean_midi/Sublime/Santeria.mid\n",
            "tar: clean_midi/Sublime: Cannot mkdir: Read-only file system\n",
            "tar: clean_midi/Sublime/Santeria.mid: Cannot open: No such file or directory\n",
            "clean_midi/Sublime/Santeria.1.mid\n",
            "tar: clean_midi/Sublime: Cannot mkdir: Read-only file system\n",
            "tar: clean_midi/Sublime/Santeria.1.mid: Cannot open: No such file or directory\n",
            "clean_midi/Sublime/Same In The End.mid\n",
            "tar: clean_midi/Sublime: Cannot mkdir: Read-only file system\n",
            "tar: clean_midi/Sublime/Same In The End.mid: Cannot open: No such file or directory\n",
            "clean_midi/Sublime/Wrong Way.1.mid\n",
            "tar: clean_midi/Sublime: Cannot mkdir: Read-only file system\n",
            "tar: clean_midi/Sublime/Wrong Way.1.mid: Cannot open: No such file or directory\n",
            "clean_midi/Sublime/What I Got.1.mid\n",
            "tar: clean_midi/Sublime: Cannot mkdir: Read-only file system\n",
            "tar: clean_midi/Sublime/What I Got.1.mid: Cannot open: No such file or directory\n",
            "clean_midi/Sublime/Badfish.mid\n",
            "tar: clean_midi/Sublime: Cannot mkdir: Read-only file system\n",
            "tar: clean_midi/Sublime/Badfish.mid: Cannot open: No such file or directory\n",
            "clean_midi/Andrea Bocelli/\n",
            "tar: clean_midi/Andrea Bocelli: Cannot mkdir: Read-only file system\n",
            "clean_midi/Andrea Bocelli/Rapsodia.mid\n",
            "tar: clean_midi/Andrea Bocelli: Cannot mkdir: Read-only file system\n",
            "tar: clean_midi/Andrea Bocelli/Rapsodia.mid: Cannot open: No such file or directory\n",
            "clean_midi/Andrea Bocelli/Vivo Per Lei.2.mid\n",
            "tar: clean_midi/Andrea Bocelli: Cannot mkdir: Read-only file system\n",
            "tar: clean_midi/Andrea Bocelli/Vivo Per Lei.2.mid: Cannot open: No such file or directory\n",
            "clean_midi/Andrea Bocelli/Caruso.mid\n",
            "tar: clean_midi/Andrea Bocelli: Cannot mkdir: Read-only file system\n",
            "tar: clean_midi/Andrea Bocelli/Caruso.mid: Cannot open: No such file or directory\n",
            "clean_midi/Andrea Bocelli/Nel cuore lei.mid\n",
            "tar: clean_midi/Andrea Bocelli: Cannot mkdir: Read-only file system\n",
            "tar: clean_midi/Andrea Bocelli/Nel cuore lei.mid: Cannot open: No such file or directory\n",
            "clean_midi/Andrea Bocelli/Sogno.mid\n",
            "tar: clean_midi/Andrea Bocelli: Cannot mkdir: Read-only file system\n",
            "tar: clean_midi/Andrea Bocelli/Sogno.mid: Cannot open: No such file or directory\n",
            "clean_midi/Andrea Bocelli/Con Te Partiro.1.mid\n",
            "tar: clean_midi/Andrea Bocelli: Cannot mkdir: Read-only file system\n",
            "tar: clean_midi/Andrea Bocelli/Con Te Partiro.1.mid: Cannot open: No such file or directory\n",
            "clean_midi/Andrea Bocelli/Vivo per lei.6.mid\n",
            "tar: clean_midi/Andrea Bocelli: Cannot mkdir: Read-only file system\n",
            "tar: clean_midi/Andrea Bocelli/Vivo per lei.6.mid: Cannot open: No such file or directory\n",
            "clean_midi/Andrea Bocelli/Romanza.mid\n",
            "tar: clean_midi/Andrea Bocelli: Cannot mkdir: Read-only file system\n",
            "tar: clean_midi/Andrea Bocelli/Romanza.mid: Cannot open: No such file or directory\n",
            "clean_midi/Andrea Bocelli/Vivo Per Lei.5.mid\n",
            "tar: clean_midi/Andrea Bocelli: Cannot mkdir: Read-only file system\n",
            "tar: clean_midi/Andrea Bocelli/Vivo Per Lei.5.mid: Cannot open: No such file or directory\n",
            "clean_midi/Andrea Bocelli/Il mare calmo della sera.3.mid\n",
            "tar: clean_midi/Andrea Bocelli: Cannot mkdir: Read-only file system\n",
            "tar: clean_midi/Andrea Bocelli/Il mare calmo della sera.3.mid: Cannot open: No such file or directory\n",
            "clean_midi/Andrea Bocelli/Vivo Per Lei.3.mid\n",
            "tar: clean_midi/Andrea Bocelli: Cannot mkdir: Read-only file system\n",
            "tar: clean_midi/Andrea Bocelli/Vivo Per Lei.3.mid: Cannot open: No such file or directory\n",
            "clean_midi/Andrea Bocelli/Sogno.1.mid\n",
            "tar: clean_midi/Andrea Bocelli: Cannot mkdir: Read-only file system\n",
            "tar: clean_midi/Andrea Bocelli/Sogno.1.mid: Cannot open: No such file or directory\n",
            "clean_midi/Andrea Bocelli/Il mare calmo della sera.2.mid\n",
            "tar: clean_midi/Andrea Bocelli: Cannot mkdir: Read-only file system\n",
            "tar: clean_midi/Andrea Bocelli/Il mare calmo della sera.2.mid: Cannot open: No such file or directory\n",
            "clean_midi/Andrea Bocelli/Con Te Partiro.2.mid\n",
            "tar: clean_midi/Andrea Bocelli: Cannot mkdir: Read-only file system\n",
            "tar: clean_midi/Andrea Bocelli/Con Te Partiro.2.mid: Cannot open: No such file or directory\n",
            "clean_midi/Andrea Bocelli/Ave Maria.mid\n",
            "tar: clean_midi/Andrea Bocelli: Cannot mkdir: Read-only file system\n",
            "tar: clean_midi/Andrea Bocelli/Ave Maria.mid: Cannot open: No such file or directory\n",
            "clean_midi/Andrea Bocelli/Vivere.mid\n",
            "tar: clean_midi/Andrea Bocelli: Cannot mkdir: Read-only file system\n",
            "tar: clean_midi/Andrea Bocelli/Vivere.mid: Cannot open: No such file or directory\n",
            "clean_midi/Andrea Bocelli/Per amore.mid\n",
            "tar: clean_midi/Andrea Bocelli: Cannot mkdir: Read-only file system\n",
            "tar: clean_midi/Andrea Bocelli/Per amore.mid: Cannot open: No such file or directory\n",
            "clean_midi/Andrea Bocelli/Il mare calmo della sera.1.mid\n",
            "tar: clean_midi/Andrea Bocelli: Cannot mkdir: Read-only file system\n",
            "tar: clean_midi/Andrea Bocelli/Il mare calmo della sera.1.mid: Cannot open: No such file or directory\n",
            "clean_midi/Andrea Bocelli/Vivo per lei.1.mid\n",
            "tar: clean_midi/Andrea Bocelli: Cannot mkdir: Read-only file system\n",
            "tar: clean_midi/Andrea Bocelli/Vivo per lei.1.mid: Cannot open: No such file or directory\n",
            "clean_midi/Andrea Bocelli/Miserere.mid\n",
            "tar: clean_midi/Andrea Bocelli: Cannot mkdir: Read-only file system\n",
            "tar: clean_midi/Andrea Bocelli/Miserere.mid: Cannot open: No such file or directory\n",
            "clean_midi/Andrea Bocelli/Vivo Per Lei.mid\n",
            "tar: clean_midi/Andrea Bocelli: Cannot mkdir: Read-only file system\n",
            "tar: clean_midi/Andrea Bocelli/Vivo Per Lei.mid: Cannot open: No such file or directory\n",
            "clean_midi/Andrea Bocelli/Il mare calmo della sera.4.mid\n",
            "tar: clean_midi/Andrea Bocelli: Cannot mkdir: Read-only file system\n",
            "tar: clean_midi/Andrea Bocelli/Il mare calmo della sera.4.mid: Cannot open: No such file or directory\n",
            "clean_midi/Andrea Bocelli/Con Te Partiro.mid\n",
            "tar: clean_midi/Andrea Bocelli: Cannot mkdir: Read-only file system\n",
            "tar: clean_midi/Andrea Bocelli/Con Te Partiro.mid: Cannot open: No such file or directory\n",
            "clean_midi/Andrea Bocelli/Romanza.1.mid\n",
            "tar: clean_midi/Andrea Bocelli: Cannot mkdir: Read-only file system\n",
            "tar: clean_midi/Andrea Bocelli/Romanza.1.mid: Cannot open: No such file or directory\n",
            "clean_midi/Andrea Bocelli/Tosca: \"E lucevan le stelle...\".mid\n",
            "tar: clean_midi/Andrea Bocelli: Cannot mkdir: Read-only file system\n",
            "tar: clean_midi/Andrea Bocelli/Tosca\\: \"E lucevan le stelle...\".mid: Cannot open: No such file or directory\n",
            "clean_midi/Andrea Bocelli/Time to Say Goodbye.mid\n",
            "tar: clean_midi/Andrea Bocelli: Cannot mkdir: Read-only file system\n",
            "tar: clean_midi/Andrea Bocelli/Time to Say Goodbye.mid: Cannot open: No such file or directory\n",
            "clean_midi/Andrea Bocelli/'O mare e tu.mid\n",
            "tar: clean_midi/Andrea Bocelli: Cannot mkdir: Read-only file system\n",
            "tar: clean_midi/Andrea Bocelli/'O mare e tu.mid: Cannot open: No such file or directory\n",
            "clean_midi/Andrea Bocelli/Vivere (feat. Andrea Bocelli).mid\n",
            "tar: clean_midi/Andrea Bocelli: Cannot mkdir: Read-only file system\n",
            "tar: clean_midi/Andrea Bocelli/Vivere (feat. Andrea Bocelli).mid: Cannot open: No such file or directory\n",
            "clean_midi/Andrea Bocelli/Vivo Per Lei.4.mid\n",
            "tar: clean_midi/Andrea Bocelli: Cannot mkdir: Read-only file system\n",
            "tar: clean_midi/Andrea Bocelli/Vivo Per Lei.4.mid: Cannot open: No such file or directory\n",
            "clean_midi/Andrea Bocelli/Il mare calmo della sera.mid\n",
            "tar: clean_midi/Andrea Bocelli: Cannot mkdir: Read-only file system\n",
            "tar: clean_midi/Andrea Bocelli/Il mare calmo della sera.mid: Cannot open: No such file or directory\n",
            "clean_midi/Andrea Bocelli/O sole mio.mid\n",
            "tar: clean_midi/Andrea Bocelli: Cannot mkdir: Read-only file system\n",
            "tar: clean_midi/Andrea Bocelli/O sole mio.mid: Cannot open: No such file or directory\n",
            "clean_midi/The Dinky Toys/\n",
            "clean_midi/The Dinky Toys/Out in the Streets.mid\n",
            "tar: clean_midi/The Dinky Toys/Out in the Streets.mid: Cannot open: File exists\n",
            "clean_midi/Dobie Gray/\n",
            "tar: clean_midi/The Dinky Toys: Cannot change mode to rwxr-xr-x: Operation not permitted\n",
            "tar: clean_midi/Dobie Gray: Cannot mkdir: Read-only file system\n",
            "clean_midi/Dobie Gray/Drift Away.1.mid\n",
            "tar: clean_midi/Dobie Gray: Cannot mkdir: Read-only file system\n",
            "tar: clean_midi/Dobie Gray/Drift Away.1.mid: Cannot open: No such file or directory\n",
            "clean_midi/Dobie Gray/Drift Away.mid\n",
            "tar: clean_midi/Dobie Gray: Cannot mkdir: Read-only file system\n",
            "tar: clean_midi/Dobie Gray/Drift Away.mid: Cannot open: No such file or directory\n",
            "clean_midi/Boothe, Ken/\n",
            "tar: clean_midi/Boothe, Ken: Cannot mkdir: Read-only file system\n",
            "clean_midi/Boothe, Ken/Everything I Own.mid\n",
            "tar: clean_midi/Boothe, Ken: Cannot mkdir: Read-only file system\n",
            "tar: clean_midi/Boothe, Ken/Everything I Own.mid: Cannot open: No such file or directory\n",
            "clean_midi/Mud/\n",
            "tar: clean_midi/Mud: Cannot mkdir: Read-only file system\n",
            "clean_midi/Mud/Oh Boy.1.mid\n",
            "tar: clean_midi/Mud: Cannot mkdir: Read-only file system\n",
            "tar: clean_midi/Mud/Oh Boy.1.mid: Cannot open: No such file or directory\n",
            "clean_midi/Mud/Oh Boy.mid\n",
            "tar: clean_midi/Mud: Cannot mkdir: Read-only file system\n",
            "tar: clean_midi/Mud/Oh Boy.mid: Cannot open: No such file or directory\n",
            "clean_midi/Broadway/\n",
            "tar: clean_midi/Broadway: Cannot mkdir: Read-only file system\n",
            "clean_midi/Broadway/Les Miz\" Medley: Castle on a Cloud   Little People.mid\n",
            "tar: clean_midi/Broadway: Cannot mkdir: Read-only file system\n",
            "tar: clean_midi/Broadway/Les Miz\" Medley\\: Castle on a Cloud   Little People.mid: Cannot open: No such file or directory\n",
            "clean_midi/Broadway/Cabaret.mid\n",
            "tar: clean_midi/Broadway: Cannot mkdir: Read-only file system\n",
            "tar: clean_midi/Broadway/Cabaret.mid: Cannot open: No such file or directory\n",
            "clean_midi/Broadway/Joseph and the Amazing Technicolor Dreamcoat: Close Every Door.mid\n",
            "tar: clean_midi/Broadway: Cannot mkdir: Read-only file system\n",
            "tar: clean_midi/Broadway/Joseph and the Amazing Technicolor Dreamcoat\\: Close Every Door.mid: Cannot open: No such file or directory\n",
            "clean_midi/Broadway/America.mid\n",
            "tar: clean_midi/Broadway: Cannot mkdir: Read-only file system\n",
            "tar: clean_midi/Broadway/America.mid: Cannot open: No such file or directory\n",
            "clean_midi/Broadway/People.mid\n",
            "tar: clean_midi/Broadway: Cannot mkdir: Read-only file system\n",
            "tar: clean_midi/Broadway/People.mid: Cannot open: No such file or directory\n",
            "clean_midi/Broadway/Edelweiss.mid\n",
            "tar: clean_midi/Broadway: Cannot mkdir: Read-only file system\n",
            "tar: clean_midi/Broadway/Edelweiss.mid: Cannot open: No such file or directory\n",
            "clean_midi/Broadway/Bring on the Storm.mid\n",
            "tar: clean_midi/Broadway: Cannot mkdir: Read-only file system\n",
            "tar: clean_midi/Broadway/Bring on the Storm.mid: Cannot open: No such file or directory\n",
            "clean_midi/Broadway/Hello, Dolly!.mid\n",
            "tar: clean_midi/Broadway: Cannot mkdir: Read-only file system\n",
            "tar: clean_midi/Broadway/Hello, Dolly!.mid: Cannot open: No such file or directory\n",
            "clean_midi/Broadway/Phantom of the Opera.mid\n",
            "tar: clean_midi/Broadway: Cannot mkdir: Read-only file system\n",
            "tar: clean_midi/Broadway/Phantom of the Opera.mid: Cannot open: No such file or directory\n",
            "clean_midi/Broadway/Maria.mid\n",
            "tar: clean_midi/Broadway: Cannot mkdir: Read-only file system\n",
            "tar: clean_midi/Broadway/Maria.mid: Cannot open: No such file or directory\n",
            "clean_midi/Broadway/Eternal Journey.mid\n",
            "tar: clean_midi/Broadway: Cannot mkdir: Read-only file system\n",
            "tar: clean_midi/Broadway/Eternal Journey.mid: Cannot open: No such file or directory\n",
            "clean_midi/Broadway/The Phantom of the Opera: The Music of the Night.mid\n",
            "tar: clean_midi/Broadway: Cannot mkdir: Read-only file system\n",
            "tar: clean_midi/Broadway/The Phantom of the Opera\\: The Music of the Night.mid: Cannot open: No such file or directory\n",
            "clean_midi/Broadway/You Can Do Better Than Him.mid\n",
            "tar: clean_midi/Broadway: Cannot mkdir: Read-only file system\n",
            "tar: clean_midi/Broadway/You Can Do Better Than Him.mid: Cannot open: No such file or directory\n",
            "clean_midi/DULFER, CANDY/\n",
            "tar: clean_midi/DULFER, CANDY: Cannot mkdir: Read-only file system\n",
            "clean_midi/DULFER, CANDY/Saxy Mood.mid\n",
            "tar: clean_midi/DULFER, CANDY: Cannot mkdir: Read-only file system\n",
            "tar: clean_midi/DULFER, CANDY/Saxy Mood.mid: Cannot open: No such file or directory\n",
            "clean_midi/DULFER, CANDY/Lili Was Here.mid\n",
            "tar: clean_midi/DULFER, CANDY: Cannot mkdir: Read-only file system\n",
            "tar: clean_midi/DULFER, CANDY/Lili Was Here.mid: Cannot open: No such file or directory\n",
            "clean_midi/DULFER, CANDY/Lili Was Here.1.mid\n",
            "tar: clean_midi/DULFER, CANDY: Cannot mkdir: Read-only file system\n",
            "tar: clean_midi/DULFER, CANDY/Lili Was Here.1.mid: Cannot open: No such file or directory\n",
            "clean_midi/Traffic/\n",
            "tar: clean_midi/Traffic: Cannot mkdir: Read-only file system\n",
            "clean_midi/Traffic/The Low Spark of High Heeled Boys.mid\n",
            "tar: clean_midi/Traffic: Cannot mkdir: Read-only file system\n",
            "tar: clean_midi/Traffic/The Low Spark of High Heeled Boys.mid: Cannot open: No such file or directory\n",
            "clean_midi/Traffic/Dear Mr. Fantasy.mid\n",
            "tar: clean_midi/Traffic: Cannot mkdir: Read-only file system\n",
            "tar: clean_midi/Traffic/Dear Mr. Fantasy.mid: Cannot open: No such file or directory\n",
            "clean_midi/Traffic/Who Knows What Tomorrow May Bring.mid\n",
            "tar: clean_midi/Traffic: Cannot mkdir: Read-only file system\n",
            "tar: clean_midi/Traffic/Who Knows What Tomorrow May Bring.mid: Cannot open: No such file or directory\n",
            "clean_midi/Traffic/Smiling Phases.mid\n",
            "tar: clean_midi/Traffic: Cannot mkdir: Read-only file system\n",
            "tar: clean_midi/Traffic/Smiling Phases.mid: Cannot open: No such file or directory\n",
            "clean_midi/Traffic/40,000 Headmen.mid\n",
            "tar: clean_midi/Traffic: Cannot mkdir: Read-only file system\n",
            "tar: clean_midi/Traffic/40,000 Headmen.mid: Cannot open: No such file or directory\n",
            "clean_midi/Traffic/Paper Sun.mid\n",
            "tar: clean_midi/Traffic: Cannot mkdir: Read-only file system\n",
            "tar: clean_midi/Traffic/Paper Sun.mid: Cannot open: No such file or directory\n",
            "clean_midi/Traffic/Feelin' All Right.mid\n",
            "tar: clean_midi/Traffic: Cannot mkdir: Read-only file system\n",
            "tar: clean_midi/Traffic/Feelin' All Right.mid: Cannot open: No such file or directory\n",
            "clean_midi/Traffic/John Barleycorn (Must Die).mid\n",
            "tar: clean_midi/Traffic: Cannot mkdir: Read-only file system\n",
            "tar: clean_midi/Traffic/John Barleycorn (Must Die).mid: Cannot open: No such file or directory\n",
            "clean_midi/Traffic/Hole in My Shoe.mid\n",
            "tar: clean_midi/Traffic: Cannot mkdir: Read-only file system\n",
            "tar: clean_midi/Traffic/Hole in My Shoe.mid: Cannot open: No such file or directory\n",
            "clean_midi/Traffic/Coloured Rain.mid\n",
            "tar: clean_midi/Traffic: Cannot mkdir: Read-only file system\n",
            "tar: clean_midi/Traffic/Coloured Rain.mid: Cannot open: No such file or directory\n",
            "clean_midi/Firefall/\n",
            "tar: clean_midi/Firefall: Cannot mkdir: Read-only file system\n",
            "clean_midi/Firefall/Just Remember I Love You.mid\n",
            "tar: clean_midi/Firefall: Cannot mkdir: Read-only file system\n",
            "tar: clean_midi/Firefall/Just Remember I Love You.mid: Cannot open: No such file or directory\n",
            "clean_midi/Firefall/You Are the Woman.mid\n",
            "tar: clean_midi/Firefall: Cannot mkdir: Read-only file system\n",
            "tar: clean_midi/Firefall/You Are the Woman.mid: Cannot open: No such file or directory\n",
            "clean_midi/Alain Barriere/\n",
            "tar: clean_midi/Alain Barriere: Cannot mkdir: Read-only file system\n",
            "clean_midi/Alain Barriere/Ma vie.mid\n",
            "tar: clean_midi/Alain Barriere: Cannot mkdir: Read-only file system\n",
            "tar: clean_midi/Alain Barriere/Ma vie.mid: Cannot open: No such file or directory\n",
            "clean_midi/Alain Barriere/Tu t'en vas.1.mid\n",
            "tar: clean_midi/Alain Barriere: Cannot mkdir: Read-only file system\n",
            "tar: clean_midi/Alain Barriere/Tu t'en vas.1.mid: Cannot open: No such file or directory\n",
            "clean_midi/Alain Barriere/Rien qu'un homme.mid\n",
            "tar: clean_midi/Alain Barriere: Cannot mkdir: Read-only file system\n",
            "tar: clean_midi/Alain Barriere/Rien qu'un homme.mid: Cannot open: No such file or directory\n",
            "clean_midi/Alain Barriere/Emporte-moi.mid\n",
            "tar: clean_midi/Alain Barriere: Cannot mkdir: Read-only file system\n",
            "tar: clean_midi/Alain Barriere/Emporte-moi.mid: Cannot open: No such file or directory\n",
            "clean_midi/Alain Barriere/Elle etait si jolie.mid\n",
            "tar: clean_midi/Alain Barriere: Cannot mkdir: Read-only file system\n",
            "tar: clean_midi/Alain Barriere/Elle etait si jolie.mid: Cannot open: No such file or directory\n",
            "clean_midi/Alain Barriere/Tu t'en vas.mid\n",
            "tar: clean_midi/Alain Barriere: Cannot mkdir: Read-only file system\n",
            "tar: clean_midi/Alain Barriere/Tu t'en vas.mid: Cannot open: No such file or directory\n",
            "clean_midi/Freda Payne/\n",
            "clean_midi/Freda Payne/Band of Gold.mid\n",
            "^C\n"
          ]
        }
      ]
    },
    {
      "cell_type": "code",
      "execution_count": 2,
      "metadata": {
        "id": "Aw9bS-g2bgQ4"
      },
      "outputs": [],
      "source": [
        "import os\n",
        "os.environ['CUDA_LAUNCH_BLOCKING'] = \"1\""
      ]
    },
    {
      "cell_type": "code",
      "source": [
        "pip install compressive_transformer_pytorch"
      ],
      "metadata": {
        "id": "NIK4IFeUbubh",
        "colab": {
          "base_uri": "https://localhost:8080/"
        },
        "outputId": "d34174d4-7c6f-4619-b369-0c251a8daa76"
      },
      "execution_count": 3,
      "outputs": [
        {
          "output_type": "stream",
          "name": "stdout",
          "text": [
            "Collecting compressive_transformer_pytorch\n",
            "  Downloading compressive_transformer_pytorch-0.4.0-py3-none-any.whl (8.7 kB)\n",
            "Requirement already satisfied: torch in /usr/local/lib/python3.10/dist-packages (from compressive_transformer_pytorch) (2.0.1+cu118)\n",
            "Collecting mogrifier (from compressive_transformer_pytorch)\n",
            "  Downloading mogrifier-0.0.3-py3-none-any.whl (2.9 kB)\n",
            "Requirement already satisfied: filelock in /usr/local/lib/python3.10/dist-packages (from torch->compressive_transformer_pytorch) (3.12.2)\n",
            "Requirement already satisfied: typing-extensions in /usr/local/lib/python3.10/dist-packages (from torch->compressive_transformer_pytorch) (4.7.1)\n",
            "Requirement already satisfied: sympy in /usr/local/lib/python3.10/dist-packages (from torch->compressive_transformer_pytorch) (1.12)\n",
            "Requirement already satisfied: networkx in /usr/local/lib/python3.10/dist-packages (from torch->compressive_transformer_pytorch) (3.1)\n",
            "Requirement already satisfied: jinja2 in /usr/local/lib/python3.10/dist-packages (from torch->compressive_transformer_pytorch) (3.1.2)\n",
            "Requirement already satisfied: triton==2.0.0 in /usr/local/lib/python3.10/dist-packages (from torch->compressive_transformer_pytorch) (2.0.0)\n",
            "Requirement already satisfied: cmake in /usr/local/lib/python3.10/dist-packages (from triton==2.0.0->torch->compressive_transformer_pytorch) (3.27.2)\n",
            "Requirement already satisfied: lit in /usr/local/lib/python3.10/dist-packages (from triton==2.0.0->torch->compressive_transformer_pytorch) (16.0.6)\n",
            "Requirement already satisfied: MarkupSafe>=2.0 in /usr/local/lib/python3.10/dist-packages (from jinja2->torch->compressive_transformer_pytorch) (2.1.3)\n",
            "Requirement already satisfied: mpmath>=0.19 in /usr/local/lib/python3.10/dist-packages (from sympy->torch->compressive_transformer_pytorch) (1.3.0)\n",
            "Installing collected packages: mogrifier, compressive_transformer_pytorch\n",
            "Successfully installed compressive_transformer_pytorch-0.4.0 mogrifier-0.0.3\n"
          ]
        }
      ]
    },
    {
      "cell_type": "code",
      "source": [
        "!pip install pretty_midi\n",
        "!pip install plotting"
      ],
      "metadata": {
        "colab": {
          "base_uri": "https://localhost:8080/"
        },
        "id": "REwh9wNRpc39",
        "outputId": "7227ff4f-bffb-47e1-b417-f6cef263d085"
      },
      "execution_count": 4,
      "outputs": [
        {
          "output_type": "stream",
          "name": "stdout",
          "text": [
            "Collecting pretty_midi\n",
            "  Downloading pretty_midi-0.2.10.tar.gz (5.6 MB)\n",
            "\u001b[2K     \u001b[90m━━━━━━━━━━━━━━━━━━━━━━━━━━━━━━━━━━━━━━━━\u001b[0m \u001b[32m5.6/5.6 MB\u001b[0m \u001b[31m18.3 MB/s\u001b[0m eta \u001b[36m0:00:00\u001b[0m\n",
            "\u001b[?25h  Preparing metadata (setup.py) ... \u001b[?25l\u001b[?25hdone\n",
            "Requirement already satisfied: numpy>=1.7.0 in /usr/local/lib/python3.10/dist-packages (from pretty_midi) (1.23.5)\n",
            "Collecting mido>=1.1.16 (from pretty_midi)\n",
            "  Downloading mido-1.3.0-py3-none-any.whl (50 kB)\n",
            "\u001b[2K     \u001b[90m━━━━━━━━━━━━━━━━━━━━━━━━━━━━━━━━━━━━━━━━\u001b[0m \u001b[32m50.3/50.3 kB\u001b[0m \u001b[31m5.8 MB/s\u001b[0m eta \u001b[36m0:00:00\u001b[0m\n",
            "\u001b[?25hRequirement already satisfied: six in /usr/local/lib/python3.10/dist-packages (from pretty_midi) (1.16.0)\n",
            "Requirement already satisfied: packaging~=23.1 in /usr/local/lib/python3.10/dist-packages (from mido>=1.1.16->pretty_midi) (23.1)\n",
            "Building wheels for collected packages: pretty_midi\n",
            "  Building wheel for pretty_midi (setup.py) ... \u001b[?25l\u001b[?25hdone\n",
            "  Created wheel for pretty_midi: filename=pretty_midi-0.2.10-py3-none-any.whl size=5592287 sha256=53408858bae4584cca9d744deeb6ecc55731c92f66816eee88938f7f6ba4beba\n",
            "  Stored in directory: /root/.cache/pip/wheels/cd/a5/30/7b8b7f58709f5150f67f98fde4b891ebf0be9ef07a8af49f25\n",
            "Successfully built pretty_midi\n",
            "Installing collected packages: mido, pretty_midi\n",
            "Successfully installed mido-1.3.0 pretty_midi-0.2.10\n",
            "Collecting plotting\n",
            "  Downloading plotting-0.0.7-py3-none-any.whl (13 kB)\n",
            "Requirement already satisfied: matplotlib in /usr/local/lib/python3.10/dist-packages (from plotting) (3.7.1)\n",
            "Requirement already satisfied: seaborn in /usr/local/lib/python3.10/dist-packages (from plotting) (0.12.2)\n",
            "Requirement already satisfied: pandas in /usr/local/lib/python3.10/dist-packages (from plotting) (1.5.3)\n",
            "Requirement already satisfied: contourpy>=1.0.1 in /usr/local/lib/python3.10/dist-packages (from matplotlib->plotting) (1.1.0)\n",
            "Requirement already satisfied: cycler>=0.10 in /usr/local/lib/python3.10/dist-packages (from matplotlib->plotting) (0.11.0)\n",
            "Requirement already satisfied: fonttools>=4.22.0 in /usr/local/lib/python3.10/dist-packages (from matplotlib->plotting) (4.42.1)\n",
            "Requirement already satisfied: kiwisolver>=1.0.1 in /usr/local/lib/python3.10/dist-packages (from matplotlib->plotting) (1.4.4)\n",
            "Requirement already satisfied: numpy>=1.20 in /usr/local/lib/python3.10/dist-packages (from matplotlib->plotting) (1.23.5)\n",
            "Requirement already satisfied: packaging>=20.0 in /usr/local/lib/python3.10/dist-packages (from matplotlib->plotting) (23.1)\n",
            "Requirement already satisfied: pillow>=6.2.0 in /usr/local/lib/python3.10/dist-packages (from matplotlib->plotting) (9.4.0)\n",
            "Requirement already satisfied: pyparsing>=2.3.1 in /usr/local/lib/python3.10/dist-packages (from matplotlib->plotting) (3.1.1)\n",
            "Requirement already satisfied: python-dateutil>=2.7 in /usr/local/lib/python3.10/dist-packages (from matplotlib->plotting) (2.8.2)\n",
            "Requirement already satisfied: pytz>=2020.1 in /usr/local/lib/python3.10/dist-packages (from pandas->plotting) (2023.3)\n",
            "Requirement already satisfied: six>=1.5 in /usr/local/lib/python3.10/dist-packages (from python-dateutil>=2.7->matplotlib->plotting) (1.16.0)\n",
            "Installing collected packages: plotting\n",
            "Successfully installed plotting-0.0.7\n"
          ]
        }
      ]
    },
    {
      "cell_type": "code",
      "source": [
        "#Importing libraries\n",
        "import torch\n",
        "import tqdm\n",
        "import numpy as np\n",
        "import pandas as pd\n",
        "import tensorflow as tf\n",
        "from compressive_transformer_pytorch import CompressiveTransformer\n",
        "from compressive_transformer_pytorch import AutoregressiveWrapper\n",
        "from torchsummary import summary\n",
        "from torch.utils.data import DataLoader, Dataset\n",
        "from keras import utils\n",
        "from sklearn.metrics import roc_auc_score\n",
        "import matplotlib.pyplot as plt\n",
        "import glob\n",
        "import pickle\n",
        "from music21 import converter, instrument, stream, note, chord\n",
        "import math\n",
        "import shutil\n",
        "from collections import defaultdict"
      ],
      "metadata": {
        "id": "CYu8u1obbv4t"
      },
      "execution_count": 5,
      "outputs": []
    },
    {
      "cell_type": "code",
      "source": [
        "output_dir = '/content/drive/My Drive/ISPR_PRJ/out/best_model/'\n",
        "current_path ='/content/drive/My Drive/ISPR_PRJ/'"
      ],
      "metadata": {
        "id": "VYBgs81apI0o"
      },
      "execution_count": 6,
      "outputs": []
    },
    {
      "cell_type": "markdown",
      "source": [
        "Hyperparameters setting"
      ],
      "metadata": {
        "id": "28sSr3VNpNQW"
      }
    },
    {
      "cell_type": "code",
      "source": [
        "#Training:\n",
        "\n",
        "epochs =  100\n",
        "batch_size = 64\n",
        "learning_rate=1e-3\n",
        "\n",
        "#Vector-space embedding:\n",
        "n_dim = 64\n",
        "sequence_length = 64\n",
        "\n",
        "VALIDATE_EVERY  = 5\n",
        "GENERATE_EVERY  = 500\n"
      ],
      "metadata": {
        "id": "apwQw0ZIbzmi"
      },
      "execution_count": 7,
      "outputs": []
    },
    {
      "cell_type": "code",
      "source": [
        "def save_checkpoint(state, is_best, filename='checkpoint.pth.tar'):\n",
        "    torch.save(state, output_dir+filename)\n",
        "    if is_best:\n",
        "        shutil.copyfile(output_dir+filename, output_dir+'best.pth.tar')"
      ],
      "metadata": {
        "id": "HSdR9Mlhb1_I"
      },
      "execution_count": 8,
      "outputs": []
    },
    {
      "cell_type": "code",
      "source": [
        "!nvidia-smi"
      ],
      "metadata": {
        "id": "_Pd8uADmb6AJ",
        "colab": {
          "base_uri": "https://localhost:8080/"
        },
        "outputId": "8280add4-cf6f-4783-d8a5-244ba7cb7552"
      },
      "execution_count": 9,
      "outputs": [
        {
          "output_type": "stream",
          "name": "stdout",
          "text": [
            "Tue Sep  5 05:50:58 2023       \n",
            "+-----------------------------------------------------------------------------+\n",
            "| NVIDIA-SMI 525.105.17   Driver Version: 525.105.17   CUDA Version: 12.0     |\n",
            "|-------------------------------+----------------------+----------------------+\n",
            "| GPU  Name        Persistence-M| Bus-Id        Disp.A | Volatile Uncorr. ECC |\n",
            "| Fan  Temp  Perf  Pwr:Usage/Cap|         Memory-Usage | GPU-Util  Compute M. |\n",
            "|                               |                      |               MIG M. |\n",
            "|===============================+======================+======================|\n",
            "|   0  Tesla V100-SXM2...  Off  | 00000000:00:04.0 Off |                    0 |\n",
            "| N/A   39C    P0    25W / 300W |      0MiB / 16384MiB |      0%      Default |\n",
            "|                               |                      |                  N/A |\n",
            "+-------------------------------+----------------------+----------------------+\n",
            "                                                                               \n",
            "+-----------------------------------------------------------------------------+\n",
            "| Processes:                                                                  |\n",
            "|  GPU   GI   CI        PID   Type   Process name                  GPU Memory |\n",
            "|        ID   ID                                                   Usage      |\n",
            "|=============================================================================|\n",
            "|  No running processes found                                                 |\n",
            "+-----------------------------------------------------------------------------+\n"
          ]
        }
      ]
    },
    {
      "cell_type": "markdown",
      "source": [
        "# Statistics\n",
        "\n",
        "To better understand the dataset i used the following link\n",
        "\n",
        "https://nbviewer.org/github/craffel/midi-ground-truth/blob/master/Statistics.ipynb"
      ],
      "metadata": {
        "id": "U_uoNqLnpkyA"
      }
    },
    {
      "cell_type": "code",
      "source": [
        "import pretty_midi\n",
        "import numpy as np\n",
        "import joblib\n",
        "import glob\n",
        "import matplotlib.pyplot as plt\n",
        "%matplotlib inline\n",
        "import seaborn as sns\n",
        "sns.set_style('white')\n",
        "sns.set_context('notebook', font_scale=1.5)\n",
        "import matplotlib.gridspec\n",
        "import collections\n",
        "import os\n",
        "import plotting"
      ],
      "metadata": {
        "id": "BEsouU1JrPnI"
      },
      "execution_count": 10,
      "outputs": []
    },
    {
      "cell_type": "code",
      "source": [
        "def compute_statistics(midi_file):\n",
        "    \"\"\"\n",
        "    Given a path to a MIDI file, compute a dictionary of statistics about it\n",
        "\n",
        "    Parameters\n",
        "    ----------\n",
        "    midi_file : str\n",
        "        Path to a MIDI file.\n",
        "\n",
        "    Returns\n",
        "    -------\n",
        "    statistics : dict\n",
        "        Dictionary reporting the values for different events in the file.\n",
        "    \"\"\"\n",
        "    # Some MIDI files will raise Exceptions on loading, if they are invalid.\n",
        "    # We just skip those.\n",
        "    try:\n",
        "        pm = pretty_midi.PrettyMIDI(midi_file)\n",
        "        # Extract informative events from the MIDI file\n",
        "        return {'n_instruments': len(pm.instruments),\n",
        "                'program_numbers': [i.program for i in pm.instruments if not i.is_drum],\n",
        "                'key_numbers': [k.key_number for k in pm.key_signature_changes],\n",
        "                'tempos': list(pm.get_tempo_changes()[1]),\n",
        "                'time_signature_changes': pm.time_signature_changes,\n",
        "                'end_time': pm.get_end_time(),\n",
        "                'lyrics': [l.text for l in pm.lyrics]\n",
        "                }\n",
        "    # Silently ignore exceptions for a clean presentation (sorry Python!)\n",
        "    except Exception as e:\n",
        "        pass"
      ],
      "metadata": {
        "id": "Vnd5aex6IKBx"
      },
      "execution_count": 11,
      "outputs": []
    },
    {
      "cell_type": "code",
      "source": [
        "data_path = current_path+\"midi_songs/dataset/clean_midi\"\n",
        "compute_statistics(current_path+\"midi_songs/dataset/Genres/bluesRock/The Rolling Stones/19th Nervous Breakdown.mid\")"
      ],
      "metadata": {
        "id": "r8o-QtzzqHFy",
        "colab": {
          "base_uri": "https://localhost:8080/"
        },
        "outputId": "b941b490-d88e-4da2-fb6c-353d885818aa"
      },
      "execution_count": 12,
      "outputs": [
        {
          "output_type": "execute_result",
          "data": {
            "text/plain": [
              "{'n_instruments': 9,\n",
              " 'program_numbers': [29, 32, 30, 28, 25, 81, 33, 27],\n",
              " 'key_numbers': [0],\n",
              " 'tempos': [190.0002850004275],\n",
              " 'time_signature_changes': [TimeSignature(numerator=4, denominator=4, time=0.0)],\n",
              " 'end_time': 238.775957625,\n",
              " 'lyrics': []}"
            ]
          },
          "metadata": {},
          "execution_count": 12
        }
      ]
    },
    {
      "cell_type": "markdown",
      "source": [
        "# Data Processing"
      ],
      "metadata": {
        "id": "TFTAujTHpowg"
      }
    },
    {
      "cell_type": "markdown",
      "source": [
        "As we can see music21 represents music.\n",
        "We have, two different kind of elements:\n",
        "* Notes\n",
        "* Chords\n",
        "\n",
        "We also have the time offset of each element(this is the time when the note or chord must be played)."
      ],
      "metadata": {
        "id": "74J9MUswwLTg"
      }
    },
    {
      "cell_type": "code",
      "source": [
        "file = current_path+\"midi_songs/dataset/clean_midi/Jackson 5/I Want You Back.mid\"\n",
        "midi = converter.parse(file)\n",
        "notes_to_parse = midi.flatten().notes\n",
        "for element in notes_to_parse[:10]:\n",
        "  print(element, element.offset)"
      ],
      "metadata": {
        "id": "A5lLXbZvb-Xa",
        "colab": {
          "base_uri": "https://localhost:8080/"
        },
        "outputId": "e01dc9d9-560d-49e3-ac2c-3ff376f61a2d"
      },
      "execution_count": 13,
      "outputs": [
        {
          "output_type": "stream",
          "name": "stdout",
          "text": [
            "<music21.note.Unpitched object at 0x7af903b831c0> 4.0\n",
            "<music21.note.Unpitched object at 0x7af903b83280> 5.0\n",
            "<music21.note.Unpitched object at 0x7af903b83340> 6.0\n",
            "<music21.chord.Chord C7 B6 A6 G6 F6 E6> 7.0\n",
            "<music21.chord.Chord D6 C6 B5 A5 G5 F5> 7.25\n",
            "<music21.chord.Chord E5 D5 C5 B4 A4 G4> 7.5\n",
            "<music21.chord.Chord F4 E4 D4 C4 B3 A3> 7.75\n",
            "<music21.note.Note G#> 8.0\n",
            "<music21.note.Note G#> 8.0\n",
            "<music21.chord.Chord G#4 G#3> 8.0\n"
          ]
        }
      ]
    },
    {
      "cell_type": "markdown",
      "source": [
        "#Artists for each genre"
      ],
      "metadata": {
        "id": "13jqOVnP-PFp"
      }
    },
    {
      "cell_type": "code",
      "source": [
        "import os\n",
        "import shutil\n",
        "\n",
        "PATH = \"/content/drive/MyDrive/ISPR_PRJ/midi_songs/dataset/lakh_playlist/playlists\"\n",
        "source = \"/content/drive/MyDrive/ISPR_PRJ/midi_songs/dataset/clean_midi\"\n",
        "\n",
        "for y in sorted(os.listdir(PATH)):\n",
        "  z = open(PATH+\"/\"+y)\n",
        "  name = z.read()\n",
        "\n",
        "  temp = os.path.splitext(y)\n",
        "  genre = temp[0]\n",
        "\n",
        "  print(\"GENERE: \"+genre+\"\\n\")\n",
        "  print(name)\n",
        "\n",
        "  z.close()"
      ],
      "metadata": {
        "colab": {
          "base_uri": "https://localhost:8080/"
        },
        "id": "cqjxseD351Up",
        "outputId": "31f23af7-202b-42eb-ee9a-c3c1db3a1373"
      },
      "execution_count": 14,
      "outputs": [
        {
          "output_type": "stream",
          "name": "stdout",
          "text": [
            "GENERE: alternativeRock\n",
            "\n",
            "Radiohead\n",
            "Alice in Chains\n",
            "Beck\n",
            "Bush\n",
            "Depeche Mode\n",
            "Foo Fighters\n",
            "Hole\n",
            "Jane's Addiction\n",
            "Nirvana\n",
            "Pearl Jam\n",
            "Sonic Youth\n",
            "The Smashing Pumpkins\n",
            "The Smiths\n",
            "Weezer\n",
            "4 Non Blondes\n",
            "\n",
            "GENERE: artRock\n",
            "\n",
            "Pink Floyd\n",
            "The Who\n",
            "Queen\n",
            "Zappa\n",
            "Zappa Frank\n",
            "King Crimson\n",
            "Camel\n",
            "Roxy Music\n",
            "Yes\n",
            "Genesis\n",
            "Tool\n",
            "Peter Gabriel\n",
            "10cc\n",
            "Tool\n",
            "\n",
            "\n",
            "GENERE: blues\n",
            "\n",
            "B.B. King\n",
            "Duke Robillard\n",
            "Jimmy Reed\n",
            "John Lee Hooker\n",
            "Johnny Shines\n",
            "Professor Longhair\n",
            "Rufus Thomas\n",
            "Wilbert Harrison\n",
            "\n",
            "GENERE: bluesRock\n",
            "\n",
            "Guess Who\n",
            "Bachman-Turner Overdrive\n",
            "Santana\n",
            "ZZ Top\n",
            "Led Zeppelin\n",
            "The Allman Brothers Band\n",
            "The Rolling Stones\n",
            "The Yardbirds\n",
            "Canned Heat\n",
            "Ten Years After\n",
            "Fleetwood Mac\n",
            "Jeff Beck\n",
            "The Animals\n",
            "The Doors\n",
            "AC DC\n",
            "Lynyrd Skynyrd\n",
            "Aerosmith\n",
            "Derek and the Dominos\n",
            "Bad Company\n",
            "Status Quo\n",
            "Pink Floyd\n",
            "Cream\n",
            "Eric Clapton\n",
            "Jeff Beck\n",
            "Deep Purple\n",
            "Black Sabbath\n",
            "Three Dog Night\n",
            "Grand Funk Railroad\n",
            "\n",
            "\n",
            "GENERE: country\n",
            "\n",
            "Alabama\n",
            "Alan Jackson\n",
            "Anne Murray\n",
            "Bobby Bare\n",
            "Buck Owens\n",
            "Charlie Rich\n",
            "Conway Twitty\n",
            "Crystal Gayle\n",
            "Dixie Chicks\n",
            "Eddy Arnold\n",
            "Floyd Cramer\n",
            "Garth Brooks\n",
            "Glen Campbell\n",
            "Hank Williams\n",
            "Johnny Cash\n",
            "Johnny Horton\n",
            "Kenny Baker\n",
            "Kris Kristofferson\n",
            "LeAnn Rimes\n",
            "Mac Davis\n",
            "Merle Travis\n",
            "Patsy Cline\n",
            "Restless Heart\n",
            "Roy Clark\n",
            "Shania Twain\n",
            "Sheb Wooley\n",
            "Tammy Wynette\n",
            "The Mavericks\n",
            "Tracy Byrd\n",
            "Travis Tritt\n",
            "Trisha Yearwood\n",
            "Willie Nelson\n",
            "\n",
            "GENERE: countryRock\n",
            "\n",
            "Band\n",
            "Eagles\n",
            "The Byrds\n",
            "Poco\n",
            "The Marshall Tucker Band\n",
            "Lynyrd Skynyrd\n",
            "Creedence Clearwater Revival\n",
            "\n",
            "\n",
            "GENERE: danceMusic\n",
            "\n",
            "Michael Jackson\n",
            "Jackson Michael\n",
            "Madonna\n",
            "Janet Jackson\n",
            "Prince\n",
            "Howard Jones\n",
            "Thomas Dolby\n",
            "Culture Club\n",
            "Duran Duran\n",
            "Boy George\n",
            "Kraftwerk\n",
            "Daft Punk\n",
            "New Order\n",
            "The Prodigy\n",
            "Depeche Mode\n",
            "Eurythmics\n",
            "Duran Duran\n",
            "Pet Shop Boys\n",
            "The Human League\n",
            "Pink Floyd\n",
            "808 State\n",
            "Orchestral Manoeuvres in the Dark\n",
            "Inner City\n",
            "C+C Music Factory\n",
            "M People\n",
            "Nine Inch Nails\n",
            "Devo\n",
            "The KLF\n",
            "Ace of Base\n",
            "U2\n",
            "La Bouche\n",
            "N-Trance\n",
            "Bananarama\n",
            "Frankie Goes to Hollywood\n",
            "Olivia Newton-John\n",
            "Cyndi Lauper\n",
            "\n",
            "\n",
            "GENERE: disco\n",
            "\n",
            "Village People\n",
            "Bee Gees\n",
            "Chic\n",
            "KC and the Sunshine Band\n",
            "Sister Sledge\n",
            "ABBA\n",
            "The Trammps\n",
            "Boney M\n",
            "Earth, Wind & Fire\n",
            "Kool & The Gang\n",
            "Lipps, Inc\n",
            "Rose Royce\n",
            "Queen\n",
            "The Pointer Sisters\n",
            "Jackson 5\n",
            "Daft Punk\n",
            "Silver Convention\n",
            "Tavares\n",
            "The O'Jays\n",
            "Blondie\n",
            "A Taste of Honey\n",
            "Electric Light Orchestra\n",
            "Three degrees\n",
            "Commodores\n",
            "The Temptations\n",
            "Jamiroquai\n",
            "Kiss\n",
            "Harold Melvin\n",
            "Labelle\n",
            "The Weather Girls\n",
            "MFSB\n",
            "Heatwave\n",
            "Average White Band\n",
            "The Isley Brothers\n",
            "The Supremes\n",
            "The Ritchie Family\n",
            "Love Unlimited Orchestra\n",
            "Wild Cherry\n",
            "\n",
            "\n",
            "GENERE: electronica\n",
            "\n",
            "2 Unlimited\n",
            "808 State\n",
            "Daft Punk\n",
            "Darude\n",
            "DJ BoBo\n",
            "Eiffel 65\n",
            "Faithless\n",
            "Fatboy Slim\n",
            "Inner City\n",
            "Jean Michel Jarre\n",
            "Kraftwerk\n",
            "LFO\n",
            "Moby\n",
            "Orbital\n",
            "Soul II Soul\n",
            "The KLF\n",
            "The Prodigy\n",
            "Vangelis\n",
            "William Orbit\n",
            "\n",
            "GENERE: folkRock\n",
            "\n",
            "Bob Dylan\n",
            "The Byrds\n",
            "Simon & Garfunkel\n",
            "Turtles\n",
            "MAMAS & Papas\n",
            "Heart\n",
            "Gordon Lightfoot\n",
            "Jessica Simpson\n",
            "Judy Collins\n",
            "Sandy Denny\n",
            "Sonny & Cher\n",
            "The Beach Boys\n",
            "\n",
            "GENERE: funk\n",
            "\n",
            "James Brown\n",
            "Lionel Richie\n",
            "\n",
            "\n",
            "\n",
            "GENERE: garageRock\n",
            "\n",
            "Kingsmen\n",
            "Paul Revere and the Raiders\n",
            "The Troggs\n",
            "\n",
            "\n",
            "\n",
            "GENERE: glamRock\n",
            "\n",
            "David Bowie\n",
            "Bowie David\n",
            "Alice Cooper\n",
            "Motley Crue\n",
            "T. Rex\n",
            "Sweet\n",
            "Mott The Hoople\n",
            "Def Leppard\n",
            "Kiss\n",
            "Queen\n",
            "Quiet Riot\n",
            "Roxy Music\n",
            "Guns N'Roses\n",
            "Bon Jovi\n",
            "Aerosmith\n",
            "Whitesnake\n",
            "Mud\n",
            "Sparks\n",
            "Great White\n",
            "Bay City Rollers\n",
            "White Lion\n",
            "AC DC\n",
            "The Rubettes\n",
            "Europe\n",
            "Winger\n",
            "Led Zeppelin\n",
            "\n",
            "\n",
            "GENERE: hardRock\n",
            "\n",
            "Guns N' Roses\n",
            "Led Zeppelin\n",
            "AC DC\n",
            "Aerosmith\n",
            "Black Sabbath\n",
            "Motley Crue\n",
            "Deep Purple\n",
            "Metallica\n",
            "Scorpions\n",
            "Kiss\n",
            "Def Leppard\n",
            "Judas Priest\n",
            "Iron Maiden\n",
            "Bon Jovi\n",
            "Whitesnake\n",
            "Alice in Chains\n",
            "Soundgarden\n",
            "Megadeth\n",
            "Ratt\n",
            "Van Halen\n",
            "The Rolling Stones\n",
            "Rage Against the Machine\n",
            "Skid Row\n",
            "Queen\n",
            "Blue Oyster Cult\n",
            "Thin Lizzy\n",
            "Pantera\n",
            "Poison\n",
            "Korn\n",
            "Nirvana\n",
            "Quiet Riot\n",
            "Rush\n",
            "Pearl Jam\n",
            "Rainbow\n",
            "Godsmack\n",
            "Stone Temple Pilots\n",
            "The Who\n",
            "Faith No More\n",
            "Dream Theater\n",
            "Foreigner\n",
            "Bad Company\n",
            "ZZ Top\n",
            "\n",
            "\n",
            "GENERE: heavyMetal\n",
            "\n",
            "Aerosmith\n",
            "Alice Cooper\n",
            "Alice in Chains\n",
            "Black Sabbath\n",
            "Bon Jovi\n",
            "Deep Purple\n",
            "Def Leppard\n",
            "Deftones\n",
            "Dream Theater\n",
            "Europe\n",
            "Extreme\n",
            "Faith No More\n",
            "Filter\n",
            "Firehouse\n",
            "Godsmack\n",
            "Great White\n",
            "Guns N' Roses\n",
            "Iron Butterfly\n",
            "Iron Maiden\n",
            "Judas Priest\n",
            "Kid Rock\n",
            "Kiss\n",
            "Korn\n",
            "Led Zeppelin\n",
            "Limp Bizkit\n",
            "Marilyn Manson\n",
            "Megadeth\n",
            "Metallica\n",
            "Night Ranger\n",
            "Orgy\n",
            "Ozzy Osbourne\n",
            "Pantera\n",
            "Primus\n",
            "Queensryche\n",
            "Quiet Riot\n",
            "Rage Against the Machine\n",
            "Rainbow\n",
            "Rammstein\n",
            "Ratt\n",
            "Rob Zombie\n",
            "Scorpions\n",
            "Skid Row\n",
            "Steve Vai\n",
            "Ted Nugent\n",
            "The Cult\n",
            "Thin Lizzy\n",
            "Tool\n",
            "Type O Negative\n",
            "Ugly Kid Joe\n",
            "Uriah Heep\n",
            "Van Halen\n",
            "White Lion\n",
            "Whitesnake\n",
            "Winger\n",
            "\n",
            "GENERE: industrialRock\n",
            "\n",
            "Nine Inch Nails\n",
            "Marilyn Manson\n",
            "Rammstein\n",
            "Orgy\n",
            "\n",
            "\n",
            "GENERE: instrumentalRock\n",
            "\n",
            "The Shadows\n",
            "\n",
            "\n",
            "GENERE: jazz\n",
            "\n",
            "Al Hirt\n",
            "Alan Jackson\n",
            "Bob James\n",
            "Bobby McFerrin\n",
            "Chick Corea\n",
            "Chuck Mangione\n",
            "Dave Brubeck\n",
            "Dave Grusin\n",
            "Dick Hyman\n",
            "Duke Ellington\n",
            "Dune\n",
            "Erroll Garner\n",
            "Eubie Blake\n",
            "Fourplay\n",
            "Gary Burton\n",
            "George Benson\n",
            "Glenn Miller\n",
            "Hank Jones\n",
            "Herbie Hancock\n",
            "Herbie Mann\n",
            "Jackie McLean\n",
            "Jaco Pastorius\n",
            "Jan Hammer\n",
            "Jimmy McGriff\n",
            "John Scofield\n",
            "Kenny G\n",
            "Kenny Dorham\n",
            "Lee Ritenour\n",
            "Louis Armstrong\n",
            "Nat King Cole\n",
            "Nina Simone\n",
            "Norman Connors\n",
            "Oscar Peterson\n",
            "Pat Metheny\n",
            "Paul Desmond\n",
            "Quincy Jones\n",
            "Rainbow\n",
            "Scott Joplin\n",
            "Spyro Gyra\n",
            "Stan Getz\n",
            "Stan Kenton\n",
            "Stanley Clarke\n",
            "Thelonious Monk\n",
            "Tom Jones\n",
            "Tommy Flanagan\n",
            "Vince Guaraldi\n",
            "Weather Report\n",
            "Will Smith\n",
            "\n",
            "\n",
            "GENERE: jazzRock\n",
            "\n",
            "Blood, Sweat & Tears\n",
            "Van Morrison\n",
            "Weather Report\n",
            "Steely Dan\n",
            "Chicago\n",
            "King Crimson\n",
            "Emerson, Lake & Palmer\n",
            "Davis Miles\n",
            "Zappa Frank\n",
            "Sparks\n",
            "Traffic\n",
            "Level 42\n",
            "\n",
            "\n",
            "\n",
            "GENERE: latin\n",
            "\n",
            "Astrud Gilberto\n",
            "Buena Vista Social Club\n",
            "Enrique Iglesias\n",
            "Juan Luis Guerra\n",
            "Laura Pausini\n",
            "Marc Anthony\n",
            "Ricky Martin\n",
            "Zucchero\n",
            "\n",
            "GENERE: newWave\n",
            "\n",
            "Elvis Costello\n",
            "The Cars\n",
            "Heart\n",
            "Blondie\n",
            "The Police\n",
            "U2\n",
            "Huey Lewis\n",
            "AC DC\n",
            "\n",
            "\n",
            "GENERE: nuMetal\n",
            "\n",
            "Korn\n",
            "\n",
            "\n",
            "GENERE: platinumAndGold\n",
            "\n",
            "The Beatles\n",
            "Garth Brooks\n",
            "Brooks Garth\n",
            "Elvis Presley\n",
            "Eagles\n",
            "Led Zeppelin\n",
            "Billy Joel\n",
            "Michael Jackson\n",
            "Jackson Michael\n",
            "Elton John\n",
            "John Elton\n",
            "Pink Floyd\n",
            "AC DC\n",
            "Barbra Streisand\n",
            "The Rolling Stones\n",
            "Aerosmith\n",
            "Bruce Springsteen\n",
            "Madonna\n",
            "Mariah Carey\n",
            "Metallica\n",
            "Whitney Houston\n",
            "Van Halen\n",
            "Fleetwood Mac\n",
            "U2\n",
            "Celine Dion\n",
            "Neil Diamond\n",
            "Journey\n",
            "Shania Twain\n",
            "Kenny G\n",
            "Rogers Kenny\n",
            "Alabama\n",
            "Eminem\n",
            "Bob Seger\n",
            "Guns N' Roses\n",
            "Santana\n",
            "Alan Jackson\n",
            "Eric Clapton\n",
            "Simon & Garfunkel\n",
            "Chicago\n",
            "Foreigner\n",
            "Rod Stewart\n",
            "Backstreet Boys\n",
            "Bob Dylan\n",
            "Def Leppard\n",
            "Queen\n",
            "Britney Spears\n",
            "Bon Jovi\n",
            "Dave Mathews Band\n",
            "John Denver\n",
            "Phil Collins\n",
            "Collins Phil\n",
            "The Doors\n",
            "James Taylor\n",
            "R. Kelly\n",
            "Tom Petty\n",
            "Willie Nelson\n",
            "Pearl Jam\n",
            "Boston\n",
            "Dixie Chicks\n",
            "Linda Ronstadt\n",
            "Ozzy Osbourne\n",
            "Lynyrd Skynyrd\n",
            "Bee Gees\n",
            "Michael Bolton\n",
            "Creedence Clearwater Revival\n",
            "Linkin Park\n",
            "Brooks & Dunn\n",
            "John Mellencamp\n",
            "Barry Manilow\n",
            "Boyz II Men\n",
            "Frank Sinatra\n",
            "Enya\n",
            "Janet Jackson\n",
            "Luther Vandross\n",
            "Steve Miller Band\n",
            "Nirvana\n",
            "Rush\n",
            "Creed\n",
            "ZZ Top\n",
            "Hootie & the Blowfish\n",
            "Red Hot Chili Peppers\n",
            "Motley Crue\n",
            "Carpenters\n",
            "Kid Rock\n",
            "Cash Johnny\n",
            "Sade\n",
            "The Cars\n",
            "Earth, Wind & Fire\n",
            "Beastie Boys\n",
            "Jimi Hendrix\n",
            "Jimmy Buffett\n",
            "TLC\n",
            "Heart\n",
            "Lionel Richie\n",
            "The Beach Boys\n",
            "Usher\n",
            "Nelly\n",
            "The Police\n",
            "The Doobie Brothers\n",
            "Bob Marley\n",
            "Genesis\n",
            "Meat Loaf\n",
            "Kiss\n",
            "The Who\n",
            "Prince\n",
            "Alanis Morissette\n",
            "Mary J. Blige\n",
            "R.E.M\n",
            "Stevie Wonder\n",
            "Grateful Dead\n",
            "The Smashing Pumpkins\n",
            "Toni Braxton\n",
            "Hank Williams\n",
            "Jackson Browne\n",
            "Janis Joplin\n",
            "Sarah McLachlan\n",
            "Jewel\n",
            "The Monkees\n",
            "Crosby, Stills, Nash & Young\n",
            "Sting\n",
            "Stone Temple Pilots\n",
            "Destiny's Child\n",
            "Styx\n",
            "Neil Young\n",
            "Bryan Adams\n",
            "Amy Grant\n",
            "Bonnie Raitt\n",
            "Johnny Mathis\n",
            "Limp Bizkit\n",
            "Korn\n",
            "New Kids on the Block\n",
            "Sheryl Crow\n",
            "Andrea Bocelli\n",
            "Prince\n",
            "Paul McCartney\n",
            "Christina Aguilera\n",
            "Dire Straits\n",
            "The Isley Brothers\n",
            "Bad Company\n",
            "Kansas\n",
            "No Doubt\n",
            "George Michael\n",
            "Black Sabbath\n",
            "INXS\n",
            "Carole King\n",
            "The Cranberries\n",
            "Patsy Cline\n",
            "Gloria Estefan\n",
            "Anne Murray\n",
            "Ted Nugent\n",
            "Dan Fogelberg\n",
            "Hall & Oates\n",
            "DMX\n",
            "Natalie\n",
            "Paul Simon\n",
            "Yes\n",
            "Melissa Etheridge\n",
            "Tracy Chapman\n",
            "Huey Lewis & The News\n",
            "Trisha Yearwood\n",
            "Cher\n",
            "Pat Benatar\n",
            "Snoop Dogg\n",
            "The Temptations\n",
            "Whitesnake\n",
            "Anita Baker\n",
            "Will Smith\n",
            "Bette Midler\n",
            "Travis Tritt\n",
            "Duran Duran\n",
            "Counting Crows\n",
            "Andrew Lloyd Webber\n",
            "Nat King Cole\n",
            "Live\n",
            "Paula Abdul\n",
            "Don Henley\n",
            "Yanni\n",
            "Grand Funk Railroad\n",
            "Jethro Tull\n",
            "Loverboy\n",
            "Spice Girls\n",
            "Jennifer Lopez\n",
            "Olivia Newton-John\n",
            "Steely Dan\n",
            "Nas\n",
            "Alice in Chains\n",
            "Brandy\n",
            "Andy Williams\n",
            "Billy Ray Cyrus\n",
            "Ricky Martin\n",
            "Bush\n",
            "John Lennon\n",
            "Lenny Kravitz\n",
            "ABBA\n",
            "Depeche Mode\n",
            "Stevie Nicks\n",
            "Scorpions\n",
            "Savage Garden\n",
            "Master P\n",
            "\n",
            "\n",
            "\n",
            "\n",
            "\n",
            "\n",
            "\n",
            "\n",
            "GENERE: popRock\n",
            "\n",
            "883\n",
            "The Beatles\n",
            "Eagles\n",
            "Queen\n",
            "Bee Gees\n",
            "Carpenters\n",
            "Stevie Wonder\n",
            "Dire Straits\n",
            "Adele\n",
            "Electric Light Orchestra\n",
            "Tommy James\n",
            "The Beach Boys\n",
            "The Beatles\n",
            "U2\n",
            "Toto\n",
            "TLC\n",
            "Three Dog Night\n",
            "\n",
            "\n",
            "\n",
            "GENERE: progressiveRock\n",
            "\n",
            "King Crimson\n",
            "Emerson, Lake & Palmer\n",
            "Pink Floyd\n",
            "Yes\n",
            "Rush\n",
            "Genesis\n",
            "Jethro Tull\n",
            "Rush\n",
            "Dream Theater\n",
            "Marillion\n",
            "Supertramp\n",
            "Kansas\n",
            "The Moody Blues\n",
            "Camel\n",
            "Electric Light Orchestra\n",
            "Procol Harum\n",
            "Styx\n",
            "Deep Purple\n",
            "Procol Harum\n",
            "Percy Sledge\n",
            "Tool\n",
            "\n",
            "\n",
            "GENERE: psychedelia\n",
            "\n",
            "The Beach Boys\n",
            "The Beatles\n",
            "Jefferson Airplane\n",
            "Grateful Dead\n",
            "Janis Joplin\n",
            "Sly & The Family Stone\n",
            "The Rolling Stones\n",
            "Cream\n",
            "Jimi Hendrix\n",
            "The Doors\n",
            "Led Zeppelin\n",
            "Deep Purple\n",
            "Traffic\n",
            "Van Morrison\n",
            "Donovan\n",
            "\n",
            "\n",
            "GENERE: punk\n",
            "\n",
            "blink-182\n",
            "Green Day\n",
            "NOFX\n",
            "Patti Smith\n",
            "The Clash\n",
            "\n",
            "GENERE: rap\n",
            "\n",
            "Beastie Boys\n",
            "Busta Rhymes\n",
            "DMX\n",
            "Dr. Dre\n",
            "Eminem\n",
            "Everlast\n",
            "Ice Cube\n",
            "James\n",
            "Limp Bizkit\n",
            "LL Cool J\n",
            "Missy Elliott\n",
            "Nas\n",
            "Nelly\n",
            "Snoop Dogg\n",
            "The Sugarhill Gang\n",
            "\n",
            "GENERE: reggae\n",
            "\n",
            "Aswad\n",
            "Beres Hammond\n",
            "Bob Marley\n",
            "Desmond Dekker\n",
            "Inner Circle\n",
            "Jimmy Cliff\n",
            "Johnny Nash\n",
            "Maxi Priest\n",
            "Peter Tosh\n",
            "Shaggy\n",
            "Bob Marley\n",
            "\n",
            "\n",
            "GENERE: rhythmAndBlues\n",
            "\n",
            "Aaron Neville\n",
            "Al Green\n",
            "Aretha Franklin\n",
            "Alexander O'Neal\n",
            "Allen Toussaint\n",
            "Anita Baker\n",
            "Ann Peebles\n",
            "Babyface\n",
            "Barry White\n",
            "Bill Withers\n",
            "Billy Paul\n",
            "Boney M.\n",
            "Boyz II Men\n",
            "Brenton Wood\n",
            "Cameo\n",
            "Chaka Khan\n",
            "Chic\n",
            "Curtis Mayfield\n",
            "Destiny's Child\n",
            "Diana Ross\n",
            "Dionne Warwick\n",
            "Donna Summer\n",
            "Eddie Floyd\n",
            "En Vogue\n",
            "Fats Domino\n",
            "Gary Moore\n",
            "Gene Chandler\n",
            "Gladys Knight\n",
            "Gloria Gaynor\n",
            "Grace Jones\n",
            "Harold Melvin\n",
            "Isaac Hayes\n",
            "Jackie Wilson\n",
            "James Brown\n",
            "James Taylor\n",
            "Janet Jackson\n",
            "Jennifer Lopez\n",
            "Junior Walker\n",
            "LaBelle\n",
            "Lionel Richie\n",
            "Lisa Stansfield\n",
            "Lou Rawls\n",
            "Luther Vandross\n",
            "Macy Gray\n",
            "MFSB\n",
            "Mariah Carey\n",
            "Martha Reeves\n",
            "Marvin Gaye\n",
            "Mary J. Blige\n",
            "Mary Wells\n",
            "Michael Jackson\n",
            "Natalie Cole\n",
            "Otis Redding\n",
            "Percy Sledge\n",
            "Ray Charles\n",
            "R. Kelly\n",
            "Rick James\n",
            "Roberta Flack\n",
            "Robyn\n",
            "Rufus\n",
            "Sade\n",
            "Sam Cooke\n",
            "Sister Sledge\n",
            "Smokey Robinson\n",
            "Stevie Wonder\n",
            "Sting\n",
            "TLC\n",
            "The Blues Brothers\n",
            "The Drifters\n",
            "The Five Satins\n",
            "The Gap Band\n",
            "The Isley Brothers\n",
            "The Manhattans\n",
            "The Marcels\n",
            "The O'Jays\n",
            "The Platters\n",
            "The Pointer Sisters\n",
            "The Pretenders\n",
            "The Stylistics\n",
            "The Supremes\n",
            "The Temptations\n",
            "The Whispers\n",
            "Tina Turner\n",
            "Toni Braxton\n",
            "Tower of Power\n",
            "Us3\n",
            "Usher\n",
            "Village People\n",
            "War\n",
            "Whitney Houston\n",
            "Wilson Pickett\n",
            "All Saints\n",
            "\n",
            "\n",
            "GENERE: rock\n",
            "\n",
            "Radiohead\n",
            "10,000 Maniacs\n",
            "311\n",
            "ABBA\n",
            "Ace of Base\n",
            "Adriano Celentano\n",
            "Aerosmith\n",
            "a-ha\n",
            "Air Supply\n",
            "Alain Souchon\n",
            "Alanis Morissette\n",
            "Alice Cooper\n",
            "Alice in Chains\n",
            "Alien Ant Farm\n",
            "All Saints\n",
            "Alphaville\n",
            "Anastacia\n",
            "Annie Lennox\n",
            "Asia\n",
            "Atomic Kitten\n",
            "Bad Company\n",
            "Bad Manners\n",
            "Barenaked Ladies\n",
            "Beck\n",
            "Belinda Carlisle\n",
            "Ben Folds Five\n",
            "Big Bad Voodoo Daddy\n",
            "Billy Idol\n",
            "Billy Joel\n",
            "Black Sabbath\n",
            "Blind Guardian\n",
            "Blind Melon\n",
            "blink-182\n",
            "Blondie\n",
            "Blues Traveler\n",
            "Blur\n",
            "Bob Dylan\n",
            "Bon Jovi\n",
            "Boston\n",
            "Boyzone\n",
            "Brian Wilson\n",
            "Britney Spears\n",
            "Bruce Springsteen\n",
            "Bryan Adams\n",
            "Buddy Holly\n",
            "Buffalo Springfield\n",
            "Bush\n",
            "Cake\n",
            "Camel\n",
            "Canned Heat\n",
            "Carole King\n",
            "Cheap Trick\n",
            "Cher\n",
            "Chicago\n",
            "Chris de Burgh\n",
            "Chris Isaak\n",
            "Chris Rea\n",
            "Christina Aguilera\n",
            "Chuck Berry\n",
            "Chumbawamba\n",
            "Collective Soul\n",
            "Counting Crows\n",
            "Crash Test Dummies\n",
            "Creed\n",
            "Creedence Clearwater Revival\n",
            "Crowded House\n",
            "Cyndi Lauper\n",
            "Dannii Minogue\n",
            "Dave Matthews Band\n",
            "David Bowie\n",
            "David Byrne\n",
            "Deep Purple\n",
            "Def Leppard\n",
            "Deftones\n",
            "Depeche Mode\n",
            "Devo\n",
            "Dire Straits\n",
            "Donovan\n",
            "Dream Theater\n",
            "Dr. John\n",
            "Duran Duran\n",
            "Dusty Springfield\n",
            "Eagle-Eye Cherry\n",
            "Eels\n",
            "Electric Light Orchestra\n",
            "Elton John\n",
            "Elvis Costello\n",
            "Elvis Presley\n",
            "Erasure\n",
            "Eric Clapton\n",
            "E-Rotic\n",
            "Europe\n",
            "Eurythmics\n",
            "Everclear\n",
            "Extreme\n",
            "Faith No More\n",
            "Falco\n",
            "Filter\n",
            "Fiona Apple\n",
            "Fleetwood Mac\n",
            "Foo Fighters\n",
            "Foreigner\n",
            "Freddie Mercury\n",
            "Garbage\n",
            "George Harrison\n",
            "George Michael\n",
            "Geri Halliwell\n",
            "Gloria Estefan\n",
            "Godsmack\n",
            "Goo Goo Dolls\n",
            "Grand Funk Railroad\n",
            "Green Day\n",
            "Guns N' Roses\n",
            "Hank Williams\n",
            "Hanson\n",
            "Harry Nilsson\n",
            "Harvey Danger\n",
            "Hole\n",
            "Incognito\n",
            "INXS\n",
            "Iron Maiden\n",
            "Jackson Browne\n",
            "Jamiroquai\n",
            "Jane's Addiction\n",
            "Janis Joplin\n",
            "Jars of Clay\n",
            "Jeff Beck\n",
            "Jefferson Airplane\n",
            "Jethro Tull\n",
            "Jewel\n",
            "Jimi Hendrix\n",
            "Jimmy Buffett\n",
            "J.J. Cale\n",
            "Joe Cocker\n",
            "Joe Satriani\n",
            "John Denver\n",
            "John Lennon\n",
            "Joni Mitchell\n",
            "Journey\n",
            "Judas Priest\n",
            "Kansas\n",
            "Kate Bush\n",
            "Kid Rock\n",
            "King Crimson\n",
            "Kylie Minogue\n",
            "Led Zeppelin\n",
            "Lenny Kravitz\n",
            "Ligabue\n",
            "Limp Bizkit\n",
            "Linkin Park\n",
            "Lisa Loeb\n",
            "Live\n",
            "Local H\n",
            "Lou Reed\n",
            "Lynyrd Skynyrd\n",
            "Madness\n",
            "Madonna\n",
            "Mandy Moore\n",
            "Marc Cohn\n",
            "Marianne Faithfull\n",
            "Marillion\n",
            "Marilyn Manson\n",
            "Meat Loaf\n",
            "Meat Puppets\n",
            "Mecano\n",
            "Megadeth\n",
            "Metallica\n",
            "Michael Bolton\n",
            "Midnight Oil\n",
            "Mina\n",
            "Modern Talking\n",
            "Nada Surf\n",
            "Nancy Sinatra\n",
            "Natalie Imbruglia\n",
            "Natalie Merchant\n",
            "Nazareth\n",
            "Neil Diamond\n",
            "Neil Young\n",
            "New Order\n",
            "Nine Inch Nails\n",
            "Nirvana\n",
            "No Doubt\n",
            "NOFX\n",
            "Oasis\n",
            "Ocean Colour Scene\n",
            "Oingo Boingo\n",
            "Orgy\n",
            "Our Lady Peace\n",
            "Ozzy Osbourne\n",
            "Pantera\n",
            "Papa Roach\n",
            "Patti Smith\n",
            "Paul Anka\n",
            "Paul McCartney\n",
            "Paul Simon\n",
            "Pearl Jam\n",
            "Peter Gabriel\n",
            "Peter Frampton\n",
            "Pet Shop Boys\n",
            "Phil Collins\n",
            "Phish\n",
            "Pink Floyd\n",
            "Primus\n",
            "Prince\n",
            "Procol Harum\n",
            "Queen\n",
            "Rage Against the Machine\n",
            "Rammstein\n",
            "Randy Newman\n",
            "Reel Big Fish\n",
            "R.E.M.\n",
            "Robbie Williams\n",
            "Robert Miles\n",
            "Rob Zombie\n",
            "Rod Stewart\n",
            "Ronan Keating\n",
            "Roxette\n",
            "Roxy Music\n",
            "Roy Orbison\n",
            "Ry Cooder\n",
            "Saez\n",
            "Santana\n",
            "Sarah McLachlan\n",
            "Savage Garden\n",
            "Save Ferris\n",
            "Scooter\n",
            "Scorpions\n",
            "Seal\n",
            "Semisonic\n",
            "Sheryl Crow\n",
            "Silverchair\n",
            "Simple Minds\n",
            "Simply Red\n",
            "Sister Hazel\n",
            "Sixpence None the Richer\n",
            "Skid Row\n",
            "Smash Mouth\n",
            "Soft Cell\n",
            "Sonic Youth\n",
            "Soul Asylum\n",
            "Soundgarden\n",
            "Spice Girls\n",
            "Squirrel Nut Zippers\n",
            "Status Quo\n",
            "Steely Dan\n",
            "Steppenwolf\n",
            "Steve Miller Band\n",
            "Steve Vai\n",
            "Stevie Nicks\n",
            "Stone Temple Pilots\n",
            "Stray Cats\n",
            "Styx\n",
            "Sublime\n",
            "Sugar Ray\n",
            "Supertramp\n",
            "Suzanne Vega\n",
            "Swing Out Sister\n",
            "Take That\n",
            "Talking Heads\n",
            "Talk Talk\n",
            "Tears for Fears\n",
            "Texas\n",
            "The Alan Parsons Project\n",
            "The Allman Brothers Band\n",
            "The Animals\n",
            "The Beach Boys\n",
            "The Beatles\n",
            "The Beautiful South\n",
            "The Byrds\n",
            "The Cardigans\n",
            "The Cars\n",
            "The Clash\n",
            "The Corrs\n",
            "The Cranberries\n",
            "The Cult\n",
            "The Cure\n",
            "The Doobie Brothers\n",
            "The Doors\n",
            "The Hollies\n",
            "The Human League\n",
            "The Kelly Family\n",
            "The Kinks\n",
            "The Lemonheads\n",
            "The Mighty Mighty Bosstones\n",
            "The Moody Blues\n",
            "The Offspring\n",
            "The Police\n",
            "The Rolling Stones\n",
            "The Smashing Pumpkins\n",
            "The Smiths\n",
            "The Stranglers\n",
            "The Tragically Hip\n",
            "The Ventures\n",
            "The Verve\n",
            "The Wallflowers\n",
            "The Who\n",
            "The Yardbirds\n",
            "They Might Be Giants\n",
            "The Zombies\n",
            "Thin Lizzy\n",
            "Third Eye Blind\n",
            "Todd Rundgren\n",
            "Tom Petty\n",
            "Tool\n",
            "Tori Amos\n",
            "Toto\n",
            "Tracy Chapman\n",
            "T. Rex\n",
            "Type O Negative\n",
            "U2\n",
            "UB40\n",
            "Ultravox\n",
            "Uriah Heep\n",
            "Van Halen\n",
            "Van Morrison\n",
            "Vengaboys\n",
            "Vertical Horizon\n",
            "Warren Zevon\n",
            "Weezer\n",
            "Westlife\n",
            "White Lion\n",
            "Whitesnake\n",
            "White Zombie\n",
            "Yes\n",
            "Zebrahead\n",
            "ZZ Top\n",
            "\n",
            "GENERE: rockabilly\n",
            "\n",
            "Elvis Presley\n",
            "Bill Haley & His Comets\n",
            "Johnny Cash\n",
            "Carl Perkins\n",
            "Dorsey\n",
            "Gene Vincent\n",
            "Johnny Horton\n",
            "Jerry Lee Lewis\n",
            "Eddie Cochran\n",
            "Holly Buddy\n",
            "Valens Ritchie\n",
            "Chuck Berry\n",
            "Little Richard\n",
            "Domino Fats\n",
            "The Everly Brothers\n",
            "Roy Orbison\n",
            "Ricky Nelson\n",
            "Sam Cooke\n",
            "The Drifters\n",
            "Coasters\n",
            "The Ventures\n",
            "\n",
            "\n",
            "GENERE: rootsRock\n",
            "\n",
            "Creedence Clearwater Revival\n",
            "Band\n",
            "Dire Straits\n",
            "John Mellencamp\n",
            "Bruce Springsteen\n",
            "Los Lobos\n",
            "Chris Isaak\n",
            "Ry Cooder\n",
            "John Fogerty\n",
            "The Wallflowers\n",
            "J.J. Cale\n",
            "Bob Seger\n",
            "Peter Frampton\n",
            "Tom Petty and the Heartbreakers\n",
            "\n",
            "\n",
            "GENERE: softRock\n",
            "\n",
            "Fleetwood Mac\n",
            "Eagles\n",
            "Hall & Oates\n",
            "Air Supply\n",
            "Toto\n",
            "Journey\n",
            "Chicago\n",
            "Bee Gees\n",
            "Seals & Crofts\n",
            "The Doobie Brothers\n",
            "Carpenter\n",
            "REO Speedwagon\n",
            "Bread\n",
            "Foreigner\n",
            "America\n",
            "Styx\n",
            "Little River Band\n",
            "Crosby, Stills, Nash & Young\n",
            "Genesis\n",
            "Firefall\n",
            "Led Zeppelin\n",
            "Leo Sayer\n",
            "Orleans\n",
            "Paul McCartney\n",
            "Three Dog Night\n",
            "Jefferson Starship\n",
            "The Hollies\n",
            "10cc\n",
            "England Dan\n",
            "Supertramp\n",
            "Mike + The Mechanics\n",
            "Player\n",
            "Atlanta Rhythm Section\n",
            "Poco\n",
            "Simon & Garfunkel\n",
            "Toni Braxton\n",
            "\n",
            "GENERE: songWriters\n",
            "\n",
            "Taylor James\n",
            "Carole King\n",
            "Paul Simon\n",
            "Elton John\n",
            "Van Morrison\n",
            "Joni Mitchell\n",
            "Neil Young\n",
            "Alan Jackson\n",
            "Alain Souchon\n",
            "Alanis Morissette\n",
            "Amedeo Minghi\n",
            "Amos, Tori\n",
            "Amy Grant\n",
            "Andrea Bocelli\n",
            "Anna Oxa\n",
            "Antonello Venditti\n",
            "Barbara Streisand\n",
            "Barry Manilow\n",
            "Battisti\n",
            "Biagio Antonacci\n",
            "Brassens Georges\n",
            "Britney Spears\n",
            "Brooks Garth\n",
            "Garth Brooks\n",
            "Bruce Hornsby\n",
            "Bryan Adams\n",
            "Carboni\n",
            "Celine Dion\n",
            "Chaka Khan\n",
            "Charles Aznavour\n",
            "Cher\n",
            "Cocciante\n",
            "Collins Phil\n",
            "Phil Collins\n",
            "Crow Sheryl\n",
            "Enya\n",
            "\n",
            "Sheryl Crow\n",
            "Dalla\n",
            "Daniele\n",
            "\n",
            "\n",
            "\n",
            "\n",
            "\n",
            "\n",
            "GENERE: southernRock\n",
            "\n",
            "The Allman Brothers Band\n",
            "Lynyrd Skynyrd\n",
            "The Marshall Tucker Band\n",
            "ZZ Top\n",
            "Wet Willie\n",
            "Atlanta Rhythm Section\n",
            "Otis Redding\n",
            "Sam & Dave\n",
            "Wilson Pickett\n",
            "Aretha Franklin\n",
            "James Brown\n",
            "Santana\n",
            "\n",
            "\n",
            "GENERE: world\n",
            "\n",
            "Axelle Red\n",
            "Eros Ramazzotti\n",
            "Gipsy Kings\n",
            "Morandi\n",
            "Nek\n",
            "\n"
          ]
        }
      ]
    },
    {
      "cell_type": "code",
      "source": [
        "'''\n",
        "dest = \"/content/drive/MyDrive/ISPR_PRJ/midi_songs/dataset/Genres/country\"\n",
        "\n",
        "midi_files = os.listdir(source)\n",
        "for f in sorted(midi_files):\n",
        "  if f == \"Willie Nelson\":\n",
        "    shutil.move(source+\"/\"+f,dest)\n",
        "    print(\"done\")\n",
        "'''"
      ],
      "metadata": {
        "colab": {
          "base_uri": "https://localhost:8080/"
        },
        "id": "EWWaPbiDK6ex",
        "outputId": "7c54369f-3d3f-4b76-b561-d69bc893a42f"
      },
      "execution_count": null,
      "outputs": [
        {
          "output_type": "stream",
          "name": "stdout",
          "text": [
            "done\n"
          ]
        }
      ]
    },
    {
      "cell_type": "markdown",
      "source": [
        "Function to estract the name of a file(the song's name)\n",
        "and the name of the group\n",
        "\n"
      ],
      "metadata": {
        "id": "1_uScV5h-Yj2"
      }
    },
    {
      "cell_type": "code",
      "source": [
        "def get_file_name(file_path):\n",
        "\tfile_path_components = file_path.split('/')\n",
        "\tfile_name_and_extension = file_path_components[-1].rsplit('.', 1)\n",
        "\treturn file_name_and_extension[0]\n",
        "\n",
        "def get_group_name(path):\n",
        "  for x in os.listdir(path):\n",
        "    name = x\n",
        "    return name\n"
      ],
      "metadata": {
        "id": "qyy5JvCkE1S_"
      },
      "execution_count": 15,
      "outputs": []
    },
    {
      "cell_type": "code",
      "source": [
        "get_file_name(\"/content/drive/MyDrive/ISPR_PRJ/midi_songs/dataset/Genres/alternativeRock/Foo Fighters/Everlong.mid\")"
      ],
      "metadata": {
        "colab": {
          "base_uri": "https://localhost:8080/",
          "height": 35
        },
        "id": "Ryj-VIbvwKOB",
        "outputId": "5df273cd-42e5-4bed-98e1-8c33020266df"
      },
      "execution_count": 16,
      "outputs": [
        {
          "output_type": "execute_result",
          "data": {
            "text/plain": [
              "'Everlong'"
            ],
            "application/vnd.google.colaboratory.intrinsic+json": {
              "type": "string"
            }
          },
          "metadata": {},
          "execution_count": 16
        }
      ]
    },
    {
      "cell_type": "markdown",
      "source": [
        "For this project i decided to use alternativeRock,artRock and bluesRock songs all having the acoustic guitar as instrument, identified by the program '25'."
      ],
      "metadata": {
        "id": "07b4WUvl-oo_"
      }
    },
    {
      "cell_type": "code",
      "source": [
        "def compute_statistics(midi_file):\n",
        "    try:\n",
        "        pm = pretty_midi.PrettyMIDI(midi_file)\n",
        "        name_path = midi_file\n",
        "        result = get_file_name(name_path)\n",
        "        for i in pm.instruments:\n",
        "          if i.program == 25:\n",
        "            return {'Song': result,\n",
        "                    'n_instruments': len(pm.instruments),\n",
        "                    'program_numbers':[i.program for i in pm.instruments if not i.is_drum],\n",
        "                   }\n",
        "    except Exception as e:\n",
        "        pass"
      ],
      "metadata": {
        "id": "CEi8OWHmBEml"
      },
      "execution_count": 17,
      "outputs": []
    },
    {
      "cell_type": "markdown",
      "source": [
        "Here we compute in parallel the statistics of the songs for each genre\n"
      ],
      "metadata": {
        "id": "G4XYINTTxZH3"
      }
    },
    {
      "cell_type": "code",
      "source": [
        "Genres_path = \"/content/drive/MyDrive/ISPR_PRJ/midi_songs/dataset/Genres\"\n",
        "statistics = joblib.Parallel(n_jobs=10, verbose=0)(\n",
        "    joblib.delayed(compute_statistics)(midi_file)\n",
        "    for midi_file in glob.glob(os.path.join(Genres_path, 'bluesRock', '*', '*.mid')))\n",
        "\n",
        "statistics = [s for s in statistics if s is not None]"
      ],
      "metadata": {
        "id": "7kKQZPICuJ3I"
      },
      "execution_count": null,
      "outputs": []
    },
    {
      "cell_type": "code",
      "source": [
        "import pandas as pd\n",
        "df = pd.DataFrame(statistics)\n",
        "df"
      ],
      "metadata": {
        "colab": {
          "base_uri": "https://localhost:8080/",
          "height": 210
        },
        "id": "pOG_DIHEDMYH",
        "outputId": "d5aa9e38-891a-4859-d9eb-75ebd9d8a7c5"
      },
      "execution_count": 20,
      "outputs": [
        {
          "output_type": "error",
          "ename": "NameError",
          "evalue": "ignored",
          "traceback": [
            "\u001b[0;31m---------------------------------------------------------------------------\u001b[0m",
            "\u001b[0;31mNameError\u001b[0m                                 Traceback (most recent call last)",
            "\u001b[0;32m<ipython-input-20-2aeb67894be5>\u001b[0m in \u001b[0;36m<cell line: 2>\u001b[0;34m()\u001b[0m\n\u001b[1;32m      1\u001b[0m \u001b[0;32mimport\u001b[0m \u001b[0mpandas\u001b[0m \u001b[0;32mas\u001b[0m \u001b[0mpd\u001b[0m\u001b[0;34m\u001b[0m\u001b[0;34m\u001b[0m\u001b[0m\n\u001b[0;32m----> 2\u001b[0;31m \u001b[0mdf\u001b[0m \u001b[0;34m=\u001b[0m \u001b[0mpd\u001b[0m\u001b[0;34m.\u001b[0m\u001b[0mDataFrame\u001b[0m\u001b[0;34m(\u001b[0m\u001b[0mstatistics\u001b[0m\u001b[0;34m)\u001b[0m\u001b[0;34m\u001b[0m\u001b[0;34m\u001b[0m\u001b[0m\n\u001b[0m\u001b[1;32m      3\u001b[0m \u001b[0mdf\u001b[0m\u001b[0;34m\u001b[0m\u001b[0;34m\u001b[0m\u001b[0m\n",
            "\u001b[0;31mNameError\u001b[0m: name 'statistics' is not defined"
          ]
        }
      ]
    },
    {
      "cell_type": "markdown",
      "source": [
        "Now i sample 120 files which will be the ones i will use for the experiments"
      ],
      "metadata": {
        "id": "y9DLkrAW_KVm"
      }
    },
    {
      "cell_type": "code",
      "source": [
        "df2=df.sample(n=120)\n",
        "df2"
      ],
      "metadata": {
        "colab": {
          "base_uri": "https://localhost:8080/",
          "height": 423
        },
        "id": "G2a00Szklako",
        "outputId": "88aef753-abac-489d-ae14-13777373e01f"
      },
      "execution_count": null,
      "outputs": [
        {
          "output_type": "execute_result",
          "data": {
            "text/plain": [
              "                            Song  n_instruments  \\\n",
              "216  You Ain't Seen Nothin Yet.2             10   \n",
              "12          Jumpin' Jack Flash.1              9   \n",
              "114      Your Time Is Gonna Come             10   \n",
              "89      The Battle Of Evermore.2              6   \n",
              "208     If You Needed Somebody.1              5   \n",
              "..                           ...            ...   \n",
              "126                     Laughing             12   \n",
              "160                She's Waiting             15   \n",
              "167          Sisters Of The Moon             11   \n",
              "178                      Gypsy.2             11   \n",
              "65                 Maria Maria.1              8   \n",
              "\n",
              "                                       program_numbers  \n",
              "216               [25, 35, 27, 75, 27, 30, 30, 30, 30]  \n",
              "12                     [35, 25, 29, 28, 27, 27, 22, 2]  \n",
              "114              [18, 33, 25, 22, 52, 25, 25, 26, 116]  \n",
              "89                            [73, 72, 24, 24, 24, 25]  \n",
              "208                                   [100, 25, 25, 1]  \n",
              "..                                                 ...  \n",
              "126         [26, 27, 63, 35, 25, 1, 18, 52, 52, 4, 27]  \n",
              "160  [27, 30, 29, 81, 35, 24, 24, 25, 17, 90, 29, 2...  \n",
              "167            [75, 33, 5, 26, 25, 30, 29, 28, 31, 53]  \n",
              "178            [28, 33, 25, 27, 51, 24, 52, 73, 29, 8]  \n",
              "65                        [34, 24, 31, 83, 29, 49, 72]  \n",
              "\n",
              "[120 rows x 3 columns]"
            ],
            "text/html": [
              "\n",
              "  <div id=\"df-88344acf-91ad-4a34-aa1e-c485e4d25e9a\" class=\"colab-df-container\">\n",
              "    <div>\n",
              "<style scoped>\n",
              "    .dataframe tbody tr th:only-of-type {\n",
              "        vertical-align: middle;\n",
              "    }\n",
              "\n",
              "    .dataframe tbody tr th {\n",
              "        vertical-align: top;\n",
              "    }\n",
              "\n",
              "    .dataframe thead th {\n",
              "        text-align: right;\n",
              "    }\n",
              "</style>\n",
              "<table border=\"1\" class=\"dataframe\">\n",
              "  <thead>\n",
              "    <tr style=\"text-align: right;\">\n",
              "      <th></th>\n",
              "      <th>Song</th>\n",
              "      <th>n_instruments</th>\n",
              "      <th>program_numbers</th>\n",
              "    </tr>\n",
              "  </thead>\n",
              "  <tbody>\n",
              "    <tr>\n",
              "      <th>216</th>\n",
              "      <td>You Ain't Seen Nothin Yet.2</td>\n",
              "      <td>10</td>\n",
              "      <td>[25, 35, 27, 75, 27, 30, 30, 30, 30]</td>\n",
              "    </tr>\n",
              "    <tr>\n",
              "      <th>12</th>\n",
              "      <td>Jumpin' Jack Flash.1</td>\n",
              "      <td>9</td>\n",
              "      <td>[35, 25, 29, 28, 27, 27, 22, 2]</td>\n",
              "    </tr>\n",
              "    <tr>\n",
              "      <th>114</th>\n",
              "      <td>Your Time Is Gonna Come</td>\n",
              "      <td>10</td>\n",
              "      <td>[18, 33, 25, 22, 52, 25, 25, 26, 116]</td>\n",
              "    </tr>\n",
              "    <tr>\n",
              "      <th>89</th>\n",
              "      <td>The Battle Of Evermore.2</td>\n",
              "      <td>6</td>\n",
              "      <td>[73, 72, 24, 24, 24, 25]</td>\n",
              "    </tr>\n",
              "    <tr>\n",
              "      <th>208</th>\n",
              "      <td>If You Needed Somebody.1</td>\n",
              "      <td>5</td>\n",
              "      <td>[100, 25, 25, 1]</td>\n",
              "    </tr>\n",
              "    <tr>\n",
              "      <th>...</th>\n",
              "      <td>...</td>\n",
              "      <td>...</td>\n",
              "      <td>...</td>\n",
              "    </tr>\n",
              "    <tr>\n",
              "      <th>126</th>\n",
              "      <td>Laughing</td>\n",
              "      <td>12</td>\n",
              "      <td>[26, 27, 63, 35, 25, 1, 18, 52, 52, 4, 27]</td>\n",
              "    </tr>\n",
              "    <tr>\n",
              "      <th>160</th>\n",
              "      <td>She's Waiting</td>\n",
              "      <td>15</td>\n",
              "      <td>[27, 30, 29, 81, 35, 24, 24, 25, 17, 90, 29, 2...</td>\n",
              "    </tr>\n",
              "    <tr>\n",
              "      <th>167</th>\n",
              "      <td>Sisters Of The Moon</td>\n",
              "      <td>11</td>\n",
              "      <td>[75, 33, 5, 26, 25, 30, 29, 28, 31, 53]</td>\n",
              "    </tr>\n",
              "    <tr>\n",
              "      <th>178</th>\n",
              "      <td>Gypsy.2</td>\n",
              "      <td>11</td>\n",
              "      <td>[28, 33, 25, 27, 51, 24, 52, 73, 29, 8]</td>\n",
              "    </tr>\n",
              "    <tr>\n",
              "      <th>65</th>\n",
              "      <td>Maria Maria.1</td>\n",
              "      <td>8</td>\n",
              "      <td>[34, 24, 31, 83, 29, 49, 72]</td>\n",
              "    </tr>\n",
              "  </tbody>\n",
              "</table>\n",
              "<p>120 rows × 3 columns</p>\n",
              "</div>\n",
              "    <div class=\"colab-df-buttons\">\n",
              "\n",
              "  <div class=\"colab-df-container\">\n",
              "    <button class=\"colab-df-convert\" onclick=\"convertToInteractive('df-88344acf-91ad-4a34-aa1e-c485e4d25e9a')\"\n",
              "            title=\"Convert this dataframe to an interactive table.\"\n",
              "            style=\"display:none;\">\n",
              "\n",
              "  <svg xmlns=\"http://www.w3.org/2000/svg\" height=\"24px\" viewBox=\"0 -960 960 960\">\n",
              "    <path d=\"M120-120v-720h720v720H120Zm60-500h600v-160H180v160Zm220 220h160v-160H400v160Zm0 220h160v-160H400v160ZM180-400h160v-160H180v160Zm440 0h160v-160H620v160ZM180-180h160v-160H180v160Zm440 0h160v-160H620v160Z\"/>\n",
              "  </svg>\n",
              "    </button>\n",
              "\n",
              "  <style>\n",
              "    .colab-df-container {\n",
              "      display:flex;\n",
              "      gap: 12px;\n",
              "    }\n",
              "\n",
              "    .colab-df-convert {\n",
              "      background-color: #E8F0FE;\n",
              "      border: none;\n",
              "      border-radius: 50%;\n",
              "      cursor: pointer;\n",
              "      display: none;\n",
              "      fill: #1967D2;\n",
              "      height: 32px;\n",
              "      padding: 0 0 0 0;\n",
              "      width: 32px;\n",
              "    }\n",
              "\n",
              "    .colab-df-convert:hover {\n",
              "      background-color: #E2EBFA;\n",
              "      box-shadow: 0px 1px 2px rgba(60, 64, 67, 0.3), 0px 1px 3px 1px rgba(60, 64, 67, 0.15);\n",
              "      fill: #174EA6;\n",
              "    }\n",
              "\n",
              "    .colab-df-buttons div {\n",
              "      margin-bottom: 4px;\n",
              "    }\n",
              "\n",
              "    [theme=dark] .colab-df-convert {\n",
              "      background-color: #3B4455;\n",
              "      fill: #D2E3FC;\n",
              "    }\n",
              "\n",
              "    [theme=dark] .colab-df-convert:hover {\n",
              "      background-color: #434B5C;\n",
              "      box-shadow: 0px 1px 3px 1px rgba(0, 0, 0, 0.15);\n",
              "      filter: drop-shadow(0px 1px 2px rgba(0, 0, 0, 0.3));\n",
              "      fill: #FFFFFF;\n",
              "    }\n",
              "  </style>\n",
              "\n",
              "    <script>\n",
              "      const buttonEl =\n",
              "        document.querySelector('#df-88344acf-91ad-4a34-aa1e-c485e4d25e9a button.colab-df-convert');\n",
              "      buttonEl.style.display =\n",
              "        google.colab.kernel.accessAllowed ? 'block' : 'none';\n",
              "\n",
              "      async function convertToInteractive(key) {\n",
              "        const element = document.querySelector('#df-88344acf-91ad-4a34-aa1e-c485e4d25e9a');\n",
              "        const dataTable =\n",
              "          await google.colab.kernel.invokeFunction('convertToInteractive',\n",
              "                                                    [key], {});\n",
              "        if (!dataTable) return;\n",
              "\n",
              "        const docLinkHtml = 'Like what you see? Visit the ' +\n",
              "          '<a target=\"_blank\" href=https://colab.research.google.com/notebooks/data_table.ipynb>data table notebook</a>'\n",
              "          + ' to learn more about interactive tables.';\n",
              "        element.innerHTML = '';\n",
              "        dataTable['output_type'] = 'display_data';\n",
              "        await google.colab.output.renderOutput(dataTable, element);\n",
              "        const docLink = document.createElement('div');\n",
              "        docLink.innerHTML = docLinkHtml;\n",
              "        element.appendChild(docLink);\n",
              "      }\n",
              "    </script>\n",
              "  </div>\n",
              "\n",
              "\n",
              "<div id=\"df-3edaf0c6-34ea-47de-8e42-5dcb0127d190\">\n",
              "  <button class=\"colab-df-quickchart\" onclick=\"quickchart('df-3edaf0c6-34ea-47de-8e42-5dcb0127d190')\"\n",
              "            title=\"Suggest charts.\"\n",
              "            style=\"display:none;\">\n",
              "\n",
              "<svg xmlns=\"http://www.w3.org/2000/svg\" height=\"24px\"viewBox=\"0 0 24 24\"\n",
              "     width=\"24px\">\n",
              "    <g>\n",
              "        <path d=\"M19 3H5c-1.1 0-2 .9-2 2v14c0 1.1.9 2 2 2h14c1.1 0 2-.9 2-2V5c0-1.1-.9-2-2-2zM9 17H7v-7h2v7zm4 0h-2V7h2v10zm4 0h-2v-4h2v4z\"/>\n",
              "    </g>\n",
              "</svg>\n",
              "  </button>\n",
              "\n",
              "<style>\n",
              "  .colab-df-quickchart {\n",
              "      --bg-color: #E8F0FE;\n",
              "      --fill-color: #1967D2;\n",
              "      --hover-bg-color: #E2EBFA;\n",
              "      --hover-fill-color: #174EA6;\n",
              "      --disabled-fill-color: #AAA;\n",
              "      --disabled-bg-color: #DDD;\n",
              "  }\n",
              "\n",
              "  [theme=dark] .colab-df-quickchart {\n",
              "      --bg-color: #3B4455;\n",
              "      --fill-color: #D2E3FC;\n",
              "      --hover-bg-color: #434B5C;\n",
              "      --hover-fill-color: #FFFFFF;\n",
              "      --disabled-bg-color: #3B4455;\n",
              "      --disabled-fill-color: #666;\n",
              "  }\n",
              "\n",
              "  .colab-df-quickchart {\n",
              "    background-color: var(--bg-color);\n",
              "    border: none;\n",
              "    border-radius: 50%;\n",
              "    cursor: pointer;\n",
              "    display: none;\n",
              "    fill: var(--fill-color);\n",
              "    height: 32px;\n",
              "    padding: 0;\n",
              "    width: 32px;\n",
              "  }\n",
              "\n",
              "  .colab-df-quickchart:hover {\n",
              "    background-color: var(--hover-bg-color);\n",
              "    box-shadow: 0 1px 2px rgba(60, 64, 67, 0.3), 0 1px 3px 1px rgba(60, 64, 67, 0.15);\n",
              "    fill: var(--button-hover-fill-color);\n",
              "  }\n",
              "\n",
              "  .colab-df-quickchart-complete:disabled,\n",
              "  .colab-df-quickchart-complete:disabled:hover {\n",
              "    background-color: var(--disabled-bg-color);\n",
              "    fill: var(--disabled-fill-color);\n",
              "    box-shadow: none;\n",
              "  }\n",
              "\n",
              "  .colab-df-spinner {\n",
              "    border: 2px solid var(--fill-color);\n",
              "    border-color: transparent;\n",
              "    border-bottom-color: var(--fill-color);\n",
              "    animation:\n",
              "      spin 1s steps(1) infinite;\n",
              "  }\n",
              "\n",
              "  @keyframes spin {\n",
              "    0% {\n",
              "      border-color: transparent;\n",
              "      border-bottom-color: var(--fill-color);\n",
              "      border-left-color: var(--fill-color);\n",
              "    }\n",
              "    20% {\n",
              "      border-color: transparent;\n",
              "      border-left-color: var(--fill-color);\n",
              "      border-top-color: var(--fill-color);\n",
              "    }\n",
              "    30% {\n",
              "      border-color: transparent;\n",
              "      border-left-color: var(--fill-color);\n",
              "      border-top-color: var(--fill-color);\n",
              "      border-right-color: var(--fill-color);\n",
              "    }\n",
              "    40% {\n",
              "      border-color: transparent;\n",
              "      border-right-color: var(--fill-color);\n",
              "      border-top-color: var(--fill-color);\n",
              "    }\n",
              "    60% {\n",
              "      border-color: transparent;\n",
              "      border-right-color: var(--fill-color);\n",
              "    }\n",
              "    80% {\n",
              "      border-color: transparent;\n",
              "      border-right-color: var(--fill-color);\n",
              "      border-bottom-color: var(--fill-color);\n",
              "    }\n",
              "    90% {\n",
              "      border-color: transparent;\n",
              "      border-bottom-color: var(--fill-color);\n",
              "    }\n",
              "  }\n",
              "</style>\n",
              "\n",
              "  <script>\n",
              "    async function quickchart(key) {\n",
              "      const quickchartButtonEl =\n",
              "        document.querySelector('#' + key + ' button');\n",
              "      quickchartButtonEl.disabled = true;  // To prevent multiple clicks.\n",
              "      quickchartButtonEl.classList.add('colab-df-spinner');\n",
              "      try {\n",
              "        const charts = await google.colab.kernel.invokeFunction(\n",
              "            'suggestCharts', [key], {});\n",
              "      } catch (error) {\n",
              "        console.error('Error during call to suggestCharts:', error);\n",
              "      }\n",
              "      quickchartButtonEl.classList.remove('colab-df-spinner');\n",
              "      quickchartButtonEl.classList.add('colab-df-quickchart-complete');\n",
              "    }\n",
              "    (() => {\n",
              "      let quickchartButtonEl =\n",
              "        document.querySelector('#df-3edaf0c6-34ea-47de-8e42-5dcb0127d190 button');\n",
              "      quickchartButtonEl.style.display =\n",
              "        google.colab.kernel.accessAllowed ? 'block' : 'none';\n",
              "    })();\n",
              "  </script>\n",
              "</div>\n",
              "    </div>\n",
              "  </div>\n"
            ]
          },
          "metadata": {},
          "execution_count": 86
        }
      ]
    },
    {
      "cell_type": "code",
      "source": [
        "df2.loc[:,\"Song\"]"
      ],
      "metadata": {
        "colab": {
          "base_uri": "https://localhost:8080/"
        },
        "id": "aoE7oz4y9mj9",
        "outputId": "5edd4320-3cee-4862-812a-04069f1b04cd"
      },
      "execution_count": null,
      "outputs": [
        {
          "output_type": "execute_result",
          "data": {
            "text/plain": [
              "216    You Ain't Seen Nothin Yet.2\n",
              "12            Jumpin' Jack Flash.1\n",
              "114        Your Time Is Gonna Come\n",
              "89        The Battle Of Evermore.2\n",
              "208       If You Needed Somebody.1\n",
              "                  ...             \n",
              "126                       Laughing\n",
              "160                  She's Waiting\n",
              "167            Sisters Of The Moon\n",
              "178                        Gypsy.2\n",
              "65                   Maria Maria.1\n",
              "Name: Song, Length: 120, dtype: object"
            ]
          },
          "metadata": {},
          "execution_count": 87
        }
      ]
    },
    {
      "cell_type": "code",
      "source": [
        "file_path = \"/content/drive/MyDrive/ISPR_PRJ/midi_songs/dataset/Genres/bluesRock\"\n",
        "col_list = df2.Song.values.tolist()\n",
        "\n",
        "for element in col_list:\n",
        "  for midi_file in glob.glob(os.path.join(file_path, '*', '*.mid')):\n",
        "    midi_song = get_file_name(midi_file)\n",
        "    if element == midi_song:\n",
        "      print(midi_song)\n",
        "      shutil.copy(midi_file,\"/content/drive/MyDrive/ISPR_PRJ/midi_songs/dataset/train/120guitarbluesRock\")\n",
        "\n",
        "\n"
      ],
      "metadata": {
        "colab": {
          "base_uri": "https://localhost:8080/"
        },
        "id": "hDxwI-6YC-Zs",
        "outputId": "01860929-f0d1-4090-8586-11256ba21058"
      },
      "execution_count": null,
      "outputs": [
        {
          "output_type": "stream",
          "name": "stdout",
          "text": [
            "You Ain't Seen Nothin Yet.2\n",
            "Jumpin' Jack Flash.1\n",
            "Your Time Is Gonna Come\n",
            "The Battle Of Evermore.2\n",
            "If You Needed Somebody.1\n",
            "Tears in Heaven\n",
            "Little Lies\n",
            "No Time.2\n",
            "Beast of Burden\n",
            "Let It Grow.4\n",
            "Ruby Tuesday.2\n",
            "Let It Grow.1\n",
            "Let It Grow.2\n",
            "Gimme Shelter\n",
            "Going to California.1\n",
            "You Can't Always Get What You Want.1\n",
            "Stairway to Heaven.8\n",
            "Light My Fire.10\n",
            "Stairway To Heaven.11\n",
            "That's the Way\n",
            "Silver Springs.1\n",
            "Change the World.2\n",
            "Little Lies.3\n",
            "Dreams.5\n",
            "Sara.4\n",
            "Gold Dust Woman\n",
            "Wild Horses\n",
            "Melissa\n",
            "San Franciscan Nights\n",
            "Angie.7\n",
            "Tears in Heaven.3\n",
            "Tusk\n",
            "Paint It Black.1\n",
            "The Game of Love\n",
            "Black Country Woman\n",
            "Sentimental Lady\n",
            "White Room.1\n",
            "White Room.1\n",
            "Layla\n",
            "Layla\n",
            "Hand Me Down World\n",
            "Samba Pa Ti\n",
            "The Battle Of Evermore\n",
            "Bell Bottom Blues\n",
            "Midnight Rider\n",
            "Dreams.4\n",
            "These Eyes.1\n",
            "Sky Pilot\n",
            "All My Love\n",
            "Ozone Baby\n",
            "Ten Years Gone\n",
            "What It Takes\n",
            "Let It Grow\n",
            "Landslide.1\n",
            "Affairs of the Heart.2\n",
            "Run With The Pack.1\n",
            "Brown Sugar.2\n",
            "Honky Tonk Woman.2\n",
            "No Sugar Tonight.1\n",
            "Change the World.1\n",
            "Ten Years Gone.1\n",
            "Stairway to Heaven.6\n",
            "Janie's Got a Gun.1\n",
            "Fireball\n",
            "Landslide.3\n",
            "Sara\n",
            "Angie\n",
            "Let It Grow.3\n",
            "Jessica.3\n",
            "Bron-Y-Aur Stomp.2\n",
            "Poor Tom\n",
            "Let It Ride.1\n",
            "Over the Hills and Far Away\n",
            "Over the Hills and Far Away.1\n",
            "Kashmir.3\n",
            "Gallows Pole\n",
            "Stairway To Heaven.5\n",
            "Sara.1\n",
            "Ruby Tuesday.1\n",
            "Little Lies.2\n",
            "Tears in Heaven.1\n",
            "You Ain't Seen Nothin Yet\n",
            "Bad Time\n",
            "Bron-Y-Aur Stomp.1\n",
            "Stairway To Heaven.2\n",
            "Livin' on the Edge.1\n",
            "Sara.2\n",
            "Dreams.1\n",
            "Light My Fire\n",
            "The Chain\n",
            "Boogie With Stu\n",
            "Gypsy.1\n",
            "Run With The Pack\n",
            "Blue Eyes Blue\n",
            "Boogie With Stu.2\n",
            "Melissa.1\n",
            "Friends\n",
            "Four Sticks\n",
            "Feel Like Makin' Love\n",
            "Angie.5\n",
            "You Can't Always Get What You Want.3\n",
            "Bell Bottom Blues.1\n",
            "The Song Remains The Same.3\n",
            "Seasons of Wither\n",
            "Kashmir\n",
            "Tears in Heaven.2\n",
            "The Last Time.1\n",
            "Joy to the World.2\n",
            "Your Time Is Gonna Come.2\n",
            "You Can't Always Get What You Want\n",
            "Dreams\n",
            "Since I've Been Loving You.1\n",
            "People Are Strange.1\n",
            "Wonderful Tonight.4\n",
            "Boogie Man\n",
            "These Eyes\n",
            "Knockin' on Heaven's Door\n",
            "Laughing\n",
            "She's Waiting\n",
            "Sisters Of The Moon\n",
            "Gypsy.2\n",
            "Maria Maria.1\n"
          ]
        }
      ]
    },
    {
      "cell_type": "code",
      "source": [
        "source = \"/content/drive/MyDrive/ISPR_PRJ/midi_songs/dataset/Genres/alternativeRock/Janes Addiction/Stop.mid\"\n",
        "dest = \"/content/drive/MyDrive/ISPR_PRJ/midi_songs/dataset/small_dataset/test\"\n",
        "shutil.copy(source,dest)"
      ],
      "metadata": {
        "colab": {
          "base_uri": "https://localhost:8080/",
          "height": 35
        },
        "id": "bCzWdxljYgiB",
        "outputId": "b17ea8bb-c456-4d74-8281-46a6d4e38a84"
      },
      "execution_count": 76,
      "outputs": [
        {
          "output_type": "execute_result",
          "data": {
            "text/plain": [
              "'/content/drive/MyDrive/ISPR_PRJ/midi_songs/dataset/small_dataset/test/Stop.mid'"
            ],
            "application/vnd.google.colaboratory.intrinsic+json": {
              "type": "string"
            }
          },
          "metadata": {},
          "execution_count": 76
        }
      ]
    },
    {
      "cell_type": "markdown",
      "source": [
        "Here we process all MIDI files, obtaining data from each note of chord.\n",
        "* If I process a note, i will store in the list a string representing the pitch (the note name) and the octave.\n",
        "* If I process a chord (Chords are set of notes played at the same time) i will store a different type of string with numbers separated by dots.\n",
        "\n",
        "Each number represents the pitch of a chord note.\n",
        "So i am creating a big list with all the elements of all the compositions"
      ],
      "metadata": {
        "id": "wkaC7uBUxz3v"
      }
    },
    {
      "cell_type": "code",
      "source": [
        "notes_for_instruments = []\n",
        "for i,file in enumerate(glob.glob(current_path+\"midi_songs/dataset/small_dataset/train/*.mid\")):\n",
        "      midi = converter.parse(file)\n",
        "      print('Parsing file ', i, \" \", file)\n",
        "      notes_to_parse = None\n",
        "      try:  # file has instrument parts\n",
        "          s2 = instrument.partitionByInstrument(midi)\n",
        "          notes_to_parse = s2.recurse()\n",
        "      except:  # file has notes in a flat structure\n",
        "          notes_to_parse = midi.flat.notes\n",
        "      notes_instrument = []\n",
        "      for element in notes_to_parse:\n",
        "          if isinstance(element, note.Note):\n",
        "              notes_instrument.append(str(element.pitch))\n",
        "          elif isinstance(element, chord.Chord):\n",
        "              notes_instrument.append('.'.join(str(n) for n in element.normalOrder))\n",
        "      notes_for_instruments.append(notes_instrument)\n",
        "with open(current_path + 'notes_for_instruments', 'wb') as filepath:\n",
        "    pickle.dump(notes_for_instruments, filepath)\n",
        "\n"
      ],
      "metadata": {
        "id": "SSmwawq1cCMZ",
        "colab": {
          "base_uri": "https://localhost:8080/"
        },
        "outputId": "94700326-c20a-4f0d-e7ff-e72a6257bdbe"
      },
      "execution_count": 82,
      "outputs": [
        {
          "output_type": "stream",
          "name": "stdout",
          "text": [
            "Parsing file  0   /content/drive/My Drive/ISPR_PRJ/midi_songs/dataset/small_dataset/train/About a Girl.3.mid\n",
            "Parsing file  1   /content/drive/My Drive/ISPR_PRJ/midi_songs/dataset/small_dataset/train/Big Me.mid\n",
            "Parsing file  2   /content/drive/My Drive/ISPR_PRJ/midi_songs/dataset/small_dataset/train/Comedown.mid\n"
          ]
        },
        {
          "output_type": "stream",
          "name": "stderr",
          "text": [
            "/usr/local/lib/python3.10/dist-packages/music21/stream/base.py:3694: Music21DeprecationWarning: .flat is deprecated.  Call .flatten() instead\n",
            "  return self.iter().getElementsByClass(classFilterList)\n"
          ]
        },
        {
          "output_type": "stream",
          "name": "stdout",
          "text": [
            "Parsing file  3   /content/drive/My Drive/ISPR_PRJ/midi_songs/dataset/small_dataset/train/Everlong.1.mid\n",
            "Parsing file  4   /content/drive/My Drive/ISPR_PRJ/midi_songs/dataset/small_dataset/train/In Your Room.mid\n",
            "Parsing file  5   /content/drive/My Drive/ISPR_PRJ/midi_songs/dataset/small_dataset/train/Love.mid\n",
            "Parsing file  6   /content/drive/My Drive/ISPR_PRJ/midi_songs/dataset/small_dataset/train/Nutshell.mid\n",
            "Parsing file  7   /content/drive/My Drive/ISPR_PRJ/midi_songs/dataset/small_dataset/train/Today.4.mid\n",
            "Parsing file  8   /content/drive/My Drive/ISPR_PRJ/midi_songs/dataset/small_dataset/train/Loser.mid\n",
            "Parsing file  9   /content/drive/My Drive/ISPR_PRJ/midi_songs/dataset/small_dataset/train/Violet.mid\n",
            "Parsing file  10   /content/drive/My Drive/ISPR_PRJ/midi_songs/dataset/small_dataset/train/Abacab.2.mid\n",
            "Parsing file  11   /content/drive/My Drive/ISPR_PRJ/midi_songs/dataset/small_dataset/train/Doing All Right.mid\n",
            "Parsing file  12   /content/drive/My Drive/ISPR_PRJ/midi_songs/dataset/small_dataset/train/Go to the Mirror Boy.mid\n",
            "Parsing file  13   /content/drive/My Drive/ISPR_PRJ/midi_songs/dataset/small_dataset/train/Love of My Life.mid\n",
            "Parsing file  14   /content/drive/My Drive/ISPR_PRJ/midi_songs/dataset/small_dataset/train/Shipwrecked.1.mid\n",
            "Parsing file  15   /content/drive/My Drive/ISPR_PRJ/midi_songs/dataset/small_dataset/train/Us and Them.mid\n",
            "Parsing file  16   /content/drive/My Drive/ISPR_PRJ/midi_songs/dataset/small_dataset/train/Your Move.mid\n",
            "Parsing file  17   /content/drive/My Drive/ISPR_PRJ/midi_songs/dataset/small_dataset/train/Wish You Were Here.5.mid\n",
            "Parsing file  18   /content/drive/My Drive/ISPR_PRJ/midi_songs/dataset/small_dataset/train/Machine Messiah.mid\n",
            "Parsing file  19   /content/drive/My Drive/ISPR_PRJ/midi_songs/dataset/small_dataset/train/Keep Talking.mid\n",
            "Parsing file  20   /content/drive/My Drive/ISPR_PRJ/midi_songs/dataset/small_dataset/train/Angie.2.mid\n",
            "Parsing file  21   /content/drive/My Drive/ISPR_PRJ/midi_songs/dataset/small_dataset/train/Dreams.mid\n",
            "Parsing file  22   /content/drive/My Drive/ISPR_PRJ/midi_songs/dataset/small_dataset/train/Layla.mid\n",
            "Parsing file  23   /content/drive/My Drive/ISPR_PRJ/midi_songs/dataset/small_dataset/train/Little Lies.mid\n",
            "Parsing file  24   /content/drive/My Drive/ISPR_PRJ/midi_songs/dataset/small_dataset/train/Maria Maria.2.mid\n",
            "Parsing file  25   /content/drive/My Drive/ISPR_PRJ/midi_songs/dataset/small_dataset/train/No Sugar Tonight.mid\n",
            "Parsing file  26   /content/drive/My Drive/ISPR_PRJ/midi_songs/dataset/small_dataset/train/Tangerine.mid\n",
            "Parsing file  27   /content/drive/My Drive/ISPR_PRJ/midi_songs/dataset/small_dataset/train/Your Time Is Gonna Come.2.mid\n",
            "Parsing file  28   /content/drive/My Drive/ISPR_PRJ/midi_songs/dataset/small_dataset/train/Waiting on a Friend.mid\n",
            "Parsing file  29   /content/drive/My Drive/ISPR_PRJ/midi_songs/dataset/small_dataset/train/Stairway To Heaven.2.mid\n"
          ]
        }
      ]
    },
    {
      "cell_type": "code",
      "source": [
        "\n",
        "notes_for_instruments_validation = []\n",
        "for i,file in enumerate(glob.glob(current_path+\"midi_songs/dataset/small_dataset/validation/*.mid\")):\n",
        "      midi = converter.parse(file)\n",
        "      print('Parsing file ', i, \" \", file)\n",
        "      notes_to_parse = None\n",
        "      try:  # file has instrument parts\n",
        "          s2 = instrument.partitionByInstrument(midi)\n",
        "          notes_to_parse = s2.recurse()\n",
        "      except:  # file has notes in a flat structure\n",
        "          notes_to_parse = midi.flat.notes\n",
        "      notes_instrument = []\n",
        "      for element in notes_to_parse:\n",
        "          if isinstance(element, note.Note):\n",
        "              notes_instrument.append(str(element.pitch))\n",
        "          elif isinstance(element, chord.Chord):\n",
        "              notes_instrument.append('.'.join(str(n) for n in element.normalOrder))\n",
        "      notes_for_instruments_validation.append(notes_instrument)\n",
        "with open(current_path + 'VALIDATION_notes_for_instruments', 'wb') as filepath:\n",
        "    pickle.dump(notes_for_instruments_validation, filepath)\n"
      ],
      "metadata": {
        "id": "Qu9CHPvocEq1",
        "colab": {
          "base_uri": "https://localhost:8080/"
        },
        "outputId": "c2fe3397-eae0-4ee8-d98f-d7ab2c5a95d1"
      },
      "execution_count": 19,
      "outputs": [
        {
          "output_type": "stream",
          "name": "stdout",
          "text": [
            "Parsing file  0   /content/drive/My Drive/ISPR_PRJ/midi_songs/dataset/small_dataset/validation/Knockin' on Heaven's Door.mid\n",
            "Parsing file  1   /content/drive/My Drive/ISPR_PRJ/midi_songs/dataset/small_dataset/validation/Hey You.mid\n",
            "Parsing file  2   /content/drive/My Drive/ISPR_PRJ/midi_songs/dataset/small_dataset/validation/Going Up the Country.mid\n",
            "Parsing file  3   /content/drive/My Drive/ISPR_PRJ/midi_songs/dataset/small_dataset/validation/Fake Plastic Trees.mid\n",
            "Parsing file  4   /content/drive/My Drive/ISPR_PRJ/midi_songs/dataset/small_dataset/validation/Bullet Proof..I Wish I Was.mid\n",
            "Parsing file  5   /content/drive/My Drive/ISPR_PRJ/midi_songs/dataset/small_dataset/validation/Our Love Is the Sea.mid\n",
            "Parsing file  6   /content/drive/My Drive/ISPR_PRJ/midi_songs/dataset/small_dataset/validation/It's a Hard Life.2.mid\n",
            "Parsing file  7   /content/drive/My Drive/ISPR_PRJ/midi_songs/dataset/small_dataset/validation/Innuendo.1.mid\n",
            "Parsing file  8   /content/drive/My Drive/ISPR_PRJ/midi_songs/dataset/small_dataset/validation/Owner of a Lonely Heart.1.mid\n"
          ]
        }
      ]
    },
    {
      "cell_type": "markdown",
      "source": [
        "If the midi file processing has already been done before, we can load the data directly\n"
      ],
      "metadata": {
        "id": "jwWDrQZQy5qC"
      }
    },
    {
      "cell_type": "code",
      "source": [
        "with open(current_path + 'notes_for_instruments', 'rb') as f:\n",
        "    notes_for_instruments = pickle.load(f)\n",
        "with open(current_path + 'VALIDATION_notes_for_instruments', 'rb') as f:\n",
        "    notes_for_instruments_validation = pickle.load(f)"
      ],
      "metadata": {
        "id": "rpgxSt5NcGYM"
      },
      "execution_count": 20,
      "outputs": []
    },
    {
      "cell_type": "markdown",
      "source": [
        "I obtain the number of different notes in our dataset, because this will be the number of\n",
        "possible output classes of our model"
      ],
      "metadata": {
        "id": "Qzq9XeyczOPl"
      }
    },
    {
      "cell_type": "code",
      "source": [
        "#N° of possible outputs\n",
        "print(\"Possible outputs: \")\n",
        "print(len(set(item for notes_for_instrument in notes_for_instruments for item in notes_for_instrument)))\n",
        "\n",
        "#N° possible outputs validation\n",
        "print(\"Possible outputs (validation)\")\n",
        "print(len(set(item for notes_for_instrument in notes_for_instruments_validation for item in notes_for_instrument)))"
      ],
      "metadata": {
        "id": "0sUeu6X0cWHx",
        "colab": {
          "base_uri": "https://localhost:8080/"
        },
        "outputId": "a0131e79-d8a7-4c1f-a816-e19232a6aab0"
      },
      "execution_count": 21,
      "outputs": [
        {
          "output_type": "stream",
          "name": "stdout",
          "text": [
            "Possible outputs: \n",
            "326\n",
            "Possible outputs (validation)\n",
            "275\n"
          ]
        }
      ]
    },
    {
      "cell_type": "markdown",
      "source": [
        "To prepare our data we:\n",
        "\n",
        "*   Map each pitch or chord to an integer\n",
        "\n",
        "*   Create pairs of input sequences and its corresponding output note\n",
        "\n",
        "*   The network will make its prediction of the next\n",
        "note (or chord), based on the previous sequence_length notes (or chords).\n"
      ],
      "metadata": {
        "id": "VnP_7slszkxI"
      }
    },
    {
      "cell_type": "code",
      "source": [
        "#Get pitch names\n",
        "pitchnames_training = set(item for notes_for_instrument in notes_for_instruments for item in notes_for_instrument)\n",
        "pitchnames_validation = set(item for notes_for_instrument in notes_for_instruments_validation for item in notes_for_instrument)\n",
        "pitchnames = sorted(pitchnames_training.union(pitchnames_validation))"
      ],
      "metadata": {
        "id": "6qTNPuYWcZEY"
      },
      "execution_count": 22,
      "outputs": []
    },
    {
      "cell_type": "code",
      "source": [
        "n_vocab = len(pitchnames)\n",
        "n_vocab"
      ],
      "metadata": {
        "id": "sH_qgEhYcawY",
        "colab": {
          "base_uri": "https://localhost:8080/"
        },
        "outputId": "dd80e5d7-ea9d-45a4-d762-b92907756e1b"
      },
      "execution_count": 23,
      "outputs": [
        {
          "output_type": "execute_result",
          "data": {
            "text/plain": [
              "406"
            ]
          },
          "metadata": {},
          "execution_count": 23
        }
      ]
    },
    {
      "cell_type": "markdown",
      "source": [
        "Map pitches to integers\n"
      ],
      "metadata": {
        "id": "rPsGyy3A05AR"
      }
    },
    {
      "cell_type": "code",
      "source": [
        "note_to_int = defaultdict(int)\n",
        "note_to_int.update(dict((note, number) for number, note in enumerate(pitchnames)))\n",
        "network_input = []\n",
        "\n",
        "for notes in notes_for_instruments:\n",
        "    if len(notes) - sequence_length<=0:\n",
        "        print(\"canzone troppo corta\")\n",
        "\n",
        "    #Create input sequences and the corresponding outputs\n",
        "    for j in range(0, len(notes) - sequence_length, sequence_length//2):\n",
        "      for i in range(j, len(notes) - sequence_length, sequence_length):\n",
        "        # Map pitches of sequence_in to integers\n",
        "        network_input.append([note_to_int[char] for char in notes[i:i + sequence_length]])\n",
        "\n",
        "n_patterns = len(network_input)\n",
        "#Reshape the input into a format compatible with Transormer layers\n",
        "network_input = np.reshape(network_input, (n_patterns, sequence_length))"
      ],
      "metadata": {
        "id": "Cbj-ZBH5ccmW"
      },
      "execution_count": 24,
      "outputs": []
    },
    {
      "cell_type": "code",
      "source": [
        "network_input"
      ],
      "metadata": {
        "colab": {
          "base_uri": "https://localhost:8080/"
        },
        "id": "kiUTUBuN1vbz",
        "outputId": "24a4e5a7-9d4d-4080-fac0-737ac2389bc8"
      },
      "execution_count": 25,
      "outputs": [
        {
          "output_type": "execute_result",
          "data": {
            "text/plain": [
              "array([[ 97,  97, 124, ..., 124,  97,  97],\n",
              "       [ 97, 124, 124, ..., 124, 124, 124],\n",
              "       [124, 124,  97, ..., 366, 395, 366],\n",
              "       ...,\n",
              "       [352, 352, 352, ...,  22, 320,  22],\n",
              "       [352, 352, 352, ..., 352, 352, 352],\n",
              "       [352, 352, 352, ...,  22, 320,  22]])"
            ]
          },
          "metadata": {},
          "execution_count": 25
        }
      ]
    },
    {
      "cell_type": "code",
      "source": [
        "note_to_int_validation = defaultdict(int)\n",
        "note_to_int_validation.update(dict((notes_validation, number) for number, notes_validation in enumerate(pitchnames)))\n",
        "network_input_validation = []\n",
        "network_output_validation = []\n",
        "for notes_validation in notes_for_instruments_validation:\n",
        "    if len(notes_validation) - sequence_length<=0:\n",
        "        print(\"canzone troppo corta\")\n",
        "    # create input sequences and the corresponding outputs\n",
        "    for j in range(0, len(notes_validation) - sequence_length, sequence_length//2):\n",
        "      for i in range(j, len(notes_validation) - sequence_length, sequence_length):\n",
        "        # Map pitches of sequence_in to integers\n",
        "        network_input_validation.append([note_to_int_validation[char] for char in notes_validation[i:i + sequence_length]])\n",
        "n_patterns_validation = len(network_input_validation)\n",
        "# reshape the input into a format compatible with Transormer layers\n",
        "network_input_validation = np.reshape(network_input_validation, (n_patterns_validation, sequence_length))"
      ],
      "metadata": {
        "id": "2mKstDPmcetN"
      },
      "execution_count": 26,
      "outputs": []
    },
    {
      "cell_type": "code",
      "source": [
        "network_input_validation"
      ],
      "metadata": {
        "colab": {
          "base_uri": "https://localhost:8080/"
        },
        "id": "GF3xuf6t2DT-",
        "outputId": "cbef1fb2-3be8-41f5-9a9c-fa3b8921550c"
      },
      "execution_count": 27,
      "outputs": [
        {
          "output_type": "execute_result",
          "data": {
            "text/plain": [
              "array([[404, 104, 353, ..., 374, 179, 353],\n",
              "       [375, 104, 353, ..., 359, 403, 352],\n",
              "       [374,  22, 235, ..., 321, 121, 235],\n",
              "       ...,\n",
              "       [126,   0,  72, ..., 192, 148, 126],\n",
              "       [244, 234,  88, ..., 283,   0, 210],\n",
              "       [126,   0,  72, ..., 192, 148, 126]])"
            ]
          },
          "metadata": {},
          "execution_count": 27
        }
      ]
    },
    {
      "cell_type": "code",
      "source": [
        "print(network_input.shape)\n",
        "print(network_input_validation.shape)"
      ],
      "metadata": {
        "id": "HBuxVSescgkw",
        "colab": {
          "base_uri": "https://localhost:8080/"
        },
        "outputId": "f023aa29-14cd-4b7d-fcf6-d59fb6ccd75a"
      },
      "execution_count": 28,
      "outputs": [
        {
          "output_type": "stream",
          "name": "stdout",
          "text": [
            "(39231, 64)\n",
            "(15636, 64)\n"
          ]
        }
      ]
    },
    {
      "cell_type": "markdown",
      "source": [
        "# Neural Network structure"
      ],
      "metadata": {
        "id": "o84-D57CAeMM"
      }
    },
    {
      "cell_type": "markdown",
      "source": [
        "Pytorch implementation of Compressive Transformers is a variant of Transformer-XL with compressed memory for long-range language modelling.\n",
        "\n",
        "When training, we used the AutoregressiveWrapper to take care of memory management across segments.\n",
        "\n",
        "https://github.com/lucidrains/compressive-transformer-pytorch"
      ],
      "metadata": {
        "id": "hxzATI4R2XgM"
      }
    },
    {
      "cell_type": "code",
      "source": [
        "def create_network(sequence_length, n_vocab):\n",
        "    model = CompressiveTransformer(\n",
        "    num_tokens = n_vocab,\n",
        "    dim = sequence_length,\n",
        "    depth = 6,\n",
        "    seq_len = sequence_length,\n",
        "    mem_len = sequence_length,\n",
        "    cmem_len = 256,\n",
        "    cmem_ratio = 4,\n",
        "    memory_layers = [5,6],\n",
        "    gru_gated_residual = False,\n",
        "    #post-attention dropout\n",
        "    attn_dropout = 0.1,\n",
        "    #feedforward dropout\n",
        "    ff_dropout = 0.1,\n",
        "    #attention layer output dropout\n",
        "    attn_layer_dropout = 0.1\n",
        "    )\n",
        "\n",
        "    model = AutoregressiveWrapper(model)\n",
        "    model.cuda()\n",
        "    return model\n"
      ],
      "metadata": {
        "id": "EllpCa1qcjyo"
      },
      "execution_count": 29,
      "outputs": []
    },
    {
      "cell_type": "markdown",
      "source": [
        "Model Summary"
      ],
      "metadata": {
        "id": "S79BPNUw2yza"
      }
    },
    {
      "cell_type": "code",
      "source": [
        "model = create_network(sequence_length,n_vocab)\n",
        "print(model)"
      ],
      "metadata": {
        "id": "NMAmCZQcclmG",
        "colab": {
          "base_uri": "https://localhost:8080/"
        },
        "outputId": "40644019-f8a2-4d00-ed9c-48afa945c540"
      },
      "execution_count": 33,
      "outputs": [
        {
          "output_type": "stream",
          "name": "stdout",
          "text": [
            "AutoregressiveWrapper(\n",
            "  (net): CompressiveTransformer(\n",
            "    (token_emb): Embedding(406, 64)\n",
            "    (to_model_dim): Identity()\n",
            "    (to_logits): Sequential(\n",
            "      (0): Identity()\n",
            "      (1): Linear(in_features=64, out_features=406, bias=True)\n",
            "    )\n",
            "    (attn_layers): ModuleList(\n",
            "      (0-5): 6 x Residual(\n",
            "        (fn): PreNorm(\n",
            "          (norm): LayerNorm((64,), eps=1e-05, elementwise_affine=True)\n",
            "          (fn): SelfAttention(\n",
            "            (compress_mem_fn): ConvCompress(\n",
            "              (conv): Conv1d(64, 64, kernel_size=(4,), stride=(4,))\n",
            "            )\n",
            "            (to_q): Linear(in_features=64, out_features=64, bias=False)\n",
            "            (to_kv): Linear(in_features=64, out_features=128, bias=False)\n",
            "            (to_out): Linear(in_features=64, out_features=64, bias=True)\n",
            "            (attn_dropout): Dropout(p=0.1, inplace=False)\n",
            "            (dropout): Dropout(p=0.1, inplace=False)\n",
            "            (reconstruction_attn_dropout): Dropout(p=0.0, inplace=False)\n",
            "          )\n",
            "        )\n",
            "      )\n",
            "    )\n",
            "    (ff_layers): ModuleList(\n",
            "      (0-5): 6 x Residual(\n",
            "        (fn): PreNorm(\n",
            "          (norm): LayerNorm((64,), eps=1e-05, elementwise_affine=True)\n",
            "          (fn): FeedForward(\n",
            "            (w1): Linear(in_features=64, out_features=256, bias=True)\n",
            "            (act): GELU(approximate='none')\n",
            "            (dropout): Dropout(p=0.1, inplace=False)\n",
            "            (w2): Linear(in_features=256, out_features=64, bias=True)\n",
            "          )\n",
            "        )\n",
            "      )\n",
            "    )\n",
            "  )\n",
            ")\n"
          ]
        }
      ]
    },
    {
      "cell_type": "code",
      "source": [
        "def cycle(loader):\n",
        "    while True:\n",
        "        for data in loader:\n",
        "          yield data\n",
        "\n",
        "data_train = torch.from_numpy(network_input).cuda()\n",
        "train_loader = torch.utils.data.DataLoader(data_train, batch_size=32)\n",
        "cycle_train_loader  = cycle(DataLoader(data_train, batch_size = data_train.shape[0]))\n",
        "\n",
        "#N° of batches\n",
        "num_batches=math.ceil(data_train.shape[0]/batch_size)\n",
        "print(num_batches)\n",
        "\n",
        "data_validation = torch.from_numpy(network_input_validation).cuda()\n",
        "validation_loader = torch.utils.data.DataLoader(data_validation, batch_size=32)\n",
        "cycle_validation_loader  = cycle(DataLoader(data_validation, batch_size = data_validation.shape[0]))\n",
        "\n",
        "#N° of batches\n",
        "num_batches_val=math.ceil(data_validation.shape[0]/batch_size)\n",
        "print(num_batches_val)"
      ],
      "metadata": {
        "id": "6jsuH-kMcnwb",
        "colab": {
          "base_uri": "https://localhost:8080/"
        },
        "outputId": "3b14a381-fbb5-449b-bc91-fb0fcf7fbe9b"
      },
      "execution_count": 34,
      "outputs": [
        {
          "output_type": "stream",
          "name": "stdout",
          "text": [
            "613\n",
            "245\n"
          ]
        }
      ]
    },
    {
      "cell_type": "markdown",
      "source": [
        "Adam Pytorch Optimizer"
      ],
      "metadata": {
        "id": "hBopxiFm3Tkp"
      }
    },
    {
      "cell_type": "code",
      "source": [
        "optimizer = torch.optim.Adam(model.parameters(), lr=learning_rate)"
      ],
      "metadata": {
        "id": "5-FHwyltcsw1"
      },
      "execution_count": 35,
      "outputs": []
    },
    {
      "cell_type": "markdown",
      "source": [
        "# Training"
      ],
      "metadata": {
        "id": "HO0nUce6CVAs"
      }
    },
    {
      "cell_type": "code",
      "source": [
        "trainingEpoch_loss = []\n",
        "validationEpoch_loss = []\n",
        "\n",
        "for i in tqdm.tqdm(range(0,epochs), mininterval=20., desc='training'):\n",
        "    train_step_loss = []\n",
        "    val_step_loss = []\n",
        "    model.train()\n",
        "    tot_loss = 0.0\n",
        "    is_best=0\n",
        "    best_loss_value=n_vocab\n",
        "    avg_loss_val=0\n",
        "\n",
        "    for mlm_loss, aux_loss, is_last in model(next(cycle_train_loader), max_batch_size = batch_size, return_loss = True):\n",
        "        loss = mlm_loss + aux_loss\n",
        "\n",
        "        loss.backward()\n",
        "\n",
        "        tot_loss+=loss;\n",
        "\n",
        "        if is_last:\n",
        "            torch.nn.utils.clip_grad_norm_(model.parameters(), 0.5)\n",
        "            optimizer.step()\n",
        "            optimizer.zero_grad()\n",
        "\n",
        "    if i % VALIDATE_EVERY == 0 or i==epochs-1:\n",
        "      model.eval()\n",
        "      with torch.no_grad():\n",
        "          for loss_val, aux_loss_val, is_last_val in model(next(cycle_validation_loader),max_batch_size = batch_size, return_loss = True):\n",
        "            avg_loss_val+=loss_val/num_batches_val;\n",
        "\n",
        "            validationEpoch_loss.append(avg_loss_val.item())\n",
        "\n",
        "            if is_last_val:\n",
        "              print(f'\\n validation loss: {avg_loss_val.item():.4f}')\n",
        "\n",
        "          #validationEpoch_loss.append(val_step_loss)\n",
        "\n",
        "\n",
        "\n",
        "    avg_loss=tot_loss/num_batches\n",
        "\n",
        "    if i%5==0 or i==epochs-1:\n",
        "      if best_loss_value>avg_loss:\n",
        "        best_loss_value=avg_loss;\n",
        "        is_best=1\n",
        "\n",
        "      save_checkpoint({\n",
        "      'epoch': i,\n",
        "      'model_state_dict': model.state_dict(),\n",
        "      'optimizer_state_dict' : optimizer.state_dict(),\n",
        "      'loss':avg_loss.item(),\n",
        "     }, is_best, 'best_model_64'+str(i)+'_'+\"{:.4f}\".format(avg_loss.item())+'.pth.tar')\n",
        "      is_best=0\n",
        "\n",
        "     #train_step_loss.append(avg_loss.item())\n",
        "    trainingEpoch_loss.append(avg_loss.item())\n",
        "\n",
        "\n",
        "\n",
        "    print(f'\\n Epoch: {i} |Training loss: {avg_loss.item():.4f}')\n",
        "print('\\nTraining complete.')\n",
        "\n"
      ],
      "metadata": {
        "id": "6VI2kc9Pcwh5",
        "colab": {
          "base_uri": "https://localhost:8080/"
        },
        "outputId": "4518335b-e657-4d10-d061-0f32fd4b4a2f"
      },
      "execution_count": 58,
      "outputs": [
        {
          "output_type": "stream",
          "name": "stderr",
          "text": [
            "training:   1%|          | 1/100 [00:27<45:04, 27.32s/it]"
          ]
        },
        {
          "output_type": "stream",
          "name": "stdout",
          "text": [
            "\n",
            " validation loss: 6.0241\n",
            "\n",
            " Epoch: 0 |Training loss: 0.8095\n"
          ]
        },
        {
          "output_type": "stream",
          "name": "stderr",
          "text": [
            "\rtraining:   2%|▏         | 2/100 [00:52<42:16, 25.88s/it]"
          ]
        },
        {
          "output_type": "stream",
          "name": "stdout",
          "text": [
            "\n",
            " Epoch: 1 |Training loss: 0.8072\n"
          ]
        },
        {
          "output_type": "stream",
          "name": "stderr",
          "text": [
            "\rtraining:   3%|▎         | 3/100 [01:17<41:24, 25.61s/it]"
          ]
        },
        {
          "output_type": "stream",
          "name": "stdout",
          "text": [
            "\n",
            " Epoch: 2 |Training loss: 0.8051\n"
          ]
        },
        {
          "output_type": "stream",
          "name": "stderr",
          "text": [
            "\rtraining:   4%|▍         | 4/100 [01:41<40:17, 25.18s/it]"
          ]
        },
        {
          "output_type": "stream",
          "name": "stdout",
          "text": [
            "\n",
            " Epoch: 3 |Training loss: 0.8027\n"
          ]
        },
        {
          "output_type": "stream",
          "name": "stderr",
          "text": [
            "\rtraining:   5%|▌         | 5/100 [02:06<39:24, 24.89s/it]"
          ]
        },
        {
          "output_type": "stream",
          "name": "stdout",
          "text": [
            "\n",
            " Epoch: 4 |Training loss: 0.8011\n"
          ]
        },
        {
          "output_type": "stream",
          "name": "stderr",
          "text": [
            "\rtraining:   6%|▌         | 6/100 [02:34<40:36, 25.93s/it]"
          ]
        },
        {
          "output_type": "stream",
          "name": "stdout",
          "text": [
            "\n",
            " validation loss: 6.0538\n",
            "\n",
            " Epoch: 5 |Training loss: 0.7980\n"
          ]
        },
        {
          "output_type": "stream",
          "name": "stderr",
          "text": [
            "\rtraining:   7%|▋         | 7/100 [02:58<39:19, 25.37s/it]"
          ]
        },
        {
          "output_type": "stream",
          "name": "stdout",
          "text": [
            "\n",
            " Epoch: 6 |Training loss: 0.7956\n"
          ]
        },
        {
          "output_type": "stream",
          "name": "stderr",
          "text": [
            "\rtraining:   8%|▊         | 8/100 [03:22<38:25, 25.06s/it]"
          ]
        },
        {
          "output_type": "stream",
          "name": "stdout",
          "text": [
            "\n",
            " Epoch: 7 |Training loss: 0.7951\n"
          ]
        },
        {
          "output_type": "stream",
          "name": "stderr",
          "text": [
            "\rtraining:   9%|▉         | 9/100 [03:48<38:11, 25.18s/it]"
          ]
        },
        {
          "output_type": "stream",
          "name": "stdout",
          "text": [
            "\n",
            " Epoch: 8 |Training loss: 0.7916\n"
          ]
        },
        {
          "output_type": "stream",
          "name": "stderr",
          "text": [
            "\rtraining:  10%|█         | 10/100 [04:13<37:33, 25.04s/it]"
          ]
        },
        {
          "output_type": "stream",
          "name": "stdout",
          "text": [
            "\n",
            " Epoch: 9 |Training loss: 0.7905\n"
          ]
        },
        {
          "output_type": "stream",
          "name": "stderr",
          "text": [
            "\rtraining:  11%|█         | 11/100 [04:41<38:32, 25.99s/it]"
          ]
        },
        {
          "output_type": "stream",
          "name": "stdout",
          "text": [
            "\n",
            " validation loss: 6.0906\n",
            "\n",
            " Epoch: 10 |Training loss: 0.7874\n"
          ]
        },
        {
          "output_type": "stream",
          "name": "stderr",
          "text": [
            "\rtraining:  12%|█▏        | 12/100 [05:06<37:35, 25.63s/it]"
          ]
        },
        {
          "output_type": "stream",
          "name": "stdout",
          "text": [
            "\n",
            " Epoch: 11 |Training loss: 0.7859\n"
          ]
        },
        {
          "output_type": "stream",
          "name": "stderr",
          "text": [
            "\rtraining:  13%|█▎        | 13/100 [05:30<36:46, 25.36s/it]"
          ]
        },
        {
          "output_type": "stream",
          "name": "stdout",
          "text": [
            "\n",
            " Epoch: 12 |Training loss: 0.7829\n"
          ]
        },
        {
          "output_type": "stream",
          "name": "stderr",
          "text": [
            "\rtraining:  14%|█▍        | 14/100 [05:55<36:02, 25.15s/it]"
          ]
        },
        {
          "output_type": "stream",
          "name": "stdout",
          "text": [
            "\n",
            " Epoch: 13 |Training loss: 0.7819\n"
          ]
        },
        {
          "output_type": "stream",
          "name": "stderr",
          "text": [
            "\rtraining:  15%|█▌        | 15/100 [06:20<35:25, 25.01s/it]"
          ]
        },
        {
          "output_type": "stream",
          "name": "stdout",
          "text": [
            "\n",
            " Epoch: 14 |Training loss: 0.7792\n"
          ]
        },
        {
          "output_type": "stream",
          "name": "stderr",
          "text": [
            "\rtraining:  16%|█▌        | 16/100 [06:48<36:28, 26.05s/it]"
          ]
        },
        {
          "output_type": "stream",
          "name": "stdout",
          "text": [
            "\n",
            " validation loss: 6.1258\n",
            "\n",
            " Epoch: 15 |Training loss: 0.7785\n"
          ]
        },
        {
          "output_type": "stream",
          "name": "stderr",
          "text": [
            "\rtraining:  17%|█▋        | 17/100 [07:13<35:38, 25.76s/it]"
          ]
        },
        {
          "output_type": "stream",
          "name": "stdout",
          "text": [
            "\n",
            " Epoch: 16 |Training loss: 0.7751\n"
          ]
        },
        {
          "output_type": "stream",
          "name": "stderr",
          "text": [
            "\rtraining:  18%|█▊        | 18/100 [07:38<34:54, 25.54s/it]"
          ]
        },
        {
          "output_type": "stream",
          "name": "stdout",
          "text": [
            "\n",
            " Epoch: 17 |Training loss: 0.7733\n"
          ]
        },
        {
          "output_type": "stream",
          "name": "stderr",
          "text": [
            "\rtraining:  19%|█▉        | 19/100 [08:04<34:30, 25.57s/it]"
          ]
        },
        {
          "output_type": "stream",
          "name": "stdout",
          "text": [
            "\n",
            " Epoch: 18 |Training loss: 0.7707\n"
          ]
        },
        {
          "output_type": "stream",
          "name": "stderr",
          "text": [
            "\rtraining:  20%|██        | 20/100 [08:29<33:46, 25.33s/it]"
          ]
        },
        {
          "output_type": "stream",
          "name": "stdout",
          "text": [
            "\n",
            " Epoch: 19 |Training loss: 0.7693\n"
          ]
        },
        {
          "output_type": "stream",
          "name": "stderr",
          "text": [
            "\rtraining:  21%|██        | 21/100 [08:57<34:29, 26.20s/it]"
          ]
        },
        {
          "output_type": "stream",
          "name": "stdout",
          "text": [
            "\n",
            " validation loss: 6.1418\n",
            "\n",
            " Epoch: 20 |Training loss: 0.7668\n"
          ]
        },
        {
          "output_type": "stream",
          "name": "stderr",
          "text": [
            "\rtraining:  22%|██▏       | 22/100 [09:22<33:36, 25.85s/it]"
          ]
        },
        {
          "output_type": "stream",
          "name": "stdout",
          "text": [
            "\n",
            " Epoch: 21 |Training loss: 0.7654\n"
          ]
        },
        {
          "output_type": "stream",
          "name": "stderr",
          "text": [
            "\rtraining:  23%|██▎       | 23/100 [09:47<32:52, 25.62s/it]"
          ]
        },
        {
          "output_type": "stream",
          "name": "stdout",
          "text": [
            "\n",
            " Epoch: 22 |Training loss: 0.7622\n"
          ]
        },
        {
          "output_type": "stream",
          "name": "stderr",
          "text": [
            "\rtraining:  24%|██▍       | 24/100 [10:12<32:23, 25.57s/it]"
          ]
        },
        {
          "output_type": "stream",
          "name": "stdout",
          "text": [
            "\n",
            " Epoch: 23 |Training loss: 0.7618\n"
          ]
        },
        {
          "output_type": "stream",
          "name": "stderr",
          "text": [
            "\rtraining:  25%|██▌       | 25/100 [10:37<31:43, 25.38s/it]"
          ]
        },
        {
          "output_type": "stream",
          "name": "stdout",
          "text": [
            "\n",
            " Epoch: 24 |Training loss: 0.7585\n"
          ]
        },
        {
          "output_type": "stream",
          "name": "stderr",
          "text": [
            "\rtraining:  26%|██▌       | 26/100 [11:06<32:25, 26.29s/it]"
          ]
        },
        {
          "output_type": "stream",
          "name": "stdout",
          "text": [
            "\n",
            " validation loss: 6.1651\n",
            "\n",
            " Epoch: 25 |Training loss: 0.7577\n"
          ]
        },
        {
          "output_type": "stream",
          "name": "stderr",
          "text": [
            "\rtraining:  27%|██▋       | 27/100 [11:30<31:19, 25.74s/it]"
          ]
        },
        {
          "output_type": "stream",
          "name": "stdout",
          "text": [
            "\n",
            " Epoch: 26 |Training loss: 0.7546\n"
          ]
        },
        {
          "output_type": "stream",
          "name": "stderr",
          "text": [
            "\rtraining:  28%|██▊       | 28/100 [11:55<30:28, 25.39s/it]"
          ]
        },
        {
          "output_type": "stream",
          "name": "stdout",
          "text": [
            "\n",
            " Epoch: 27 |Training loss: 0.7529\n"
          ]
        },
        {
          "output_type": "stream",
          "name": "stderr",
          "text": [
            "\rtraining:  29%|██▉       | 29/100 [12:20<30:00, 25.36s/it]"
          ]
        },
        {
          "output_type": "stream",
          "name": "stdout",
          "text": [
            "\n",
            " Epoch: 28 |Training loss: 0.7507\n"
          ]
        },
        {
          "output_type": "stream",
          "name": "stderr",
          "text": [
            "\rtraining:  30%|███       | 30/100 [12:45<29:28, 25.26s/it]"
          ]
        },
        {
          "output_type": "stream",
          "name": "stdout",
          "text": [
            "\n",
            " Epoch: 29 |Training loss: 0.7482\n"
          ]
        },
        {
          "output_type": "stream",
          "name": "stderr",
          "text": [
            "\rtraining:  31%|███       | 31/100 [13:13<30:05, 26.16s/it]"
          ]
        },
        {
          "output_type": "stream",
          "name": "stdout",
          "text": [
            "\n",
            " validation loss: 6.2097\n",
            "\n",
            " Epoch: 30 |Training loss: 0.7462\n"
          ]
        },
        {
          "output_type": "stream",
          "name": "stderr",
          "text": [
            "\rtraining:  32%|███▏      | 32/100 [13:38<29:14, 25.81s/it]"
          ]
        },
        {
          "output_type": "stream",
          "name": "stdout",
          "text": [
            "\n",
            " Epoch: 31 |Training loss: 0.7451\n"
          ]
        },
        {
          "output_type": "stream",
          "name": "stderr",
          "text": [
            "\rtraining:  33%|███▎      | 33/100 [14:03<28:21, 25.39s/it]"
          ]
        },
        {
          "output_type": "stream",
          "name": "stdout",
          "text": [
            "\n",
            " Epoch: 32 |Training loss: 0.7418\n"
          ]
        },
        {
          "output_type": "stream",
          "name": "stderr",
          "text": [
            "\rtraining:  34%|███▍      | 34/100 [14:28<27:42, 25.20s/it]"
          ]
        },
        {
          "output_type": "stream",
          "name": "stdout",
          "text": [
            "\n",
            " Epoch: 33 |Training loss: 0.7404\n"
          ]
        },
        {
          "output_type": "stream",
          "name": "stderr",
          "text": [
            "\rtraining:  35%|███▌      | 35/100 [14:53<27:14, 25.15s/it]"
          ]
        },
        {
          "output_type": "stream",
          "name": "stdout",
          "text": [
            "\n",
            " Epoch: 34 |Training loss: 0.7374\n"
          ]
        },
        {
          "output_type": "stream",
          "name": "stderr",
          "text": [
            "\rtraining:  36%|███▌      | 36/100 [15:21<27:52, 26.13s/it]"
          ]
        },
        {
          "output_type": "stream",
          "name": "stdout",
          "text": [
            "\n",
            " validation loss: 6.2456\n",
            "\n",
            " Epoch: 35 |Training loss: 0.7360\n"
          ]
        },
        {
          "output_type": "stream",
          "name": "stderr",
          "text": [
            "\rtraining:  37%|███▋      | 37/100 [15:46<27:04, 25.78s/it]"
          ]
        },
        {
          "output_type": "stream",
          "name": "stdout",
          "text": [
            "\n",
            " Epoch: 36 |Training loss: 0.7338\n"
          ]
        },
        {
          "output_type": "stream",
          "name": "stderr",
          "text": [
            "\rtraining:  38%|███▊      | 38/100 [16:11<26:26, 25.60s/it]"
          ]
        },
        {
          "output_type": "stream",
          "name": "stdout",
          "text": [
            "\n",
            " Epoch: 37 |Training loss: 0.7326\n"
          ]
        },
        {
          "output_type": "stream",
          "name": "stderr",
          "text": [
            "\rtraining:  39%|███▉      | 39/100 [16:36<25:49, 25.40s/it]"
          ]
        },
        {
          "output_type": "stream",
          "name": "stdout",
          "text": [
            "\n",
            " Epoch: 38 |Training loss: 0.7298\n"
          ]
        },
        {
          "output_type": "stream",
          "name": "stderr",
          "text": [
            "\rtraining:  40%|████      | 40/100 [17:01<25:15, 25.26s/it]"
          ]
        },
        {
          "output_type": "stream",
          "name": "stdout",
          "text": [
            "\n",
            " Epoch: 39 |Training loss: 0.7286\n"
          ]
        },
        {
          "output_type": "stream",
          "name": "stderr",
          "text": [
            "\rtraining:  41%|████      | 41/100 [17:29<25:40, 26.12s/it]"
          ]
        },
        {
          "output_type": "stream",
          "name": "stdout",
          "text": [
            "\n",
            " validation loss: 6.2593\n",
            "\n",
            " Epoch: 40 |Training loss: 0.7258\n"
          ]
        },
        {
          "output_type": "stream",
          "name": "stderr",
          "text": [
            "\rtraining:  42%|████▏     | 42/100 [17:54<24:53, 25.76s/it]"
          ]
        },
        {
          "output_type": "stream",
          "name": "stdout",
          "text": [
            "\n",
            " Epoch: 41 |Training loss: 0.7243\n"
          ]
        },
        {
          "output_type": "stream",
          "name": "stderr",
          "text": [
            "\rtraining:  43%|████▎     | 43/100 [18:19<24:10, 25.46s/it]"
          ]
        },
        {
          "output_type": "stream",
          "name": "stdout",
          "text": [
            "\n",
            " Epoch: 42 |Training loss: 0.7219\n"
          ]
        },
        {
          "output_type": "stream",
          "name": "stderr",
          "text": [
            "\rtraining:  44%|████▍     | 44/100 [18:44<23:35, 25.28s/it]"
          ]
        },
        {
          "output_type": "stream",
          "name": "stdout",
          "text": [
            "\n",
            " Epoch: 43 |Training loss: 0.7199\n"
          ]
        },
        {
          "output_type": "stream",
          "name": "stderr",
          "text": [
            "\rtraining:  45%|████▌     | 45/100 [19:09<23:06, 25.20s/it]"
          ]
        },
        {
          "output_type": "stream",
          "name": "stdout",
          "text": [
            "\n",
            " Epoch: 44 |Training loss: 0.7173\n"
          ]
        },
        {
          "output_type": "stream",
          "name": "stderr",
          "text": [
            "\rtraining:  46%|████▌     | 46/100 [19:36<23:19, 25.92s/it]"
          ]
        },
        {
          "output_type": "stream",
          "name": "stdout",
          "text": [
            "\n",
            " validation loss: 6.2856\n",
            "\n",
            " Epoch: 45 |Training loss: 0.7164\n"
          ]
        },
        {
          "output_type": "stream",
          "name": "stderr",
          "text": [
            "\rtraining:  47%|████▋     | 47/100 [20:00<22:25, 25.39s/it]"
          ]
        },
        {
          "output_type": "stream",
          "name": "stdout",
          "text": [
            "\n",
            " Epoch: 46 |Training loss: 0.7135\n"
          ]
        },
        {
          "output_type": "stream",
          "name": "stderr",
          "text": [
            "\rtraining:  48%|████▊     | 48/100 [20:25<21:51, 25.22s/it]"
          ]
        },
        {
          "output_type": "stream",
          "name": "stdout",
          "text": [
            "\n",
            " Epoch: 47 |Training loss: 0.7116\n"
          ]
        },
        {
          "output_type": "stream",
          "name": "stderr",
          "text": [
            "\rtraining:  49%|████▉     | 49/100 [20:50<21:19, 25.10s/it]"
          ]
        },
        {
          "output_type": "stream",
          "name": "stdout",
          "text": [
            "\n",
            " Epoch: 48 |Training loss: 0.7091\n"
          ]
        },
        {
          "output_type": "stream",
          "name": "stderr",
          "text": [
            "\rtraining:  50%|█████     | 50/100 [21:15<20:56, 25.13s/it]"
          ]
        },
        {
          "output_type": "stream",
          "name": "stdout",
          "text": [
            "\n",
            " Epoch: 49 |Training loss: 0.7081\n"
          ]
        },
        {
          "output_type": "stream",
          "name": "stderr",
          "text": [
            "\rtraining:  51%|█████     | 51/100 [21:43<21:16, 26.06s/it]"
          ]
        },
        {
          "output_type": "stream",
          "name": "stdout",
          "text": [
            "\n",
            " validation loss: 6.3383\n",
            "\n",
            " Epoch: 50 |Training loss: 0.7050\n"
          ]
        },
        {
          "output_type": "stream",
          "name": "stderr",
          "text": [
            "\rtraining:  52%|█████▏    | 52/100 [22:08<20:31, 25.65s/it]"
          ]
        },
        {
          "output_type": "stream",
          "name": "stdout",
          "text": [
            "\n",
            " Epoch: 51 |Training loss: 0.7041\n"
          ]
        },
        {
          "output_type": "stream",
          "name": "stderr",
          "text": [
            "\rtraining:  53%|█████▎    | 53/100 [22:33<19:48, 25.30s/it]"
          ]
        },
        {
          "output_type": "stream",
          "name": "stdout",
          "text": [
            "\n",
            " Epoch: 52 |Training loss: 0.7011\n"
          ]
        },
        {
          "output_type": "stream",
          "name": "stderr",
          "text": [
            "\rtraining:  54%|█████▍    | 54/100 [22:57<19:15, 25.12s/it]"
          ]
        },
        {
          "output_type": "stream",
          "name": "stdout",
          "text": [
            "\n",
            " Epoch: 53 |Training loss: 0.6995\n"
          ]
        },
        {
          "output_type": "stream",
          "name": "stderr",
          "text": [
            "\rtraining:  55%|█████▌    | 55/100 [23:22<18:48, 25.08s/it]"
          ]
        },
        {
          "output_type": "stream",
          "name": "stdout",
          "text": [
            "\n",
            " Epoch: 54 |Training loss: 0.6967\n"
          ]
        },
        {
          "output_type": "stream",
          "name": "stderr",
          "text": [
            "\rtraining:  56%|█████▌    | 56/100 [23:51<19:14, 26.24s/it]"
          ]
        },
        {
          "output_type": "stream",
          "name": "stdout",
          "text": [
            "\n",
            " validation loss: 6.3687\n",
            "\n",
            " Epoch: 55 |Training loss: 0.6952\n"
          ]
        },
        {
          "output_type": "stream",
          "name": "stderr",
          "text": [
            "\rtraining:  57%|█████▋    | 57/100 [24:16<18:31, 25.85s/it]"
          ]
        },
        {
          "output_type": "stream",
          "name": "stdout",
          "text": [
            "\n",
            " Epoch: 56 |Training loss: 0.6933\n"
          ]
        },
        {
          "output_type": "stream",
          "name": "stderr",
          "text": [
            "\rtraining:  58%|█████▊    | 58/100 [24:41<17:53, 25.56s/it]"
          ]
        },
        {
          "output_type": "stream",
          "name": "stdout",
          "text": [
            "\n",
            " Epoch: 57 |Training loss: 0.6908\n"
          ]
        },
        {
          "output_type": "stream",
          "name": "stderr",
          "text": [
            "\rtraining:  59%|█████▉    | 59/100 [25:05<17:10, 25.12s/it]"
          ]
        },
        {
          "output_type": "stream",
          "name": "stdout",
          "text": [
            "\n",
            " Epoch: 58 |Training loss: 0.6886\n"
          ]
        },
        {
          "output_type": "stream",
          "name": "stderr",
          "text": [
            "\rtraining:  60%|██████    | 60/100 [25:29<16:32, 24.81s/it]"
          ]
        },
        {
          "output_type": "stream",
          "name": "stdout",
          "text": [
            "\n",
            " Epoch: 59 |Training loss: 0.6873\n"
          ]
        },
        {
          "output_type": "stream",
          "name": "stderr",
          "text": [
            "\rtraining:  61%|██████    | 61/100 [25:59<17:01, 26.20s/it]"
          ]
        },
        {
          "output_type": "stream",
          "name": "stdout",
          "text": [
            "\n",
            " validation loss: 6.3766\n",
            "\n",
            " Epoch: 60 |Training loss: 0.6856\n"
          ]
        },
        {
          "output_type": "stream",
          "name": "stderr",
          "text": [
            "\rtraining:  62%|██████▏   | 62/100 [26:25<16:32, 26.11s/it]"
          ]
        },
        {
          "output_type": "stream",
          "name": "stdout",
          "text": [
            "\n",
            " Epoch: 61 |Training loss: 0.6828\n"
          ]
        },
        {
          "output_type": "stream",
          "name": "stderr",
          "text": [
            "\rtraining:  63%|██████▎   | 63/100 [26:50<15:57, 25.88s/it]"
          ]
        },
        {
          "output_type": "stream",
          "name": "stdout",
          "text": [
            "\n",
            " Epoch: 62 |Training loss: 0.6808\n"
          ]
        },
        {
          "output_type": "stream",
          "name": "stderr",
          "text": [
            "\rtraining:  64%|██████▍   | 64/100 [27:16<15:28, 25.80s/it]"
          ]
        },
        {
          "output_type": "stream",
          "name": "stdout",
          "text": [
            "\n",
            " Epoch: 63 |Training loss: 0.6787\n"
          ]
        },
        {
          "output_type": "stream",
          "name": "stderr",
          "text": [
            "\rtraining:  65%|██████▌   | 65/100 [27:41<15:00, 25.73s/it]"
          ]
        },
        {
          "output_type": "stream",
          "name": "stdout",
          "text": [
            "\n",
            " Epoch: 64 |Training loss: 0.6771\n"
          ]
        },
        {
          "output_type": "stream",
          "name": "stderr",
          "text": [
            "\rtraining:  66%|██████▌   | 66/100 [28:11<15:11, 26.82s/it]"
          ]
        },
        {
          "output_type": "stream",
          "name": "stdout",
          "text": [
            "\n",
            " validation loss: 6.4080\n",
            "\n",
            " Epoch: 65 |Training loss: 0.6751\n"
          ]
        },
        {
          "output_type": "stream",
          "name": "stderr",
          "text": [
            "\rtraining:  67%|██████▋   | 67/100 [28:36<14:32, 26.44s/it]"
          ]
        },
        {
          "output_type": "stream",
          "name": "stdout",
          "text": [
            "\n",
            " Epoch: 66 |Training loss: 0.6731\n"
          ]
        },
        {
          "output_type": "stream",
          "name": "stderr",
          "text": [
            "\rtraining:  68%|██████▊   | 68/100 [29:02<13:59, 26.24s/it]"
          ]
        },
        {
          "output_type": "stream",
          "name": "stdout",
          "text": [
            "\n",
            " Epoch: 67 |Training loss: 0.6716\n"
          ]
        },
        {
          "output_type": "stream",
          "name": "stderr",
          "text": [
            "\rtraining:  69%|██████▉   | 69/100 [29:28<13:30, 26.15s/it]"
          ]
        },
        {
          "output_type": "stream",
          "name": "stdout",
          "text": [
            "\n",
            " Epoch: 68 |Training loss: 0.6684\n"
          ]
        },
        {
          "output_type": "stream",
          "name": "stderr",
          "text": [
            "\rtraining:  70%|███████   | 70/100 [29:53<12:58, 25.95s/it]"
          ]
        },
        {
          "output_type": "stream",
          "name": "stdout",
          "text": [
            "\n",
            " Epoch: 69 |Training loss: 0.6671\n"
          ]
        },
        {
          "output_type": "stream",
          "name": "stderr",
          "text": [
            "\rtraining:  71%|███████   | 71/100 [30:23<13:01, 26.93s/it]"
          ]
        },
        {
          "output_type": "stream",
          "name": "stdout",
          "text": [
            "\n",
            " validation loss: 6.4736\n",
            "\n",
            " Epoch: 70 |Training loss: 0.6648\n"
          ]
        },
        {
          "output_type": "stream",
          "name": "stderr",
          "text": [
            "\rtraining:  72%|███████▏  | 72/100 [30:47<12:16, 26.29s/it]"
          ]
        },
        {
          "output_type": "stream",
          "name": "stdout",
          "text": [
            "\n",
            " Epoch: 71 |Training loss: 0.6634\n"
          ]
        },
        {
          "output_type": "stream",
          "name": "stderr",
          "text": [
            "\rtraining:  73%|███████▎  | 73/100 [31:12<11:40, 25.94s/it]"
          ]
        },
        {
          "output_type": "stream",
          "name": "stdout",
          "text": [
            "\n",
            " Epoch: 72 |Training loss: 0.6608\n"
          ]
        },
        {
          "output_type": "stream",
          "name": "stderr",
          "text": [
            "\rtraining:  74%|███████▍  | 74/100 [31:38<11:10, 25.79s/it]"
          ]
        },
        {
          "output_type": "stream",
          "name": "stdout",
          "text": [
            "\n",
            " Epoch: 73 |Training loss: 0.6593\n"
          ]
        },
        {
          "output_type": "stream",
          "name": "stderr",
          "text": [
            "\rtraining:  75%|███████▌  | 75/100 [32:03<10:41, 25.67s/it]"
          ]
        },
        {
          "output_type": "stream",
          "name": "stdout",
          "text": [
            "\n",
            " Epoch: 74 |Training loss: 0.6565\n"
          ]
        },
        {
          "output_type": "stream",
          "name": "stderr",
          "text": [
            "\rtraining:  76%|███████▌  | 76/100 [32:32<10:41, 26.73s/it]"
          ]
        },
        {
          "output_type": "stream",
          "name": "stdout",
          "text": [
            "\n",
            " validation loss: 6.4970\n",
            "\n",
            " Epoch: 75 |Training loss: 0.6547\n"
          ]
        },
        {
          "output_type": "stream",
          "name": "stderr",
          "text": [
            "\rtraining:  77%|███████▋  | 77/100 [32:58<10:06, 26.39s/it]"
          ]
        },
        {
          "output_type": "stream",
          "name": "stdout",
          "text": [
            "\n",
            " Epoch: 76 |Training loss: 0.6532\n"
          ]
        },
        {
          "output_type": "stream",
          "name": "stderr",
          "text": [
            "\rtraining:  78%|███████▊  | 78/100 [33:23<09:32, 26.02s/it]"
          ]
        },
        {
          "output_type": "stream",
          "name": "stdout",
          "text": [
            "\n",
            " Epoch: 77 |Training loss: 0.6517\n"
          ]
        },
        {
          "output_type": "stream",
          "name": "stderr",
          "text": [
            "\rtraining:  79%|███████▉  | 79/100 [33:48<08:58, 25.66s/it]"
          ]
        },
        {
          "output_type": "stream",
          "name": "stdout",
          "text": [
            "\n",
            " Epoch: 78 |Training loss: 0.6501\n"
          ]
        },
        {
          "output_type": "stream",
          "name": "stderr",
          "text": [
            "\rtraining:  80%|████████  | 80/100 [34:14<08:32, 25.63s/it]"
          ]
        },
        {
          "output_type": "stream",
          "name": "stdout",
          "text": [
            "\n",
            " Epoch: 79 |Training loss: 0.6468\n"
          ]
        },
        {
          "output_type": "stream",
          "name": "stderr",
          "text": [
            "\rtraining:  81%|████████  | 81/100 [34:43<08:28, 26.78s/it]"
          ]
        },
        {
          "output_type": "stream",
          "name": "stdout",
          "text": [
            "\n",
            " validation loss: 6.4955\n",
            "\n",
            " Epoch: 80 |Training loss: 0.6447\n"
          ]
        },
        {
          "output_type": "stream",
          "name": "stderr",
          "text": [
            "\rtraining:  82%|████████▏ | 82/100 [35:09<07:56, 26.46s/it]"
          ]
        },
        {
          "output_type": "stream",
          "name": "stdout",
          "text": [
            "\n",
            " Epoch: 81 |Training loss: 0.6440\n"
          ]
        },
        {
          "output_type": "stream",
          "name": "stderr",
          "text": [
            "\rtraining:  83%|████████▎ | 83/100 [35:34<07:25, 26.19s/it]"
          ]
        },
        {
          "output_type": "stream",
          "name": "stdout",
          "text": [
            "\n",
            " Epoch: 82 |Training loss: 0.6408\n"
          ]
        },
        {
          "output_type": "stream",
          "name": "stderr",
          "text": [
            "\rtraining:  84%|████████▍ | 84/100 [36:00<06:54, 25.93s/it]"
          ]
        },
        {
          "output_type": "stream",
          "name": "stdout",
          "text": [
            "\n",
            " Epoch: 83 |Training loss: 0.6394\n"
          ]
        },
        {
          "output_type": "stream",
          "name": "stderr",
          "text": [
            "\rtraining:  85%|████████▌ | 85/100 [36:25<06:24, 25.64s/it]"
          ]
        },
        {
          "output_type": "stream",
          "name": "stdout",
          "text": [
            "\n",
            " Epoch: 84 |Training loss: 0.6377\n"
          ]
        },
        {
          "output_type": "stream",
          "name": "stderr",
          "text": [
            "\rtraining:  86%|████████▌ | 86/100 [36:53<06:12, 26.60s/it]"
          ]
        },
        {
          "output_type": "stream",
          "name": "stdout",
          "text": [
            "\n",
            " validation loss: 6.5446\n",
            "\n",
            " Epoch: 85 |Training loss: 0.6356\n"
          ]
        },
        {
          "output_type": "stream",
          "name": "stderr",
          "text": [
            "\rtraining:  87%|████████▋ | 87/100 [37:19<05:40, 26.18s/it]"
          ]
        },
        {
          "output_type": "stream",
          "name": "stdout",
          "text": [
            "\n",
            " Epoch: 86 |Training loss: 0.6327\n"
          ]
        },
        {
          "output_type": "stream",
          "name": "stderr",
          "text": [
            "\rtraining:  88%|████████▊ | 88/100 [37:44<05:11, 25.95s/it]"
          ]
        },
        {
          "output_type": "stream",
          "name": "stdout",
          "text": [
            "\n",
            " Epoch: 87 |Training loss: 0.6325\n"
          ]
        },
        {
          "output_type": "stream",
          "name": "stderr",
          "text": [
            "\rtraining:  89%|████████▉ | 89/100 [38:09<04:43, 25.75s/it]"
          ]
        },
        {
          "output_type": "stream",
          "name": "stdout",
          "text": [
            "\n",
            " Epoch: 88 |Training loss: 0.6298\n"
          ]
        },
        {
          "output_type": "stream",
          "name": "stderr",
          "text": [
            "\rtraining:  90%|█████████ | 90/100 [38:35<04:15, 25.59s/it]"
          ]
        },
        {
          "output_type": "stream",
          "name": "stdout",
          "text": [
            "\n",
            " Epoch: 89 |Training loss: 0.6284\n"
          ]
        },
        {
          "output_type": "stream",
          "name": "stderr",
          "text": [
            "\rtraining:  91%|█████████ | 91/100 [39:03<03:58, 26.45s/it]"
          ]
        },
        {
          "output_type": "stream",
          "name": "stdout",
          "text": [
            "\n",
            " validation loss: 6.5951\n",
            "\n",
            " Epoch: 90 |Training loss: 0.6273\n"
          ]
        },
        {
          "output_type": "stream",
          "name": "stderr",
          "text": [
            "\rtraining:  92%|█████████▏| 92/100 [39:28<03:27, 25.98s/it]"
          ]
        },
        {
          "output_type": "stream",
          "name": "stdout",
          "text": [
            "\n",
            " Epoch: 91 |Training loss: 0.6242\n"
          ]
        },
        {
          "output_type": "stream",
          "name": "stderr",
          "text": [
            "\rtraining:  93%|█████████▎| 93/100 [39:53<03:00, 25.73s/it]"
          ]
        },
        {
          "output_type": "stream",
          "name": "stdout",
          "text": [
            "\n",
            " Epoch: 92 |Training loss: 0.6219\n"
          ]
        },
        {
          "output_type": "stream",
          "name": "stderr",
          "text": [
            "\rtraining:  94%|█████████▍| 94/100 [40:18<02:33, 25.63s/it]"
          ]
        },
        {
          "output_type": "stream",
          "name": "stdout",
          "text": [
            "\n",
            " Epoch: 93 |Training loss: 0.6208\n"
          ]
        },
        {
          "output_type": "stream",
          "name": "stderr",
          "text": [
            "\rtraining:  95%|█████████▌| 95/100 [40:44<02:07, 25.55s/it]"
          ]
        },
        {
          "output_type": "stream",
          "name": "stdout",
          "text": [
            "\n",
            " Epoch: 94 |Training loss: 0.6184\n"
          ]
        },
        {
          "output_type": "stream",
          "name": "stderr",
          "text": [
            "\rtraining:  96%|█████████▌| 96/100 [41:13<01:46, 26.61s/it]"
          ]
        },
        {
          "output_type": "stream",
          "name": "stdout",
          "text": [
            "\n",
            " validation loss: 6.6264\n",
            "\n",
            " Epoch: 95 |Training loss: 0.6170\n"
          ]
        },
        {
          "output_type": "stream",
          "name": "stderr",
          "text": [
            "\rtraining:  97%|█████████▋| 97/100 [41:38<01:18, 26.06s/it]"
          ]
        },
        {
          "output_type": "stream",
          "name": "stdout",
          "text": [
            "\n",
            " Epoch: 96 |Training loss: 0.6159\n"
          ]
        },
        {
          "output_type": "stream",
          "name": "stderr",
          "text": [
            "\rtraining:  98%|█████████▊| 98/100 [42:02<00:51, 25.60s/it]"
          ]
        },
        {
          "output_type": "stream",
          "name": "stdout",
          "text": [
            "\n",
            " Epoch: 97 |Training loss: 0.6121\n"
          ]
        },
        {
          "output_type": "stream",
          "name": "stderr",
          "text": [
            "\rtraining:  99%|█████████▉| 99/100 [42:27<00:25, 25.41s/it]"
          ]
        },
        {
          "output_type": "stream",
          "name": "stdout",
          "text": [
            "\n",
            " Epoch: 98 |Training loss: 0.6106\n"
          ]
        },
        {
          "output_type": "stream",
          "name": "stderr",
          "text": [
            "training: 100%|██████████| 100/100 [42:56<00:00, 25.76s/it]"
          ]
        },
        {
          "output_type": "stream",
          "name": "stdout",
          "text": [
            "\n",
            " validation loss: 6.6550\n",
            "\n",
            " Epoch: 99 |Training loss: 0.6090\n",
            "\n",
            "Training complete.\n"
          ]
        },
        {
          "output_type": "stream",
          "name": "stderr",
          "text": [
            "\n"
          ]
        }
      ]
    },
    {
      "cell_type": "code",
      "source": [
        "weights = \"best.pth.tar\"\n",
        "checkpoint = torch.load(output_dir+weights)\n",
        "model.load_state_dict(checkpoint['model_state_dict'])\n",
        "optimizer.load_state_dict(checkpoint['optimizer_state_dict'])\n",
        "epoch = checkpoint['epoch']\n",
        "loss = checkpoint['loss']"
      ],
      "metadata": {
        "id": "Yf1Xo2RmxBOJ"
      },
      "execution_count": 60,
      "outputs": []
    },
    {
      "cell_type": "code",
      "source": [
        "note_to_int = defaultdict(int)\n",
        "note_to_int.update(dict((note, number) for number, note in enumerate(pitchnames)))\n",
        "network_input = []\n",
        "\n",
        "# Generate network input again\n",
        "network_input_generation = []\n",
        "for notes in notes_for_instruments:\n",
        "    if len(notes) - sequence_length<=0:\n",
        "        print(\"canzone troppo corta\")\n",
        "    for i in range(0, len(notes) - sequence_length, 1):\n",
        "      network_input_generation.append([note_to_int[char] for char in notes[i:i + sequence_length]])\n",
        "n_patterns_generation = len(network_input_generation)\n",
        "network_input_generation = np.reshape(network_input_generation, (n_patterns_generation, sequence_length))"
      ],
      "metadata": {
        "id": "ma-q6pTdc3TT"
      },
      "execution_count": 53,
      "outputs": []
    },
    {
      "cell_type": "code",
      "source": [
        "network_input_generation.shape\n"
      ],
      "metadata": {
        "id": "RXPIcEF_c5Jf",
        "colab": {
          "base_uri": "https://localhost:8080/"
        },
        "outputId": "1892694c-3c47-4d9c-9154-37c0e3ca6957"
      },
      "execution_count": 54,
      "outputs": [
        {
          "output_type": "execute_result",
          "data": {
            "text/plain": [
              "(61775, 64)"
            ]
          },
          "metadata": {},
          "execution_count": 54
        }
      ]
    },
    {
      "cell_type": "markdown",
      "source": [
        "The workflow now is:\n",
        "\n",
        "* Pick a seed sequence randomly from your list of inputs (pattern variable)\n",
        "* Pass it as input for your model to generate a new element (note or chord)\n",
        "* Add the new element to your final song and to your pattern list\n",
        "* Remove the first item from pattern\n",
        "* Go to step 2\n",
        "\n",
        "So we generate notes from the neural network based on a sequence of notes picking a random sequence from the input as a starting point for the prediction"
      ],
      "metadata": {
        "id": "t99aD1sb34Hx"
      }
    },
    {
      "cell_type": "code",
      "source": [
        "start = np.random.randint(0, len(network_input_generation)-1)\n",
        "int_to_note = dict((number, note) for number, note in enumerate(pitchnames))\n",
        "pattern = torch.from_numpy(network_input_generation[start]).cuda()\n",
        "\n",
        "prediction_output = model.generate(pattern, 500)"
      ],
      "metadata": {
        "id": "sgVrZGYhc6ql"
      },
      "execution_count": 55,
      "outputs": []
    },
    {
      "cell_type": "code",
      "source": [
        "result_sample=[]\n",
        "\n",
        "for i in range(500):\n",
        "  print(i)\n",
        "  result = int_to_note[prediction_output[i].item()]\n",
        "  print('\\r', 'Predicted ', i, \" \",result, end='')\n",
        "  result_sample.append(result)\n",
        "\n",
        "prediction_output=result_sample"
      ],
      "metadata": {
        "id": "zpD9DXWic8t_",
        "colab": {
          "base_uri": "https://localhost:8080/"
        },
        "outputId": "eaa03e23-ae10-4bac-a23e-a481fb1f7e76"
      },
      "execution_count": 56,
      "outputs": [
        {
          "output_type": "stream",
          "name": "stdout",
          "text": [
            "0\n",
            "\r Predicted  0   G#21\n",
            "\r Predicted  1   G#22\n",
            "\r Predicted  2   G#23\n",
            "\r Predicted  3   G#34\n",
            "\r Predicted  4   B45\n",
            "\r Predicted  5   B46\n",
            "\r Predicted  6   G#27\n",
            "\r Predicted  7   G#38\n",
            "\r Predicted  8   E-59\n",
            "\r Predicted  9   G#210\n",
            "\r Predicted  10   G#311\n",
            "\r Predicted  11   G#412\n",
            "\r Predicted  12   G#213\n",
            "\r Predicted  13   G#314\n",
            "\r Predicted  14   G#415\n",
            "\r Predicted  15   G#216\n",
            "\r Predicted  16   G#317\n",
            "\r Predicted  17   B418\n",
            "\r Predicted  18   G#219\n",
            "\r Predicted  19   G#320\n",
            "\r Predicted  20   G#421\n",
            "\r Predicted  21   G#222\n",
            "\r Predicted  22   G#323\n",
            "\r Predicted  23   G#224\n",
            "\r Predicted  24   G#325\n",
            "\r Predicted  25   G#426\n",
            "\r Predicted  26   G#227\n",
            "\r Predicted  27   G#328\n",
            "\r Predicted  28   G#429\n",
            "\r Predicted  29   G#230\n",
            "\r Predicted  30   G#331\n",
            "\r Predicted  31   B432\n",
            "\r Predicted  32   B433\n",
            "\r Predicted  33   F#434\n",
            "\r Predicted  34   G#235\n",
            "\r Predicted  35   G#336\n",
            "\r Predicted  36   E-537\n",
            "\r Predicted  37   G#238\n",
            "\r Predicted  38   G#339\n",
            "\r Predicted  39   G#240\n",
            "\r Predicted  40   G#341\n",
            "\r Predicted  41   G#442\n",
            "\r Predicted  42   G#243\n",
            "\r Predicted  43   G#344\n",
            "\r Predicted  44   G#445\n",
            "\r Predicted  45   G#246\n",
            "\r Predicted  46   G#347\n",
            "\r Predicted  47   G#448\n",
            "\r Predicted  48   G#249\n",
            "\r Predicted  49   G#350\n",
            "\r Predicted  50   E-551\n",
            "\r Predicted  51   G#252\n",
            "\r Predicted  52   G#353\n",
            "\r Predicted  53   G#254\n",
            "\r Predicted  54   G#355\n",
            "\r Predicted  55   G#456\n",
            "\r Predicted  56   3.857\n",
            "\r Predicted  57   G#258\n",
            "\r Predicted  58   G#359\n",
            "\r Predicted  59   G#460\n",
            "\r Predicted  60   G#261\n",
            "\r Predicted  61   G#362\n",
            "\r Predicted  62   G#263\n",
            "\r Predicted  63   G#364\n",
            "\r Predicted  64   B465\n",
            "\r Predicted  65   B466\n",
            "\r Predicted  66   F#267\n",
            "\r Predicted  67   G268\n",
            "\r Predicted  68   G269\n",
            "\r Predicted  69   G270\n",
            "\r Predicted  70   G271\n",
            "\r Predicted  71   E272\n",
            "\r Predicted  72   D373\n",
            "\r Predicted  73   B274\n",
            "\r Predicted  74   B275\n",
            "\r Predicted  75   D276\n",
            "\r Predicted  76   E277\n",
            "\r Predicted  77   E278\n",
            "\r Predicted  78   E279\n",
            "\r Predicted  79   F#280\n",
            "\r Predicted  80   G281\n",
            "\r Predicted  81   G282\n",
            "\r Predicted  82   G283\n",
            "\r Predicted  83   G284\n",
            "\r Predicted  84   G285\n",
            "\r Predicted  85   G286\n",
            "\r Predicted  86   G287\n",
            "\r Predicted  87   G288\n",
            "\r Predicted  88   G289\n",
            "\r Predicted  89   G290\n",
            "\r Predicted  90   G291\n",
            "\r Predicted  91   G292\n",
            "\r Predicted  92   G293\n",
            "\r Predicted  93   G294\n",
            "\r Predicted  94   G295\n",
            "\r Predicted  95   G296\n",
            "\r Predicted  96   G297\n",
            "\r Predicted  97   G298\n",
            "\r Predicted  98   G299\n",
            "\r Predicted  99   G2100\n",
            "\r Predicted  100   B2101\n",
            "\r Predicted  101   B2102\n",
            "\r Predicted  102   C3103\n",
            "\r Predicted  103   C3104\n",
            "\r Predicted  104   C3105\n",
            "\r Predicted  105   B2106\n",
            "\r Predicted  106   A2107\n",
            "\r Predicted  107   G2108\n",
            "\r Predicted  108   G2109\n",
            "\r Predicted  109   G2110\n",
            "\r Predicted  110   G2111\n",
            "\r Predicted  111   G2112\n",
            "\r Predicted  112   G2113\n",
            "\r Predicted  113   G#4114\n",
            "\r Predicted  114   3.8115\n",
            "\r Predicted  115   B2116\n",
            "\r Predicted  116   B2117\n",
            "\r Predicted  117   A2118\n",
            "\r Predicted  118   A2119\n",
            "\r Predicted  119   A2120\n",
            "\r Predicted  120   A2121\n",
            "\r Predicted  121   B2122\n",
            "\r Predicted  122   G2123\n",
            "\r Predicted  123   F#2124\n",
            "\r Predicted  124   E2125\n",
            "\r Predicted  125   E2126\n",
            "\r Predicted  126   E2127\n",
            "\r Predicted  127   E2128\n",
            "\r Predicted  128   D2129\n",
            "\r Predicted  129   A1130\n",
            "\r Predicted  130   G1131\n",
            "\r Predicted  131   G1132\n",
            "\r Predicted  132   G1133\n",
            "\r Predicted  133   G1134\n",
            "\r Predicted  134   G1135\n",
            "\r Predicted  135   G1136\n",
            "\r Predicted  136   G1137\n",
            "\r Predicted  137   G1138\n",
            "\r Predicted  138   G1139\n",
            "\r Predicted  139   G1140\n",
            "\r Predicted  140   G1141\n",
            "\r Predicted  141   G1142\n",
            "\r Predicted  142   G1143\n",
            "\r Predicted  143   G1144\n",
            "\r Predicted  144   G1145\n",
            "\r Predicted  145   G1146\n",
            "\r Predicted  146   G1147\n",
            "\r Predicted  147   G1148\n",
            "\r Predicted  148   G1149\n",
            "\r Predicted  149   G1150\n",
            "\r Predicted  150   G1151\n",
            "\r Predicted  151   G1152\n",
            "\r Predicted  152   G1153\n",
            "\r Predicted  153   G1154\n",
            "\r Predicted  154   F#1155\n",
            "\r Predicted  155   D2156\n",
            "\r Predicted  156   D2157\n",
            " Predicted  157   D2158\n",
            " Predicted  158   D2159\n",
            " Predicted  159   D2160\n",
            " Predicted  160   D2161\n",
            " Predicted  161   D2162\n",
            " Predicted  162   D2163\n",
            " Predicted  163   D2164\n",
            " Predicted  164   D2165\n",
            " Predicted  165   D2166\n",
            " Predicted  166   D2167\n",
            " Predicted  167   D2168\n",
            " Predicted  168   D2169\n",
            " Predicted  169   D2170\n",
            " Predicted  170   D2171\n",
            " Predicted  171   D2172\n",
            " Predicted  172   D2173\n",
            " Predicted  173   D2174\n",
            " Predicted  174   D2175\n",
            " Predicted  175   D2176\n",
            " Predicted  176   D2177\n",
            " Predicted  177   D2178\n",
            " Predicted  178   D2179\n",
            " Predicted  179   D2180\n",
            " Predicted  180   D2181\n",
            " Predicted  181   D2182\n",
            " Predicted  182   D2183\n",
            " Predicted  183   D2184\n",
            " Predicted  184   D2185\n",
            " Predicted  185   D2186\n",
            " Predicted  186   D2187\n",
            " Predicted  187   D2188\n",
            " Predicted  188   D2189\n",
            " Predicted  189   D2190\n",
            " Predicted  190   D2191\n",
            " Predicted  191   D2192\n",
            " Predicted  192   D2193\n",
            " Predicted  193   A1194\n",
            " Predicted  194   G1195\n",
            " Predicted  195   G1196\n",
            " Predicted  196   G1197\n",
            " Predicted  197   G1198\n",
            " Predicted  198   G1199\n",
            " Predicted  199   G1200\n",
            " Predicted  200   G1201\n",
            " Predicted  201   G1202\n",
            " Predicted  202   G1203\n",
            " Predicted  203   G1204\n",
            " Predicted  204   G1205\n",
            " Predicted  205   G1206\n",
            " Predicted  206   G1207\n",
            " Predicted  207   G1208\n",
            " Predicted  208   F#1209\n",
            " Predicted  209   C2210\n",
            " Predicted  210   D2211\n",
            " Predicted  211   D2212\n",
            " Predicted  212   D2213\n",
            " Predicted  213   D2214\n",
            " Predicted  214   D2215\n",
            " Predicted  215   D2216\n",
            " Predicted  216   D2217\n",
            " Predicted  217   D2218\n",
            " Predicted  218   D2219\n",
            " Predicted  219   D2220\n",
            " Predicted  220   D2221\n",
            " Predicted  221   D2222\n",
            " Predicted  222   D2223\n",
            " Predicted  223   D2224\n",
            " Predicted  224   A1225\n",
            " Predicted  225   A1226\n",
            " Predicted  226   A1227\n",
            " Predicted  227   A1228\n",
            " Predicted  228   A1229\n",
            " Predicted  229   A1230\n",
            " Predicted  230   A1231\n",
            " Predicted  231   A1232\n",
            " Predicted  232   A1233\n",
            " Predicted  233   A1234\n",
            " Predicted  234   A1235\n",
            " Predicted  235   A1236\n",
            " Predicted  236   A1237\n",
            " Predicted  237   G1238\n",
            " Predicted  238   G1239\n",
            " Predicted  239   G1240\n",
            " Predicted  240   G1241\n",
            " Predicted  241   G1242\n",
            " Predicted  242   G1243\n",
            " Predicted  243   G1244\n",
            " Predicted  244   G1245\n",
            " Predicted  245   G1246\n",
            " Predicted  246   G1247\n",
            " Predicted  247   G1248\n",
            " Predicted  248   G1249\n",
            " Predicted  249   G1250\n",
            " Predicted  250   G1251\n",
            " Predicted  251   G1252\n",
            " Predicted  252   G1253\n",
            " Predicted  253   G1254\n",
            " Predicted  254   G1255\n",
            " Predicted  255   G1256\n",
            " Predicted  256   G1257\n",
            " Predicted  257   G1258\n",
            " Predicted  258   G1259\n",
            " Predicted  259   G1260\n",
            " Predicted  260   F#1261\n",
            " Predicted  261   D2262\n",
            " Predicted  262   D2263\n",
            " Predicted  263   D2264\n",
            " Predicted  264   D2265\n",
            " Predicted  265   D2266\n",
            " Predicted  266   D2267\n",
            " Predicted  267   D2268\n",
            " Predicted  268   D2269\n",
            " Predicted  269   D2270\n",
            " Predicted  270   D2271\n",
            " Predicted  271   A1272\n",
            " Predicted  272   A1273\n",
            " Predicted  273   A1274\n",
            " Predicted  274   A1275\n",
            " Predicted  275   A1276\n",
            " Predicted  276   A1277\n",
            " Predicted  277   E1278\n",
            " Predicted  278   G1279\n",
            " Predicted  279   G1280\n",
            " Predicted  280   G1281\n",
            " Predicted  281   G1282\n",
            " Predicted  282   G1283\n",
            " Predicted  283   G1284\n",
            " Predicted  284   G1285\n",
            " Predicted  285   G1286\n",
            " Predicted  286   G1287\n",
            " Predicted  287   G1288\n",
            " Predicted  288   G1289\n",
            " Predicted  289   G1290\n",
            " Predicted  290   G1291\n",
            " Predicted  291   G1292\n",
            " Predicted  292   G1293\n",
            " Predicted  293   G1294\n",
            " Predicted  294   F#1295\n",
            " Predicted  295   G1296\n",
            " Predicted  296   G1297\n",
            " Predicted  297   G1298\n",
            " Predicted  298   G1299\n",
            " Predicted  299   G1300\n",
            " Predicted  300   F#1301\n",
            " Predicted  301   G1302\n",
            " Predicted  302   A1303\n",
            " Predicted  303   D2304\n",
            " Predicted  304   D2305\n",
            " Predicted  305   D2306\n",
            " Predicted  306   D2307\n",
            " Predicted  307   D2308\n",
            " Predicted  308   D2309\n",
            " Predicted  309   D2310\n",
            " Predicted  310   D2311\n",
            " Predicted  311   D2312\n",
            " Predicted  312   D2313\n",
            " Predicted  313   D2314\n",
            " Predicted  314   D2315\n",
            " Predicted  315   D2316\n",
            " Predicted  316   D2317\n",
            " Predicted  317   D2318\n",
            " Predicted  318   D2319\n",
            " Predicted  319   D2320\n",
            " Predicted  320   D2321\n",
            " Predicted  321   A1322\n",
            " Predicted  322   A1323\n",
            " Predicted  323   A1324\n",
            " Predicted  324   G1325\n",
            " Predicted  325   G1326\n",
            " Predicted  326   G1327\n",
            " Predicted  327   G1328\n",
            " Predicted  328   G1329\n",
            " Predicted  329   G1330\n",
            " Predicted  330   G1331\n",
            " Predicted  331   G1332\n",
            " Predicted  332   F#1333\n",
            " Predicted  333   C2334\n",
            " Predicted  334   D2335\n",
            " Predicted  335   D2336\n",
            " Predicted  336   D2337\n",
            " Predicted  337   D2338\n",
            " Predicted  338   D2339\n",
            " Predicted  339   D2340\n",
            " Predicted  340   D2341\n",
            " Predicted  341   D2342\n",
            " Predicted  342   A1343\n",
            " Predicted  343   A1344\n",
            " Predicted  344   A1345\n",
            " Predicted  345   A1346\n",
            " Predicted  346   A1347\n",
            " Predicted  347   A1348\n",
            " Predicted  348   A1349\n",
            " Predicted  349   A1350\n",
            " Predicted  350   A1351\n",
            " Predicted  351   A1352\n",
            " Predicted  352   A1353\n",
            " Predicted  353   A1354\n",
            " Predicted  354   A1355\n",
            " Predicted  355   A1356\n",
            " Predicted  356   A1357\n",
            " Predicted  357   A1358\n",
            " Predicted  358   G1359\n",
            " Predicted  359   G1360\n",
            " Predicted  360   G1361\n",
            " Predicted  361   G1362\n",
            " Predicted  362   G1363\n",
            " Predicted  363   F#1364\n",
            " Predicted  364   G1365\n",
            " Predicted  365   G1366\n",
            " Predicted  366   G1367\n",
            " Predicted  367   G1368\n",
            " Predicted  368   G1369\n",
            " Predicted  369   G1370\n",
            " Predicted  370   G1371\n",
            " Predicted  371   G1372\n",
            " Predicted  372   G1373\n",
            " Predicted  373   G1374\n",
            " Predicted  374   G1375\n",
            " Predicted  375   G1376\n",
            " Predicted  376   G1377\n",
            " Predicted  377   G1378\n",
            " Predicted  378   G1379\n",
            " Predicted  379   G1380\n",
            " Predicted  380   F#1381\n",
            " Predicted  381   G1382\n",
            " Predicted  382   G1383\n",
            " Predicted  383   G1384\n",
            " Predicted  384   G1385\n",
            " Predicted  385   G1386\n",
            " Predicted  386   E1387\n",
            " Predicted  387   F#1388\n",
            " Predicted  388   G1389\n",
            " Predicted  389   A1390\n",
            " Predicted  390   B1391\n",
            " Predicted  391   F#1392\n",
            " Predicted  392   A1393\n",
            " Predicted  393   D2394\n",
            " Predicted  394   D2395\n",
            " Predicted  395   D2396\n",
            " Predicted  396   D2397\n",
            " Predicted  397   D2398\n",
            " Predicted  398   A1399\n",
            " Predicted  399   A1400\n",
            " Predicted  400   A1401\n",
            " Predicted  401   A1402\n",
            " Predicted  402   A1403\n",
            " Predicted  403   E1404\n",
            " Predicted  404   G1405\n",
            " Predicted  405   G1406\n",
            " Predicted  406   G1407\n",
            " Predicted  407   F#1408\n",
            " Predicted  408   A1409\n",
            " Predicted  409   D2410\n",
            " Predicted  410   D2411\n",
            " Predicted  411   D2412\n",
            " Predicted  412   D2413\n",
            " Predicted  413   D2414\n",
            " Predicted  414   D2415\n",
            " Predicted  415   A1416\n",
            " Predicted  416   A1417\n",
            " Predicted  417   A1418\n",
            " Predicted  418   A1419\n",
            " Predicted  419   A1420\n",
            " Predicted  420   A1421\n",
            " Predicted  421   A1422\n",
            " Predicted  422   8.11.2.4423\n",
            " Predicted  423   A1424\n",
            " Predicted  424   A1425\n",
            " Predicted  425   A1426\n",
            " Predicted  426   E1427\n",
            " Predicted  427   G1428\n",
            " Predicted  428   G1429\n",
            " Predicted  429   G1430\n",
            " Predicted  430   G1431\n",
            " Predicted  431   G1432\n",
            " Predicted  432   G1433\n",
            " Predicted  433   G1434\n",
            " Predicted  434   G1435\n",
            " Predicted  435   G1436\n",
            " Predicted  436   G1437\n",
            " Predicted  437   G1438\n",
            " Predicted  438   G1439\n",
            " Predicted  439   G1440\n",
            " Predicted  440   G1441\n",
            " Predicted  441   G1442\n",
            " Predicted  442   G1443\n",
            " Predicted  443   G1444\n",
            " Predicted  444   G1445\n",
            " Predicted  445   G1446\n",
            " Predicted  446   F#1447\n",
            " Predicted  447   A1448\n",
            " Predicted  448   A1449\n",
            " Predicted  449   G1450\n",
            " Predicted  450   F#1451\n",
            " Predicted  451   G1452\n",
            " Predicted  452   A1453\n",
            " Predicted  453   B1454\n",
            " Predicted  454   F#1455\n",
            " Predicted  455   A1456\n",
            " Predicted  456   B1457\n",
            " Predicted  457   D2458\n",
            " Predicted  458   D2459\n",
            " Predicted  459   D2460\n",
            " Predicted  460   D2461\n",
            " Predicted  461   D2462\n",
            " Predicted  462   D2463\n",
            " Predicted  463   D2464\n",
            " Predicted  464   D2465\n",
            " Predicted  465   D2466\n",
            " Predicted  466   D2467\n",
            " Predicted  467   A1468\n",
            " Predicted  468   A1469\n",
            " Predicted  469   A1470\n",
            " Predicted  470   A1471\n",
            " Predicted  471   A1472\n",
            " Predicted  472   A1473\n",
            " Predicted  473   A1474\n",
            " Predicted  474   A1475\n",
            " Predicted  475   A1476\n",
            " Predicted  476   A1477\n",
            " Predicted  477   A1478\n",
            " Predicted  478   A1479\n",
            " Predicted  479   A1480\n",
            " Predicted  480   A1481\n",
            " Predicted  481   A1482\n",
            " Predicted  482   E1483\n",
            " Predicted  483   G1484\n",
            " Predicted  484   G1485\n",
            " Predicted  485   G1486\n",
            " Predicted  486   G1487\n",
            " Predicted  487   G1488\n",
            " Predicted  488   G1489\n",
            " Predicted  489   G1490\n",
            " Predicted  490   G1491\n",
            " Predicted  491   G1492\n",
            " Predicted  492   G1493\n",
            " Predicted  493   G1494\n",
            " Predicted  494   G1495\n",
            " Predicted  495   G1496\n",
            " Predicted  496   G1497\n",
            " Predicted  497   G1498\n",
            " Predicted  498   G1499\n",
            " Predicted  499   G1"
          ]
        }
      ]
    },
    {
      "cell_type": "markdown",
      "source": [
        "The last step is creating a MIDI file from the predictions using music21\n",
        "\n",
        "We create a Stream and add to it the predicted notes and chords adding an offset of 0.5 between elements."
      ],
      "metadata": {
        "id": "gOvEqDS34lZ6"
      }
    },
    {
      "cell_type": "code",
      "source": [
        "offset = 0\n",
        "output_notes = []\n",
        "# create note and chord objects based on the values generated by the model\n",
        "for pattern in prediction_output:\n",
        "    # pattern is a chord\n",
        "    if ('.' in pattern) or pattern.isdigit():\n",
        "        notes_in_chord = pattern.split('.')\n",
        "        notes = []\n",
        "        for current_note in notes_in_chord:\n",
        "            new_note = note.Note(int(current_note))\n",
        "            new_note.storedInstrument = instrument.AcousticGuitar()\n",
        "            notes.append(new_note)\n",
        "        new_chord = chord.Chord(notes)\n",
        "        new_chord.offset = offset\n",
        "        output_notes.append(new_chord)\n",
        "    # pattern is a note\n",
        "    else:\n",
        "        new_note = note.Note(pattern)\n",
        "        new_note.offset = offset\n",
        "        new_note.storedInstrument = instrument.AcousticGuitar()\n",
        "        output_notes.append(new_note)\n",
        "\n",
        "    # increase offset each iteration so that notes do not stack\n",
        "    offset += 0.5\n",
        "\n",
        "midi_stream = stream.Stream(output_notes)\n",
        "midi_stream.write('midi', fp='MySong.mid')"
      ],
      "metadata": {
        "id": "D_9y1wZoc-CY",
        "colab": {
          "base_uri": "https://localhost:8080/",
          "height": 35
        },
        "outputId": "c4a827f0-39a7-4fa9-f899-aa4099abad15"
      },
      "execution_count": 57,
      "outputs": [
        {
          "output_type": "execute_result",
          "data": {
            "text/plain": [
              "'MySong.mid'"
            ],
            "application/vnd.google.colaboratory.intrinsic+json": {
              "type": "string"
            }
          },
          "metadata": {},
          "execution_count": 57
        }
      ]
    }
  ]
}